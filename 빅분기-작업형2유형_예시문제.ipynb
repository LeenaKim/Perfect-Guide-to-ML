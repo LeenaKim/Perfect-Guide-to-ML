{
 "cells": [
  {
   "cell_type": "markdown",
   "metadata": {},
   "source": [
    "# 작업형 제 2유형 예시문제\n",
    "참조 사이트 : https://www.datamanim.com/dataset/03_dataq/main_p2.html <br>\n"
   ]
  },
  {
   "cell_type": "code",
   "execution_count": 1,
   "metadata": {},
   "outputs": [],
   "source": [
    "#그래프 한글띄우기\n",
    "import pandas as pd\n",
    "import matplotlib.pyplot as plt\n",
    "import platform\n",
    "if platform.system() == 'Darwin': \n",
    "        plt.rc('font', family='AppleGothic') \n",
    "elif platform.system() == 'Windows': \n",
    "        plt.rc('font', family='Malgun Gothic') \n",
    "elif platform.system() == 'Linux': \n",
    "        plt.rc('font', family='Malgun Gothic') \n",
    "plt.rcParams['axes.unicode_minus'] = False "
   ]
  },
  {
   "cell_type": "code",
   "execution_count": 158,
   "metadata": {},
   "outputs": [],
   "source": [
    "y_train = pd.read_csv('https://raw.githubusercontent.com/Datamanim/dataq/main/y_train.csv')\n",
    "X_train = pd.read_csv('https://raw.githubusercontent.com/Datamanim/dataq/main/X_train.csv',encoding='euc-kr')\n",
    "test  = pd.read_csv('https://raw.githubusercontent.com/Datamanim/dataq/main/X_test.csv',encoding='euc-kr')"
   ]
  },
  {
   "cell_type": "markdown",
   "metadata": {},
   "source": [
    "## Q1\n",
    "y_train,X_train데이터를 합쳐 trainDf 변수에 저장하라<br>\n",
    "<b>나의 풀이</b>"
   ]
  },
  {
   "cell_type": "code",
   "execution_count": 159,
   "metadata": {},
   "outputs": [],
   "source": [
    "trainDF = X_train.merge(y_train)"
   ]
  },
  {
   "cell_type": "code",
   "execution_count": 5,
   "metadata": {
    "scrolled": true
   },
   "outputs": [
    {
     "data": {
      "text/html": [
       "<div>\n",
       "<style scoped>\n",
       "    .dataframe tbody tr th:only-of-type {\n",
       "        vertical-align: middle;\n",
       "    }\n",
       "\n",
       "    .dataframe tbody tr th {\n",
       "        vertical-align: top;\n",
       "    }\n",
       "\n",
       "    .dataframe thead th {\n",
       "        text-align: right;\n",
       "    }\n",
       "</style>\n",
       "<table border=\"1\" class=\"dataframe\">\n",
       "  <thead>\n",
       "    <tr style=\"text-align: right;\">\n",
       "      <th></th>\n",
       "      <th>cust_id</th>\n",
       "      <th>총구매액</th>\n",
       "      <th>최대구매액</th>\n",
       "      <th>환불금액</th>\n",
       "      <th>주구매상품</th>\n",
       "      <th>주구매지점</th>\n",
       "      <th>내점일수</th>\n",
       "      <th>내점당구매건수</th>\n",
       "      <th>주말방문비율</th>\n",
       "      <th>구매주기</th>\n",
       "      <th>gender</th>\n",
       "    </tr>\n",
       "  </thead>\n",
       "  <tbody>\n",
       "    <tr>\n",
       "      <th>0</th>\n",
       "      <td>0</td>\n",
       "      <td>68282840</td>\n",
       "      <td>11264000</td>\n",
       "      <td>6860000.0</td>\n",
       "      <td>기타</td>\n",
       "      <td>강남점</td>\n",
       "      <td>19</td>\n",
       "      <td>3.894737</td>\n",
       "      <td>0.527027</td>\n",
       "      <td>17</td>\n",
       "      <td>0</td>\n",
       "    </tr>\n",
       "    <tr>\n",
       "      <th>1</th>\n",
       "      <td>1</td>\n",
       "      <td>2136000</td>\n",
       "      <td>2136000</td>\n",
       "      <td>300000.0</td>\n",
       "      <td>스포츠</td>\n",
       "      <td>잠실점</td>\n",
       "      <td>2</td>\n",
       "      <td>1.500000</td>\n",
       "      <td>0.000000</td>\n",
       "      <td>1</td>\n",
       "      <td>0</td>\n",
       "    </tr>\n",
       "    <tr>\n",
       "      <th>2</th>\n",
       "      <td>2</td>\n",
       "      <td>3197000</td>\n",
       "      <td>1639000</td>\n",
       "      <td>NaN</td>\n",
       "      <td>남성 캐주얼</td>\n",
       "      <td>관악점</td>\n",
       "      <td>2</td>\n",
       "      <td>2.000000</td>\n",
       "      <td>0.000000</td>\n",
       "      <td>1</td>\n",
       "      <td>1</td>\n",
       "    </tr>\n",
       "  </tbody>\n",
       "</table>\n",
       "</div>"
      ],
      "text/plain": [
       "   cust_id      총구매액     최대구매액       환불금액   주구매상품 주구매지점  내점일수   내점당구매건수  \\\n",
       "0        0  68282840  11264000  6860000.0      기타   강남점    19  3.894737   \n",
       "1        1   2136000   2136000   300000.0     스포츠   잠실점     2  1.500000   \n",
       "2        2   3197000   1639000        NaN  남성 캐주얼   관악점     2  2.000000   \n",
       "\n",
       "     주말방문비율  구매주기  gender  \n",
       "0  0.527027    17       0  \n",
       "1  0.000000     1       0  \n",
       "2  0.000000     1       1  "
      ]
     },
     "execution_count": 5,
     "metadata": {},
     "output_type": "execute_result"
    }
   ],
   "source": [
    "trainDF.head(3)"
   ]
  },
  {
   "cell_type": "markdown",
   "metadata": {},
   "source": [
    "<b>해답</b>"
   ]
  },
  {
   "cell_type": "code",
   "execution_count": null,
   "metadata": {},
   "outputs": [],
   "source": [
    "trainDf = pd.merge(y_train,X_train)"
   ]
  },
  {
   "cell_type": "markdown",
   "metadata": {},
   "source": [
    "## Q2\n",
    "trainDf와 X_test의 결측치가 있는 컬럼의 숫자 및 결측치 숫자를 파악하고 결측치처리 방식에 대해 생각해보자<br>\n",
    "<b>나의 풀이</b>"
   ]
  },
  {
   "cell_type": "code",
   "execution_count": 6,
   "metadata": {},
   "outputs": [
    {
     "name": "stdout",
     "output_type": "stream",
     "text": [
      "<class 'pandas.core.frame.DataFrame'>\n",
      "Int64Index: 3500 entries, 0 to 3499\n",
      "Data columns (total 11 columns):\n",
      " #   Column   Non-Null Count  Dtype  \n",
      "---  ------   --------------  -----  \n",
      " 0   cust_id  3500 non-null   int64  \n",
      " 1   총구매액     3500 non-null   int64  \n",
      " 2   최대구매액    3500 non-null   int64  \n",
      " 3   환불금액     1205 non-null   float64\n",
      " 4   주구매상품    3500 non-null   object \n",
      " 5   주구매지점    3500 non-null   object \n",
      " 6   내점일수     3500 non-null   int64  \n",
      " 7   내점당구매건수  3500 non-null   float64\n",
      " 8   주말방문비율   3500 non-null   float64\n",
      " 9   구매주기     3500 non-null   int64  \n",
      " 10  gender   3500 non-null   int64  \n",
      "dtypes: float64(3), int64(6), object(2)\n",
      "memory usage: 328.1+ KB\n"
     ]
    }
   ],
   "source": [
    "trainDF.info()\n",
    "# 환불금액에 결측치 존재 "
   ]
  },
  {
   "cell_type": "code",
   "execution_count": 7,
   "metadata": {},
   "outputs": [
    {
     "name": "stdout",
     "output_type": "stream",
     "text": [
      "<class 'pandas.core.frame.DataFrame'>\n",
      "RangeIndex: 2482 entries, 0 to 2481\n",
      "Data columns (total 10 columns):\n",
      " #   Column   Non-Null Count  Dtype  \n",
      "---  ------   --------------  -----  \n",
      " 0   cust_id  2482 non-null   int64  \n",
      " 1   총구매액     2482 non-null   int64  \n",
      " 2   최대구매액    2482 non-null   int64  \n",
      " 3   환불금액     871 non-null    float64\n",
      " 4   주구매상품    2482 non-null   object \n",
      " 5   주구매지점    2482 non-null   object \n",
      " 6   내점일수     2482 non-null   int64  \n",
      " 7   내점당구매건수  2482 non-null   float64\n",
      " 8   주말방문비율   2482 non-null   float64\n",
      " 9   구매주기     2482 non-null   int64  \n",
      "dtypes: float64(3), int64(5), object(2)\n",
      "memory usage: 194.0+ KB\n"
     ]
    }
   ],
   "source": [
    "test.info()\n",
    "# 환불금액에 결측치 존재 "
   ]
  },
  {
   "cell_type": "code",
   "execution_count": 8,
   "metadata": {},
   "outputs": [
    {
     "data": {
      "text/html": [
       "<div>\n",
       "<style scoped>\n",
       "    .dataframe tbody tr th:only-of-type {\n",
       "        vertical-align: middle;\n",
       "    }\n",
       "\n",
       "    .dataframe tbody tr th {\n",
       "        vertical-align: top;\n",
       "    }\n",
       "\n",
       "    .dataframe thead th {\n",
       "        text-align: right;\n",
       "    }\n",
       "</style>\n",
       "<table border=\"1\" class=\"dataframe\">\n",
       "  <thead>\n",
       "    <tr style=\"text-align: right;\">\n",
       "      <th></th>\n",
       "      <th>cust_id</th>\n",
       "      <th>총구매액</th>\n",
       "      <th>최대구매액</th>\n",
       "      <th>환불금액</th>\n",
       "      <th>내점일수</th>\n",
       "      <th>내점당구매건수</th>\n",
       "      <th>주말방문비율</th>\n",
       "      <th>구매주기</th>\n",
       "      <th>gender</th>\n",
       "    </tr>\n",
       "  </thead>\n",
       "  <tbody>\n",
       "    <tr>\n",
       "      <th>count</th>\n",
       "      <td>3500.000000</td>\n",
       "      <td>3.500000e+03</td>\n",
       "      <td>3.500000e+03</td>\n",
       "      <td>1.205000e+03</td>\n",
       "      <td>3500.000000</td>\n",
       "      <td>3500.000000</td>\n",
       "      <td>3500.000000</td>\n",
       "      <td>3500.000000</td>\n",
       "      <td>3500.000000</td>\n",
       "    </tr>\n",
       "    <tr>\n",
       "      <th>mean</th>\n",
       "      <td>1749.500000</td>\n",
       "      <td>9.191925e+07</td>\n",
       "      <td>1.966424e+07</td>\n",
       "      <td>2.407822e+07</td>\n",
       "      <td>19.253714</td>\n",
       "      <td>2.834963</td>\n",
       "      <td>0.307246</td>\n",
       "      <td>20.958286</td>\n",
       "      <td>0.376000</td>\n",
       "    </tr>\n",
       "    <tr>\n",
       "      <th>std</th>\n",
       "      <td>1010.507298</td>\n",
       "      <td>1.635065e+08</td>\n",
       "      <td>3.199235e+07</td>\n",
       "      <td>4.746453e+07</td>\n",
       "      <td>27.174942</td>\n",
       "      <td>1.912368</td>\n",
       "      <td>0.289752</td>\n",
       "      <td>24.748682</td>\n",
       "      <td>0.484449</td>\n",
       "    </tr>\n",
       "    <tr>\n",
       "      <th>min</th>\n",
       "      <td>0.000000</td>\n",
       "      <td>-5.242152e+07</td>\n",
       "      <td>-2.992000e+06</td>\n",
       "      <td>5.600000e+03</td>\n",
       "      <td>1.000000</td>\n",
       "      <td>1.000000</td>\n",
       "      <td>0.000000</td>\n",
       "      <td>0.000000</td>\n",
       "      <td>0.000000</td>\n",
       "    </tr>\n",
       "    <tr>\n",
       "      <th>25%</th>\n",
       "      <td>874.750000</td>\n",
       "      <td>4.747050e+06</td>\n",
       "      <td>2.875000e+06</td>\n",
       "      <td>2.259000e+06</td>\n",
       "      <td>2.000000</td>\n",
       "      <td>1.666667</td>\n",
       "      <td>0.027291</td>\n",
       "      <td>4.000000</td>\n",
       "      <td>0.000000</td>\n",
       "    </tr>\n",
       "    <tr>\n",
       "      <th>50%</th>\n",
       "      <td>1749.500000</td>\n",
       "      <td>2.822270e+07</td>\n",
       "      <td>9.837000e+06</td>\n",
       "      <td>7.392000e+06</td>\n",
       "      <td>8.000000</td>\n",
       "      <td>2.333333</td>\n",
       "      <td>0.256410</td>\n",
       "      <td>13.000000</td>\n",
       "      <td>0.000000</td>\n",
       "    </tr>\n",
       "    <tr>\n",
       "      <th>75%</th>\n",
       "      <td>2624.250000</td>\n",
       "      <td>1.065079e+08</td>\n",
       "      <td>2.296250e+07</td>\n",
       "      <td>2.412000e+07</td>\n",
       "      <td>25.000000</td>\n",
       "      <td>3.375000</td>\n",
       "      <td>0.448980</td>\n",
       "      <td>28.000000</td>\n",
       "      <td>1.000000</td>\n",
       "    </tr>\n",
       "    <tr>\n",
       "      <th>max</th>\n",
       "      <td>3499.000000</td>\n",
       "      <td>2.323180e+09</td>\n",
       "      <td>7.066290e+08</td>\n",
       "      <td>5.637530e+08</td>\n",
       "      <td>285.000000</td>\n",
       "      <td>22.083333</td>\n",
       "      <td>1.000000</td>\n",
       "      <td>166.000000</td>\n",
       "      <td>1.000000</td>\n",
       "    </tr>\n",
       "  </tbody>\n",
       "</table>\n",
       "</div>"
      ],
      "text/plain": [
       "           cust_id          총구매액         최대구매액          환불금액         내점일수  \\\n",
       "count  3500.000000  3.500000e+03  3.500000e+03  1.205000e+03  3500.000000   \n",
       "mean   1749.500000  9.191925e+07  1.966424e+07  2.407822e+07    19.253714   \n",
       "std    1010.507298  1.635065e+08  3.199235e+07  4.746453e+07    27.174942   \n",
       "min       0.000000 -5.242152e+07 -2.992000e+06  5.600000e+03     1.000000   \n",
       "25%     874.750000  4.747050e+06  2.875000e+06  2.259000e+06     2.000000   \n",
       "50%    1749.500000  2.822270e+07  9.837000e+06  7.392000e+06     8.000000   \n",
       "75%    2624.250000  1.065079e+08  2.296250e+07  2.412000e+07    25.000000   \n",
       "max    3499.000000  2.323180e+09  7.066290e+08  5.637530e+08   285.000000   \n",
       "\n",
       "           내점당구매건수       주말방문비율         구매주기       gender  \n",
       "count  3500.000000  3500.000000  3500.000000  3500.000000  \n",
       "mean      2.834963     0.307246    20.958286     0.376000  \n",
       "std       1.912368     0.289752    24.748682     0.484449  \n",
       "min       1.000000     0.000000     0.000000     0.000000  \n",
       "25%       1.666667     0.027291     4.000000     0.000000  \n",
       "50%       2.333333     0.256410    13.000000     0.000000  \n",
       "75%       3.375000     0.448980    28.000000     1.000000  \n",
       "max      22.083333     1.000000   166.000000     1.000000  "
      ]
     },
     "execution_count": 8,
     "metadata": {},
     "output_type": "execute_result"
    }
   ],
   "source": [
    "trainDF.describe()"
   ]
  },
  {
   "cell_type": "code",
   "execution_count": 157,
   "metadata": {},
   "outputs": [],
   "source": [
    "# 환불금액의 결측치는 평균으로 대체하면 될 듯. \n",
    "trainDF['환불금액'].fillna(trainDF['환불금액'].mean(), inplace=True)"
   ]
  },
  {
   "cell_type": "code",
   "execution_count": 11,
   "metadata": {},
   "outputs": [
    {
     "name": "stdout",
     "output_type": "stream",
     "text": [
      "<class 'pandas.core.frame.DataFrame'>\n",
      "Int64Index: 3500 entries, 0 to 3499\n",
      "Data columns (total 11 columns):\n",
      " #   Column   Non-Null Count  Dtype  \n",
      "---  ------   --------------  -----  \n",
      " 0   cust_id  3500 non-null   int64  \n",
      " 1   총구매액     3500 non-null   int64  \n",
      " 2   최대구매액    3500 non-null   int64  \n",
      " 3   환불금액     3500 non-null   float64\n",
      " 4   주구매상품    3500 non-null   object \n",
      " 5   주구매지점    3500 non-null   object \n",
      " 6   내점일수     3500 non-null   int64  \n",
      " 7   내점당구매건수  3500 non-null   float64\n",
      " 8   주말방문비율   3500 non-null   float64\n",
      " 9   구매주기     3500 non-null   int64  \n",
      " 10  gender   3500 non-null   int64  \n",
      "dtypes: float64(3), int64(6), object(2)\n",
      "memory usage: 328.1+ KB\n"
     ]
    }
   ],
   "source": [
    "trainDF.info()"
   ]
  },
  {
   "cell_type": "code",
   "execution_count": 12,
   "metadata": {
    "scrolled": true
   },
   "outputs": [
    {
     "name": "stdout",
     "output_type": "stream",
     "text": [
      "<class 'pandas.core.frame.DataFrame'>\n",
      "RangeIndex: 2482 entries, 0 to 2481\n",
      "Data columns (total 10 columns):\n",
      " #   Column   Non-Null Count  Dtype  \n",
      "---  ------   --------------  -----  \n",
      " 0   cust_id  2482 non-null   int64  \n",
      " 1   총구매액     2482 non-null   int64  \n",
      " 2   최대구매액    2482 non-null   int64  \n",
      " 3   환불금액     2482 non-null   float64\n",
      " 4   주구매상품    2482 non-null   object \n",
      " 5   주구매지점    2482 non-null   object \n",
      " 6   내점일수     2482 non-null   int64  \n",
      " 7   내점당구매건수  2482 non-null   float64\n",
      " 8   주말방문비율   2482 non-null   float64\n",
      " 9   구매주기     2482 non-null   int64  \n",
      "dtypes: float64(3), int64(5), object(2)\n",
      "memory usage: 194.0+ KB\n"
     ]
    }
   ],
   "source": [
    "test['환불금액'].fillna(test['환불금액'].mean(), inplace=True)\n",
    "test.info()"
   ]
  },
  {
   "cell_type": "markdown",
   "metadata": {},
   "source": [
    "<b>해답</b><br>\n",
    "환불금액의 경우 최솟값이 0이 아니기에, Nan은 결측치가 아닌 환불을 하지않은 경우(0원)로 판단 할수 있다. nan은 0으로 채운다"
   ]
  },
  {
   "cell_type": "code",
   "execution_count": 160,
   "metadata": {},
   "outputs": [],
   "source": [
    "trainDF['환불금액'] =trainDF['환불금액'].fillna(0)\n",
    "test['환불금액'] = test['환불금액'].fillna(0)"
   ]
  },
  {
   "cell_type": "markdown",
   "metadata": {},
   "source": [
    "## Q3\n",
    "범주형 변수의 유일값과 유일값의 갯수를 파악하라<br>\n",
    "<b>나의 풀이</b>"
   ]
  },
  {
   "cell_type": "code",
   "execution_count": 22,
   "metadata": {},
   "outputs": [],
   "source": [
    "# 범주형 변수 : 주구매상품, 주구매지점\n",
    "main_prod = trainDF['주구매상품'].value_counts()\n",
    "main_prod_cnt = main_prod.count()"
   ]
  },
  {
   "cell_type": "code",
   "execution_count": 29,
   "metadata": {},
   "outputs": [
    {
     "name": "stdout",
     "output_type": "stream",
     "text": [
      "주구매상품 유일값 리스트 :  Index(['기타', '가공식품', '농산물', '화장품', '시티웨어', '디자이너', '수산품', '캐주얼', '명품', '섬유잡화',\n",
      "       '골프', '스포츠', '일용잡화', '모피/피혁', '육류', '남성 캐주얼', '구두', '건강식품', '차/커피',\n",
      "       '피혁잡화', '아동', '축산가공', '주방용품', '셔츠', '젓갈/반찬', '주방가전', '트래디셔널', '남성정장',\n",
      "       '생활잡화', '주류', '가구', '커리어', '대형가전', '란제리/내의', '식기', '액세서리', '침구/수예',\n",
      "       '통신/컴퓨터', '보석', '남성 트랜디', '악기', '소형가전'],\n",
      "      dtype='object')\n",
      "주구매상품 유일값 수 :  42\n"
     ]
    }
   ],
   "source": [
    "print('주구매상품 유일값 리스트 : ', main_prod.index)\n",
    "print('주구매상품 유일값 수 : ', main_prod_cnt)"
   ]
  },
  {
   "cell_type": "code",
   "execution_count": 30,
   "metadata": {},
   "outputs": [],
   "source": [
    "main_place = trainDF['주구매지점'].value_counts()\n",
    "main_place_cnt = main_place.count()"
   ]
  },
  {
   "cell_type": "code",
   "execution_count": 31,
   "metadata": {
    "scrolled": true
   },
   "outputs": [
    {
     "name": "stdout",
     "output_type": "stream",
     "text": [
      "주구매지점 유일값 리스트 :  Index(['본  점', '잠실점', '분당점', '부산본점', '영등포점', '일산점', '강남점', '광주점', '노원점',\n",
      "       '청량리점', '대전점', '미아점', '부평점', '동래점', '관악점', '인천점', '안양점', '포항점', '대구점',\n",
      "       '센텀시티점', '울산점', '전주점', '창원점', '상인점'],\n",
      "      dtype='object')\n",
      "주구매지점 유일값 수 :  24\n"
     ]
    }
   ],
   "source": [
    "print('주구매지점 유일값 리스트 : ', main_place.index)\n",
    "print('주구매지점 유일값 수 : ', main_place_cnt)"
   ]
  },
  {
   "cell_type": "markdown",
   "metadata": {},
   "source": [
    "## Q5\n",
    "데이터 정규화 및 one-hot-encoding ,홀드아웃기법, smote방식의 오버샘플링과 랜덤포레스트 모델 학습 및 테스트셋 auc값추출<br>\n",
    "<b>나의 풀이</b>"
   ]
  },
  {
   "cell_type": "code",
   "execution_count": 32,
   "metadata": {},
   "outputs": [
    {
     "name": "stdout",
     "output_type": "stream",
     "text": [
      "<class 'pandas.core.frame.DataFrame'>\n",
      "Int64Index: 3500 entries, 0 to 3499\n",
      "Data columns (total 11 columns):\n",
      " #   Column   Non-Null Count  Dtype  \n",
      "---  ------   --------------  -----  \n",
      " 0   cust_id  3500 non-null   int64  \n",
      " 1   총구매액     3500 non-null   int64  \n",
      " 2   최대구매액    3500 non-null   int64  \n",
      " 3   환불금액     3500 non-null   float64\n",
      " 4   주구매상품    3500 non-null   object \n",
      " 5   주구매지점    3500 non-null   object \n",
      " 6   내점일수     3500 non-null   int64  \n",
      " 7   내점당구매건수  3500 non-null   float64\n",
      " 8   주말방문비율   3500 non-null   float64\n",
      " 9   구매주기     3500 non-null   int64  \n",
      " 10  gender   3500 non-null   int64  \n",
      "dtypes: float64(3), int64(6), object(2)\n",
      "memory usage: 328.1+ KB\n"
     ]
    }
   ],
   "source": [
    "trainDF.info()"
   ]
  },
  {
   "cell_type": "code",
   "execution_count": 34,
   "metadata": {},
   "outputs": [
    {
     "data": {
      "text/plain": [
       "0    2184\n",
       "1    1316\n",
       "Name: gender, dtype: int64"
      ]
     },
     "execution_count": 34,
     "metadata": {},
     "output_type": "execute_result"
    }
   ],
   "source": [
    "trainDF.gender.value_counts()\n",
    "# 0(여자)이 훨씬 많음 => smote 오버샘플링 필요\n",
    "# one-hot-encoding은 string형인 주구매상품, 주구매지점에 필요할듯 "
   ]
  },
  {
   "cell_type": "code",
   "execution_count": 68,
   "metadata": {
    "scrolled": true
   },
   "outputs": [
    {
     "name": "stdout",
     "output_type": "stream",
     "text": [
      "<class 'pandas.core.frame.DataFrame'>\n",
      "Int64Index: 3500 entries, 0 to 3499\n",
      "Data columns (total 11 columns):\n",
      " #   Column   Non-Null Count  Dtype  \n",
      "---  ------   --------------  -----  \n",
      " 0   cust_id  3500 non-null   int64  \n",
      " 1   총구매액     3500 non-null   int64  \n",
      " 2   최대구매액    3500 non-null   int64  \n",
      " 3   환불금액     3500 non-null   float64\n",
      " 4   주구매상품    3500 non-null   uint8  \n",
      " 5   주구매지점    3500 non-null   uint8  \n",
      " 6   내점일수     3500 non-null   int64  \n",
      " 7   내점당구매건수  3500 non-null   float64\n",
      " 8   주말방문비율   3500 non-null   float64\n",
      " 9   구매주기     3500 non-null   int64  \n",
      " 10  gender   3500 non-null   int64  \n",
      "dtypes: float64(3), int64(6), uint8(2)\n",
      "memory usage: 440.3 KB\n"
     ]
    }
   ],
   "source": [
    "trainDF.info()"
   ]
  },
  {
   "cell_type": "code",
   "execution_count": 131,
   "metadata": {},
   "outputs": [],
   "source": [
    "import numpy as np\n",
    "# 이상치 제거 함수 \n",
    "def outlier_rm(data):\n",
    "     q1, q3 = np.percentile(data, [25, 75])\n",
    "     iqr = q3 - q1\n",
    "     lowbound = q1 - iqr * 1.5\n",
    "     highbound = q3 + iqr * 1.5\n",
    "    \n",
    "     return np.where((data > highbound) | (data < lowbound))\n",
    "#    Q1 = data.describe()['25%']\n",
    "#    Q3 = data.describe()['75%']\n",
    "#    IQR = Q3 - Q1\n",
    "#    lowbound = Q1 - IQR * 1.5\n",
    "#    highbound = Q3 + IQR * 1.5\n",
    "    \n",
    "#    return lowbound, highbound"
   ]
  },
  {
   "cell_type": "code",
   "execution_count": 136,
   "metadata": {},
   "outputs": [],
   "source": [
    "from sklearn.preprocessing import StandardScaler\n",
    "from imblearn.over_sampling import SMOTE\n",
    "\n",
    "# 학습데이터 전처리 함수\n",
    "def prepro(df):\n",
    "    # 원핫인코딩\n",
    "    df_ohe = pd.get_dummies(df, columns=['주구매상품', '주구매지점'])\n",
    "    \n",
    "    X = df_ohe.drop(['cust_id', 'gender'], axis=1)\n",
    "    y = df_ohe['gender']\n",
    "    \n",
    "    # 오버샘플링 - smote의 resample()은 독립이 연속, 종속이 분류일때 사용 - 왜인지 사이킷런과 imbalanced 버전이 안맞음\n",
    "#     smote = SMOTE(random_state=0)\n",
    "#     X, y = smote.fit_resample(df[['총구매액', '최대구매액', '환불금액', '내점일수', '내점당구매건수',\n",
    "#                                         '주말방문비율', '구매주기']], df['gender'])\n",
    "#     df2 = pd.DataFrame(X, columns=['총구매액', '최대구매액', '환불금액', '내점일수', '내점당구매건수',\n",
    "#                              '주말방문비율', '구매주기'])\n",
    "#     df2['cust_id'] = df['cust_id']\n",
    "#     df2.merge(df[['주구매상품', '주구매지점']])\n",
    "#     df2['gender'] = y\n",
    "#     smote = SMOTE(random_state=0)\n",
    "#     X, y = smote.fit_sample(X, y)\n",
    "    \n",
    "    # 연속형변수 이상치 제거 \n",
    "    rm_list = ['총구매액', '최대구매액', '환불금액', '내점일수', '내점당구매건수', '주말방문비율', '구매주기']\n",
    "    for rm in rm_list:\n",
    "        mean = X[rm].mean()\n",
    "        print('mean : ', mean)\n",
    "        X.replace(outlier_rm(X[rm]), mean)\n",
    "    \n",
    "    # 정규화 \n",
    "    scaler = StandardScaler()\n",
    "    X = scaler.fit_transform(X)\n",
    "    \n",
    "    return X, y"
   ]
  },
  {
   "cell_type": "code",
   "execution_count": 137,
   "metadata": {},
   "outputs": [
    {
     "name": "stdout",
     "output_type": "stream",
     "text": [
      "mean :  91919251.79714286\n",
      "mean :  19664241.78\n",
      "mean :  8289785.791428572\n",
      "mean :  19.253714285714285\n",
      "mean :  2.8349631428882844\n",
      "mean :  0.30724631601826435\n",
      "mean :  20.958285714285715\n"
     ]
    }
   ],
   "source": [
    "X_train, y_train = prepro(trainDF)"
   ]
  },
  {
   "cell_type": "code",
   "execution_count": 141,
   "metadata": {},
   "outputs": [
    {
     "data": {
      "text/plain": [
       "array([[-0.14458009, -0.26260786, -0.04750476, ...,  0.42992339,\n",
       "        -4.81019033,  4.81019033],\n",
       "       [-0.54918957, -0.54796686, -0.26546133, ...,  0.42992339,\n",
       "         0.20789198, -0.20789198],\n",
       "       [-0.5426996 , -0.56350404, -0.27542885, ...,  0.42992339,\n",
       "         0.20789198, -0.20789198],\n",
       "       ...,\n",
       "       [-0.56179637, -0.61239772, -0.27542885, ...,  0.42992339,\n",
       "         0.20789198, -0.20789198],\n",
       "       [-0.55078606, -0.58348042, -0.27542885, ...,  0.42992339,\n",
       "         0.20789198, -0.20789198],\n",
       "       [ 1.04709431,  0.46792117, -0.07697541, ...,  0.42992339,\n",
       "         0.20789198, -0.20789198]])"
      ]
     },
     "execution_count": 141,
     "metadata": {},
     "output_type": "execute_result"
    }
   ],
   "source": [
    "X_train"
   ]
  },
  {
   "cell_type": "code",
   "execution_count": 138,
   "metadata": {},
   "outputs": [],
   "source": [
    "from sklearn.preprocessing import StandardScaler\n",
    "from imblearn.over_sampling import SMOTE\n",
    "\n",
    "# 테스트 데이터도 전처리 함수\n",
    "def prepro_test(df):\n",
    "    # 원핫인코딩\n",
    "    df_ohe = pd.get_dummies(df, columns=['주구매상품', '주구매지점'])\n",
    "    \n",
    "    # 연속형변수 이상치 제거 \n",
    "    rm_list = ['총구매액', '최대구매액', '환불금액', '내점일수', '내점당구매건수', '주말방문비율', '구매주기']\n",
    "    for rm in rm_list:\n",
    "        mean = df_ohe[rm].mean()\n",
    "        print('mean : ', mean)\n",
    "        df_ohe.replace(outlier_rm(df_ohe[rm]), mean)\n",
    "    \n",
    "    # 정규화 \n",
    "    scaler = StandardScaler()\n",
    "    df_ohe = scaler.fit_transform(df_ohe)\n",
    "    \n",
    "    return df_ohe"
   ]
  },
  {
   "cell_type": "code",
   "execution_count": 139,
   "metadata": {},
   "outputs": [
    {
     "ename": "Exception",
     "evalue": "Data must be 1-dimensional",
     "output_type": "error",
     "traceback": [
      "\u001b[0;31m---------------------------------------------------------------------------\u001b[0m",
      "\u001b[0;31mException\u001b[0m                                 Traceback (most recent call last)",
      "\u001b[0;32m<ipython-input-139-c845947b5a74>\u001b[0m in \u001b[0;36m<module>\u001b[0;34m\u001b[0m\n\u001b[0;32m----> 1\u001b[0;31m \u001b[0mX_test\u001b[0m \u001b[0;34m=\u001b[0m \u001b[0mprepro_test\u001b[0m\u001b[0;34m(\u001b[0m\u001b[0mX_test\u001b[0m\u001b[0;34m)\u001b[0m\u001b[0;34m\u001b[0m\u001b[0;34m\u001b[0m\u001b[0m\n\u001b[0m",
      "\u001b[0;32m<ipython-input-138-fc0703ca4c6f>\u001b[0m in \u001b[0;36mprepro_test\u001b[0;34m(df)\u001b[0m\n\u001b[1;32m      5\u001b[0m \u001b[0;32mdef\u001b[0m \u001b[0mprepro_test\u001b[0m\u001b[0;34m(\u001b[0m\u001b[0mdf\u001b[0m\u001b[0;34m)\u001b[0m\u001b[0;34m:\u001b[0m\u001b[0;34m\u001b[0m\u001b[0;34m\u001b[0m\u001b[0m\n\u001b[1;32m      6\u001b[0m     \u001b[0;31m# 원핫인코딩\u001b[0m\u001b[0;34m\u001b[0m\u001b[0;34m\u001b[0m\u001b[0;34m\u001b[0m\u001b[0m\n\u001b[0;32m----> 7\u001b[0;31m     \u001b[0mdf_ohe\u001b[0m \u001b[0;34m=\u001b[0m \u001b[0mpd\u001b[0m\u001b[0;34m.\u001b[0m\u001b[0mget_dummies\u001b[0m\u001b[0;34m(\u001b[0m\u001b[0mdf\u001b[0m\u001b[0;34m,\u001b[0m \u001b[0mcolumns\u001b[0m\u001b[0;34m=\u001b[0m\u001b[0;34m[\u001b[0m\u001b[0;34m'주구매상품'\u001b[0m\u001b[0;34m,\u001b[0m \u001b[0;34m'주구매지점'\u001b[0m\u001b[0;34m]\u001b[0m\u001b[0;34m)\u001b[0m\u001b[0;34m\u001b[0m\u001b[0;34m\u001b[0m\u001b[0m\n\u001b[0m\u001b[1;32m      8\u001b[0m \u001b[0;34m\u001b[0m\u001b[0m\n\u001b[1;32m      9\u001b[0m     \u001b[0;31m# 연속형변수 이상치 제거\u001b[0m\u001b[0;34m\u001b[0m\u001b[0;34m\u001b[0m\u001b[0;34m\u001b[0m\u001b[0m\n",
      "\u001b[0;32m/usr/local/lib/python3.8/site-packages/pandas/core/reshape/reshape.py\u001b[0m in \u001b[0;36mget_dummies\u001b[0;34m(data, prefix, prefix_sep, dummy_na, columns, sparse, drop_first, dtype)\u001b[0m\n\u001b[1;32m    903\u001b[0m         \u001b[0mresult\u001b[0m \u001b[0;34m=\u001b[0m \u001b[0mconcat\u001b[0m\u001b[0;34m(\u001b[0m\u001b[0mwith_dummies\u001b[0m\u001b[0;34m,\u001b[0m \u001b[0maxis\u001b[0m\u001b[0;34m=\u001b[0m\u001b[0;36m1\u001b[0m\u001b[0;34m)\u001b[0m\u001b[0;34m\u001b[0m\u001b[0;34m\u001b[0m\u001b[0m\n\u001b[1;32m    904\u001b[0m     \u001b[0;32melse\u001b[0m\u001b[0;34m:\u001b[0m\u001b[0;34m\u001b[0m\u001b[0;34m\u001b[0m\u001b[0m\n\u001b[0;32m--> 905\u001b[0;31m         result = _get_dummies_1d(\n\u001b[0m\u001b[1;32m    906\u001b[0m             \u001b[0mdata\u001b[0m\u001b[0;34m,\u001b[0m\u001b[0;34m\u001b[0m\u001b[0;34m\u001b[0m\u001b[0m\n\u001b[1;32m    907\u001b[0m             \u001b[0mprefix\u001b[0m\u001b[0;34m,\u001b[0m\u001b[0;34m\u001b[0m\u001b[0;34m\u001b[0m\u001b[0m\n",
      "\u001b[0;32m/usr/local/lib/python3.8/site-packages/pandas/core/reshape/reshape.py\u001b[0m in \u001b[0;36m_get_dummies_1d\u001b[0;34m(data, prefix, prefix_sep, dummy_na, sparse, drop_first, dtype)\u001b[0m\n\u001b[1;32m    927\u001b[0m \u001b[0;34m\u001b[0m\u001b[0m\n\u001b[1;32m    928\u001b[0m     \u001b[0;31m# Series avoids inconsistent NaN handling\u001b[0m\u001b[0;34m\u001b[0m\u001b[0;34m\u001b[0m\u001b[0;34m\u001b[0m\u001b[0m\n\u001b[0;32m--> 929\u001b[0;31m     \u001b[0mcodes\u001b[0m\u001b[0;34m,\u001b[0m \u001b[0mlevels\u001b[0m \u001b[0;34m=\u001b[0m \u001b[0mfactorize_from_iterable\u001b[0m\u001b[0;34m(\u001b[0m\u001b[0mSeries\u001b[0m\u001b[0;34m(\u001b[0m\u001b[0mdata\u001b[0m\u001b[0;34m)\u001b[0m\u001b[0;34m)\u001b[0m\u001b[0;34m\u001b[0m\u001b[0;34m\u001b[0m\u001b[0m\n\u001b[0m\u001b[1;32m    930\u001b[0m \u001b[0;34m\u001b[0m\u001b[0m\n\u001b[1;32m    931\u001b[0m     \u001b[0;32mif\u001b[0m \u001b[0mdtype\u001b[0m \u001b[0;32mis\u001b[0m \u001b[0;32mNone\u001b[0m\u001b[0;34m:\u001b[0m\u001b[0;34m\u001b[0m\u001b[0;34m\u001b[0m\u001b[0m\n",
      "\u001b[0;32m/usr/local/lib/python3.8/site-packages/pandas/core/series.py\u001b[0m in \u001b[0;36m__init__\u001b[0;34m(self, data, index, dtype, name, copy, fastpath)\u001b[0m\n\u001b[1;32m    325\u001b[0m                     \u001b[0mdata\u001b[0m \u001b[0;34m=\u001b[0m \u001b[0mdata\u001b[0m\u001b[0;34m.\u001b[0m\u001b[0mcopy\u001b[0m\u001b[0;34m(\u001b[0m\u001b[0;34m)\u001b[0m\u001b[0;34m\u001b[0m\u001b[0;34m\u001b[0m\u001b[0m\n\u001b[1;32m    326\u001b[0m             \u001b[0;32melse\u001b[0m\u001b[0;34m:\u001b[0m\u001b[0;34m\u001b[0m\u001b[0;34m\u001b[0m\u001b[0m\n\u001b[0;32m--> 327\u001b[0;31m                 \u001b[0mdata\u001b[0m \u001b[0;34m=\u001b[0m \u001b[0msanitize_array\u001b[0m\u001b[0;34m(\u001b[0m\u001b[0mdata\u001b[0m\u001b[0;34m,\u001b[0m \u001b[0mindex\u001b[0m\u001b[0;34m,\u001b[0m \u001b[0mdtype\u001b[0m\u001b[0;34m,\u001b[0m \u001b[0mcopy\u001b[0m\u001b[0;34m,\u001b[0m \u001b[0mraise_cast_failure\u001b[0m\u001b[0;34m=\u001b[0m\u001b[0;32mTrue\u001b[0m\u001b[0;34m)\u001b[0m\u001b[0;34m\u001b[0m\u001b[0;34m\u001b[0m\u001b[0m\n\u001b[0m\u001b[1;32m    328\u001b[0m \u001b[0;34m\u001b[0m\u001b[0m\n\u001b[1;32m    329\u001b[0m                 \u001b[0mdata\u001b[0m \u001b[0;34m=\u001b[0m \u001b[0mSingleBlockManager\u001b[0m\u001b[0;34m.\u001b[0m\u001b[0mfrom_array\u001b[0m\u001b[0;34m(\u001b[0m\u001b[0mdata\u001b[0m\u001b[0;34m,\u001b[0m \u001b[0mindex\u001b[0m\u001b[0;34m)\u001b[0m\u001b[0;34m\u001b[0m\u001b[0;34m\u001b[0m\u001b[0m\n",
      "\u001b[0;32m/usr/local/lib/python3.8/site-packages/pandas/core/construction.py\u001b[0m in \u001b[0;36msanitize_array\u001b[0;34m(data, index, dtype, copy, raise_cast_failure)\u001b[0m\n\u001b[1;32m    494\u001b[0m     \u001b[0;32melif\u001b[0m \u001b[0msubarr\u001b[0m\u001b[0;34m.\u001b[0m\u001b[0mndim\u001b[0m \u001b[0;34m>\u001b[0m \u001b[0;36m1\u001b[0m\u001b[0;34m:\u001b[0m\u001b[0;34m\u001b[0m\u001b[0;34m\u001b[0m\u001b[0m\n\u001b[1;32m    495\u001b[0m         \u001b[0;32mif\u001b[0m \u001b[0misinstance\u001b[0m\u001b[0;34m(\u001b[0m\u001b[0mdata\u001b[0m\u001b[0;34m,\u001b[0m \u001b[0mnp\u001b[0m\u001b[0;34m.\u001b[0m\u001b[0mndarray\u001b[0m\u001b[0;34m)\u001b[0m\u001b[0;34m:\u001b[0m\u001b[0;34m\u001b[0m\u001b[0;34m\u001b[0m\u001b[0m\n\u001b[0;32m--> 496\u001b[0;31m             \u001b[0;32mraise\u001b[0m \u001b[0mException\u001b[0m\u001b[0;34m(\u001b[0m\u001b[0;34m\"Data must be 1-dimensional\"\u001b[0m\u001b[0;34m)\u001b[0m\u001b[0;34m\u001b[0m\u001b[0;34m\u001b[0m\u001b[0m\n\u001b[0m\u001b[1;32m    497\u001b[0m         \u001b[0;32melse\u001b[0m\u001b[0;34m:\u001b[0m\u001b[0;34m\u001b[0m\u001b[0;34m\u001b[0m\u001b[0m\n\u001b[1;32m    498\u001b[0m             \u001b[0msubarr\u001b[0m \u001b[0;34m=\u001b[0m \u001b[0mcom\u001b[0m\u001b[0;34m.\u001b[0m\u001b[0masarray_tuplesafe\u001b[0m\u001b[0;34m(\u001b[0m\u001b[0mdata\u001b[0m\u001b[0;34m,\u001b[0m \u001b[0mdtype\u001b[0m\u001b[0;34m=\u001b[0m\u001b[0mdtype\u001b[0m\u001b[0;34m)\u001b[0m\u001b[0;34m\u001b[0m\u001b[0;34m\u001b[0m\u001b[0m\n",
      "\u001b[0;31mException\u001b[0m: Data must be 1-dimensional"
     ]
    }
   ],
   "source": [
    "X_test = prepro_test(X_test)"
   ]
  },
  {
   "cell_type": "code",
   "execution_count": null,
   "metadata": {},
   "outputs": [],
   "source": []
  },
  {
   "cell_type": "code",
   "execution_count": 111,
   "metadata": {},
   "outputs": [
    {
     "name": "stdout",
     "output_type": "stream",
     "text": [
      "accuracy_score : 0.659\n",
      "roc_auc_score : 0.592\n"
     ]
    }
   ],
   "source": [
    "# 랜덤포레스트 이용 \n",
    "from sklearn.model_selection import train_test_split\n",
    "from sklearn.ensemble import RandomForestClassifier\n",
    "from sklearn.metrics import accuracy_score\n",
    "from sklearn.metrics import roc_auc_score\n",
    "\n",
    "# 반환된 값을 가지고 학습, 예측, 평가\n",
    "# X_train, X_test, y_train, y_test = train_test_split(X, y, test_size=0.2, random_state=101)\n",
    "\n",
    "rf_clf = RandomForestClassifier()\n",
    "rf_clf.fit(X_train, y_train)\n",
    "pred = rf_clf.predict(X_test)\n",
    "\n",
    "print('accuracy_score : {:0.3f}'.format(accuracy_score(y_test, pred)))\n",
    "print('roc_auc_score : {:0.3f}'.format(roc_auc_score(y_test, pred)))"
   ]
  },
  {
   "cell_type": "code",
   "execution_count": 125,
   "metadata": {},
   "outputs": [
    {
     "name": "stdout",
     "output_type": "stream",
     "text": [
      "     0\n",
      "0    0\n",
      "1    1\n",
      "2    0\n",
      "3    0\n",
      "4    0\n",
      "..  ..\n",
      "695  0\n",
      "696  0\n",
      "697  0\n",
      "698  0\n",
      "699  0\n",
      "\n",
      "[700 rows x 1 columns]\n"
     ]
    }
   ],
   "source": [
    "# csv에 저장 \n",
    "print(pd.DataFrame(pred.reshape(-1, 1)))"
   ]
  },
  {
   "cell_type": "code",
   "execution_count": 128,
   "metadata": {},
   "outputs": [
    {
     "name": "stdout",
     "output_type": "stream",
     "text": [
      "<class 'numpy.ndarray'>\n"
     ]
    }
   ],
   "source": [
    "print(type(X_test))"
   ]
  },
  {
   "cell_type": "code",
   "execution_count": 112,
   "metadata": {},
   "outputs": [
    {
     "name": "stdout",
     "output_type": "stream",
     "text": [
      "[23:45:15] WARNING: /Users/travis/build/dmlc/xgboost/src/learner.cc:1095: Starting in XGBoost 1.3.0, the default evaluation metric used with the objective 'binary:logistic' was changed from 'error' to 'logloss'. Explicitly set eval_metric if you'd like to restore the old behavior.\n",
      "accuracy_score : 0.634\n",
      "roc_auc_score : 0.559\n"
     ]
    },
    {
     "name": "stderr",
     "output_type": "stream",
     "text": [
      "/usr/local/lib/python3.8/site-packages/xgboost/sklearn.py:1146: UserWarning: The use of label encoder in XGBClassifier is deprecated and will be removed in a future release. To remove this warning, do the following: 1) Pass option use_label_encoder=False when constructing XGBClassifier object; and 2) Encode your labels (y) as integers starting with 0, i.e. 0, 1, 2, ..., [num_class - 1].\n",
      "  warnings.warn(label_encoder_deprecation_msg, UserWarning)\n"
     ]
    }
   ],
   "source": [
    "# XGBoost 이용 \n",
    "from xgboost import XGBClassifier\n",
    "\n",
    "xgb = XGBClassifier(n_estimators=100, learning_rate=0.1, max_depth=3)\n",
    "xgb.fit(X_train, y_train)\n",
    "pred = xgb.predict(X_test)\n",
    "print('accuracy_score : {:0.3f}'.format(accuracy_score(y_test, pred)))\n",
    "print('roc_auc_score : {:0.3f}'.format(roc_auc_score(y_test, pred)))"
   ]
  },
  {
   "cell_type": "code",
   "execution_count": 99,
   "metadata": {
    "scrolled": true
   },
   "outputs": [
    {
     "name": "stdout",
     "output_type": "stream",
     "text": [
      "최고 예측 정확도 : 0.6329\n",
      "roc_auc_score : 0.559\n"
     ]
    }
   ],
   "source": [
    "# GridSearchCV 이용\n",
    "from sklearn.model_selection import GridSearchCV\n",
    "\n",
    "params = {\n",
    "    'n_estimators':[100],\n",
    "    'max_depth' : [6, 8, 10, 12],\n",
    "    'min_samples_leaf' : [8, 12, 18],\n",
    "    'min_samples_split' : [8, 16, 20]\n",
    "}\n",
    "\n",
    "rf_clf = RandomForestClassifier()\n",
    "gridCV = GridSearchCV(rf_clf, param_grid = params, cv=3)\n",
    "gridCV.fit(X_train, y_train)\n",
    "\n",
    "print('최고 예측 정확도 : {0:.4f}'.format(gridCV.best_score_))\n",
    "print('roc_auc_score : {:0.3f}'.format(roc_auc_score(y_test, pred)))"
   ]
  },
  {
   "cell_type": "code",
   "execution_count": 101,
   "metadata": {},
   "outputs": [
    {
     "name": "stdout",
     "output_type": "stream",
     "text": [
      "accuracy_score : 0.650\n",
      "roc_auc_score : 0.530\n"
     ]
    }
   ],
   "source": [
    "# 로지스틱 회귀 이용 \n",
    "from sklearn.linear_model import LogisticRegression\n",
    "\n",
    "lg_clf = LogisticRegression()\n",
    "lg_clf.fit(X_train, y_train)\n",
    "pred = lg_clf.predict(X_test)\n",
    "\n",
    "print('accuracy_score : {:0.3f}'.format(accuracy_score(y_test, pred)))\n",
    "print('roc_auc_score : {:0.3f}'.format(roc_auc_score(y_test, pred)))"
   ]
  },
  {
   "cell_type": "code",
   "execution_count": null,
   "metadata": {},
   "outputs": [],
   "source": [
    "# 결론 : 딱히 성능의 큰 차이가 없네.... 만만한 랜덤포레스트로..."
   ]
  },
  {
   "cell_type": "markdown",
   "metadata": {},
   "source": [
    "## 풀이"
   ]
  },
  {
   "cell_type": "code",
   "execution_count": 193,
   "metadata": {},
   "outputs": [],
   "source": [
    "y_train = pd.read_csv('https://raw.githubusercontent.com/Datamanim/dataq/main/y_train.csv')\n",
    "X_train = pd.read_csv('https://raw.githubusercontent.com/Datamanim/dataq/main/X_train.csv',encoding='euc-kr')\n",
    "test  = pd.read_csv('https://raw.githubusercontent.com/Datamanim/dataq/main/X_test.csv',encoding='euc-kr')"
   ]
  },
  {
   "cell_type": "code",
   "execution_count": 194,
   "metadata": {},
   "outputs": [],
   "source": [
    "trainDf = pd.merge(y_train,X_train)"
   ]
  },
  {
   "cell_type": "code",
   "execution_count": 195,
   "metadata": {},
   "outputs": [],
   "source": [
    "trainDf['환불금액'] =trainDf['환불금액'].fillna(0)\n",
    "test['환불금액'] = test['환불금액'].fillna(0)"
   ]
  },
  {
   "cell_type": "code",
   "execution_count": 196,
   "metadata": {},
   "outputs": [],
   "source": [
    "x = trainDf.drop(['cust_id','gender'],axis=1)\n",
    "y = trainDf.gender"
   ]
  },
  {
   "cell_type": "code",
   "execution_count": 214,
   "metadata": {},
   "outputs": [
    {
     "data": {
      "text/plain": [
       "0    2184\n",
       "1    1316\n",
       "Name: gender, dtype: int64"
      ]
     },
     "execution_count": 214,
     "metadata": {},
     "output_type": "execute_result"
    }
   ],
   "source": [
    "y.value_counts()"
   ]
  },
  {
   "cell_type": "code",
   "execution_count": 197,
   "metadata": {},
   "outputs": [],
   "source": [
    "# pd.get_dummies : 알아서 범주형 변수만 변환 \n",
    "x_dum = pd.get_dummies(x)\n",
    "feature_name_lst= x_dum.columns"
   ]
  },
  {
   "cell_type": "code",
   "execution_count": 198,
   "metadata": {},
   "outputs": [],
   "source": [
    "test_dum = pd.get_dummies(test)\n",
    "\n",
    "missing_cols = set( x_dum.columns ) - set( test_dum.columns )\n",
    "for c in missing_cols:\n",
    "    test_dum[c] = 0\n",
    "test_dum = test_dum[x_dum.columns]"
   ]
  },
  {
   "cell_type": "code",
   "execution_count": 199,
   "metadata": {},
   "outputs": [],
   "source": [
    "from sklearn.preprocessing import StandardScaler\n",
    "sc = StandardScaler()\n",
    "sc.fit(x_dum)\n",
    "x_dum = sc.transform(x_dum)\n",
    "test_dum = sc.transform(test_dum)"
   ]
  },
  {
   "cell_type": "code",
   "execution_count": 200,
   "metadata": {},
   "outputs": [
    {
     "name": "stdout",
     "output_type": "stream",
     "text": [
      "[[-0.14458009 -0.26260786 -0.04750476 ... -0.0338255  -0.15871482\n",
      "  -0.0561495 ]\n",
      " [-0.54918957 -0.54796686 -0.26546133 ... -0.0338255  -0.15871482\n",
      "  -0.0561495 ]\n",
      " [-0.5426996  -0.56350404 -0.27542885 ... -0.0338255  -0.15871482\n",
      "  -0.0561495 ]\n",
      " ...\n",
      " [-0.56179637 -0.61239772 -0.27542885 ... 29.563491   -0.15871482\n",
      "  -0.0561495 ]\n",
      " [-0.55078606 -0.58348042 -0.27542885 ... -0.0338255  -0.15871482\n",
      "  -0.0561495 ]\n",
      " [ 1.04709431  0.46792117 -0.07697541 ... -0.0338255  -0.15871482\n",
      "  -0.0561495 ]]\n"
     ]
    }
   ],
   "source": [
    "print(x_dum)"
   ]
  },
  {
   "cell_type": "code",
   "execution_count": 210,
   "metadata": {},
   "outputs": [
    {
     "data": {
      "text/plain": [
       "RandomForestClassifier(max_depth=5, random_state=0)"
      ]
     },
     "execution_count": 210,
     "metadata": {},
     "output_type": "execute_result"
    }
   ],
   "source": [
    "from sklearn.ensemble import RandomForestClassifier\n",
    "\n",
    "clf = RandomForestClassifier(max_depth=5, random_state=0)\n",
    "clf.fit(x_dum, y)"
   ]
  },
  {
   "cell_type": "code",
   "execution_count": 211,
   "metadata": {},
   "outputs": [],
   "source": [
    "from sklearn.metrics import classification_report\n",
    "\n",
    "y_pred = clf.predict_proba(test_dum)"
   ]
  },
  {
   "cell_type": "code",
   "execution_count": 203,
   "metadata": {
    "scrolled": true
   },
   "outputs": [
    {
     "name": "stdout",
     "output_type": "stream",
     "text": [
      "[[-0.1285689   0.07302034 -0.14086725 ... -0.0338255  -0.15871482\n",
      "  -0.0561495 ]\n",
      " [ 1.3372254   0.59065555  1.32052823 ... -0.0338255  -0.15871482\n",
      "  -0.0561495 ]\n",
      " [ 1.30499603 -0.15128409  0.73863402 ... -0.0338255  -0.15871482\n",
      "  -0.0561495 ]\n",
      " ...\n",
      " [ 1.02814582  0.19025261 -0.27542885 ... -0.0338255  -0.15871482\n",
      "  -0.0561495 ]\n",
      " [-0.01790846 -0.048276   -0.27542885 ... -0.0338255  -0.15871482\n",
      "  -0.0561495 ]\n",
      " [-0.55844006 -0.60820862 -0.27542885 ... -0.0338255  -0.15871482\n",
      "  -0.0561495 ]]\n"
     ]
    }
   ],
   "source": [
    "print(test_dum)"
   ]
  },
  {
   "cell_type": "code",
   "execution_count": 217,
   "metadata": {},
   "outputs": [
    {
     "name": "stdout",
     "output_type": "stream",
     "text": [
      "[0.39798419 0.21423117 0.25105012 ... 0.42142924 0.40184614 0.48939921]\n"
     ]
    }
   ],
   "source": [
    "print(y_pred[:,1])"
   ]
  },
  {
   "cell_type": "code",
   "execution_count": 213,
   "metadata": {},
   "outputs": [
    {
     "name": "stdout",
     "output_type": "stream",
     "text": [
      "0.5489303205686591\n",
      "0.5171569463108995\n",
      "0.5078416730952259\n",
      "0.517801972691844\n",
      "0.5196747419730946\n",
      "0.5145314401943408\n",
      "0.513219025758145\n",
      "0.5177477160834166\n",
      "0.5196996529082272\n",
      "0.5016588599102696\n",
      "0.5305457372737842\n",
      "0.5279353083343457\n",
      "0.5255930932394353\n",
      "0.5339699042221951\n",
      "0.5296733739124091\n",
      "0.5095876045248986\n",
      "0.5320084613821647\n",
      "0.5439638992456588\n",
      "0.5048101434381952\n",
      "0.5368261548543529\n",
      "0.5130432348096583\n",
      "0.5527691543304514\n",
      "0.5256828961697245\n",
      "0.5533670495164781\n",
      "0.5186297910615472\n",
      "0.5152229941976157\n",
      "0.5745908899223581\n",
      "0.5058283365308274\n",
      "0.521213544350059\n",
      "0.520949843742991\n",
      "0.5143844541797438\n",
      "0.5309561744451803\n",
      "0.5095361555022481\n",
      "0.528668272676018\n",
      "0.5142171152359144\n",
      "0.5149318443571338\n",
      "0.5074299420157602\n",
      "0.5156976038663711\n",
      "0.5530899870379301\n",
      "0.5165826963911684\n",
      "0.5500576629393733\n",
      "0.5157995206015356\n",
      "0.5441852952641102\n",
      "0.5127735781482309\n",
      "0.5051004177340307\n",
      "0.5052268829716009\n",
      "0.5216065374848272\n",
      "0.5137731544873662\n",
      "0.5209817636420881\n",
      "0.5105549125957071\n",
      "0.557976750879403\n",
      "0.5554985398907563\n",
      "0.5395533224622351\n",
      "0.5351083778145382\n",
      "0.531979262618584\n",
      "0.5184784399348472\n",
      "0.5112640915304089\n",
      "0.5232399478761903\n",
      "0.516456544972312\n",
      "0.527519818881024\n",
      "0.5120067333534268\n",
      "0.5016081958322567\n",
      "0.50307444746624\n",
      "0.5009839445282618\n",
      "0.5612865904724448\n",
      "0.5139655266747458\n",
      "0.5043228824120749\n",
      "0.5243464086273072\n",
      "0.5137060389306605\n",
      "0.5568169873565729\n",
      "0.5361727302610766\n",
      "0.5357692327463213\n",
      "0.5262422670220362\n",
      "0.5673585513975513\n",
      "0.5261915744433449\n",
      "0.5114396092251596\n",
      "0.524629301619507\n",
      "0.5229974952517842\n",
      "0.5861995229839009\n",
      "0.5237490334914733\n",
      "0.5196029338635856\n",
      "0.5197238990026967\n",
      "0.5136289184569541\n",
      "0.5132729736843933\n",
      "0.5182591897028677\n",
      "0.5098982733002883\n",
      "0.516585930086755\n",
      "0.5669352464496658\n",
      "0.5393700759129227\n",
      "0.5056041627857549\n",
      "0.5865731278115388\n",
      "0.58485451932772\n",
      "0.5098994874482587\n",
      "0.5197332288682693\n",
      "0.5229662138828473\n",
      "0.5240392086229109\n",
      "0.5272081249600391\n",
      "0.5330611625428707\n",
      "0.5018636627023221\n",
      "0.5091673243358749\n",
      "0.5217560752662211\n",
      "0.5190107243926686\n",
      "0.5666290035179571\n",
      "0.5272203498197435\n",
      "0.5069451080094644\n",
      "0.5036783248124123\n",
      "0.5272740456154691\n",
      "0.529660568189802\n",
      "0.5090527359665586\n",
      "0.5278260439596307\n",
      "0.6050523538960253\n",
      "0.5466442797344334\n",
      "0.5394141615250502\n",
      "0.5149768585286245\n",
      "0.5514438822337154\n",
      "0.5062932437363645\n",
      "0.5492080766623706\n",
      "0.5161727650282427\n",
      "0.5139083118623043\n",
      "0.5267004485138483\n",
      "0.5206459558851041\n",
      "0.5163325419955082\n",
      "0.5021482806612234\n",
      "0.5076691897272769\n",
      "0.5135179381418353\n",
      "0.5564207720524825\n",
      "0.5152592325530094\n",
      "0.5061172144991174\n",
      "0.5119639969111691\n",
      "0.510898305051966\n",
      "0.5154897780864716\n",
      "0.5144704443295505\n",
      "0.5639460193691174\n",
      "0.5009156794443246\n",
      "0.5154231604220745\n",
      "0.5112903299790272\n",
      "0.5062263720978065\n",
      "0.5106987807816872\n",
      "0.5350353827343932\n",
      "0.5119157400785581\n",
      "0.5102260416786908\n",
      "0.6017615992536473\n",
      "0.5300789193222054\n",
      "0.5471003000135425\n",
      "0.581886938275249\n",
      "0.5210886340817564\n",
      "0.5140074087603993\n",
      "0.508748725237377\n",
      "0.5125534170720256\n",
      "0.5412849310568303\n",
      "0.5418637458970418\n",
      "0.5267588828395445\n",
      "0.5404684987844395\n",
      "0.5124589429820807\n",
      "0.5060774165633393\n",
      "0.5541926723353402\n",
      "0.5035172225675132\n",
      "0.6030093472573871\n",
      "0.502954770157745\n",
      "0.5037379664893911\n",
      "0.5022989742412471\n",
      "0.5032986857378271\n",
      "0.5043812231367862\n",
      "0.5125443363677336\n",
      "0.5060295438853333\n",
      "0.5114242078301632\n",
      "0.5554985398907563\n",
      "0.567500221562802\n",
      "0.5132199757413215\n",
      "0.5167422344359124\n",
      "0.5006750622452412\n",
      "0.567500221562802\n",
      "0.5143865824110864\n",
      "0.5666290035179571\n",
      "0.5335246558920925\n",
      "0.5265406774775727\n",
      "0.5131195797880664\n",
      "0.5372531799506991\n",
      "0.5103791457006104\n",
      "0.5259443827826312\n",
      "0.5242058882827538\n",
      "0.5371000946618095\n",
      "0.5323273019961248\n",
      "0.5137823748322367\n",
      "0.5125106613608917\n",
      "0.5562900360798693\n",
      "0.5087056299613676\n",
      "0.5480466754990523\n",
      "0.5277962297590555\n",
      "0.5152229941976157\n",
      "0.5182408147850248\n",
      "0.5609526748018113\n",
      "0.5184984709774034\n",
      "0.511694816158321\n",
      "0.5228385507348652\n",
      "0.5221583492355119\n",
      "0.5265034100020771\n",
      "0.5675532746084765\n",
      "0.5043312081124474\n",
      "0.5009612798931136\n",
      "0.5099758805841276\n",
      "0.5774814486197923\n",
      "0.5023021423115595\n",
      "0.5218832289416295\n",
      "0.5038633167210148\n",
      "0.5034934665290537\n",
      "0.5120530031212244\n",
      "0.5038739882775903\n",
      "0.524370904807417\n",
      "0.5122097864162305\n",
      "0.5233583696129961\n",
      "0.5058092781912358\n",
      "0.5212211382314631\n",
      "0.5995189549644772\n",
      "0.5273834855090579\n",
      "0.5291411319115457\n",
      "0.5382024859918698\n",
      "0.5056351572567427\n",
      "0.5303499869443979\n",
      "0.5330133878590585\n",
      "0.5355302669184643\n",
      "0.5260375714740837\n",
      "0.5336370233284504\n",
      "0.5234505014296077\n",
      "0.531979262618584\n",
      "0.518280777135612\n",
      "0.5085725914147525\n",
      "0.5193377156352977\n",
      "0.5161924638644015\n",
      "0.5235299763549164\n",
      "0.5172341009730315\n",
      "0.5197238990026967\n",
      "0.528650946920058\n",
      "0.5189633571765492\n",
      "0.5336424672500438\n",
      "0.500137790360682\n",
      "0.5107485936522546\n",
      "0.5338173551614859\n",
      "0.5025019280368115\n",
      "0.5362357051638528\n",
      "0.5575321022062701\n",
      "0.5061532280865313\n",
      "0.5114163627068864\n",
      "0.518944306233666\n",
      "0.5136762685342248\n",
      "0.5131544797559866\n",
      "0.5014941094518792\n",
      "0.5363595652112655\n",
      "0.5271373974533637\n",
      "0.5190107243926686\n",
      "0.5499332711922413\n",
      "0.5157229006789913\n",
      "0.5540613845608754\n",
      "0.510898305051966\n",
      "0.5535484825949017\n",
      "0.5189442040033877\n",
      "0.5140450744328661\n",
      "0.5089196620283027\n",
      "0.5125443363677336\n",
      "0.5039779615741032\n",
      "0.5569557892345918\n",
      "0.5150529977941063\n",
      "0.5953480445313878\n",
      "0.558386823377836\n",
      "0.5254509404972576\n",
      "0.5480978932177049\n",
      "0.5522032971437771\n",
      "0.5526038939484232\n",
      "0.5023425454230064\n",
      "0.5038152458283156\n",
      "0.5303271004039659\n",
      "0.5063359337381086\n",
      "0.5112988533563928\n",
      "0.5013986102788782\n",
      "0.5382696323891383\n",
      "0.5064083118623044\n",
      "0.5036027371272113\n",
      "0.5252229332651152\n",
      "0.5106419718661516\n",
      "0.5051386560169879\n",
      "0.5045128002859748\n",
      "0.5072599795173393\n",
      "0.5219335461626524\n",
      "0.5101869152452649\n",
      "0.5206730994897856\n",
      "0.5083005304810277\n",
      "0.5469042227687629\n",
      "0.5030360717308252\n",
      "0.5210886340817564\n",
      "0.5625369711468017\n",
      "0.5206730994897856\n",
      "0.5419010182162051\n",
      "0.5390871168563212\n",
      "0.5501789253661533\n",
      "0.5123611120833534\n",
      "0.52131267437123\n",
      "0.5779665374741205\n",
      "0.5387716224527462\n",
      "0.5072961655680214\n",
      "0.5152701913240842\n",
      "0.523696921035523\n",
      "0.5352664074096164\n",
      "0.5095836110933226\n",
      "0.5441852952641102\n",
      "0.5253227444518498\n",
      "0.5429342563631676\n",
      "0.5462296625019171\n",
      "0.5458501440694977\n",
      "0.5009121848898574\n",
      "0.51350441215287\n",
      "0.5330196281382927\n",
      "0.5014492933830581\n",
      "0.5143345508349251\n",
      "0.5001253434573593\n",
      "0.5154098992910392\n",
      "0.514151991830191\n",
      "0.6165316077633312\n",
      "0.5552260195843971\n",
      "0.5001869566445939\n",
      "0.5190709609684796\n",
      "0.5137731544873662\n",
      "0.529370904807417\n",
      "0.5379797241900611\n",
      "0.5226771805677023\n",
      "0.5212903849148967\n",
      "0.5591570278851533\n",
      "0.5414333918480276\n",
      "0.5719880175470067\n",
      "0.5230906849665535\n",
      "0.5027978756578435\n",
      "0.5210594053832931\n",
      "0.5110045858143956\n",
      "0.5360132953623128\n",
      "0.5014098096554814\n",
      "0.5156491855988051\n",
      "0.5771785413257612\n",
      "0.5476680512066406\n",
      "0.5255238767320382\n",
      "0.5439246328718346\n",
      "0.5238312065069008\n",
      "0.5505736224586846\n",
      "0.521903358660811\n",
      "342\n"
     ]
    }
   ],
   "source": [
    "cnt = 0\n",
    "for i in y_pred[:, 1]:\n",
    "    if i > 0.5:\n",
    "        print(i)\n",
    "        cnt += 1\n",
    "print(cnt)"
   ]
  },
  {
   "cell_type": "code",
   "execution_count": 218,
   "metadata": {},
   "outputs": [],
   "source": [
    "# 실제 예제는 y_test가 없고 예측값을 csv로 저장하게 되있음 \n",
    "# concat을 하려면 input들이 모두 Series or DF여야함 \n",
    "test_gender = pd.Series(y_pred[:, 1])\n"
   ]
  },
  {
   "cell_type": "code",
   "execution_count": 219,
   "metadata": {},
   "outputs": [],
   "source": [
    "results = pd.concat([test.cust_id, test_gender], axis=1)"
   ]
  },
  {
   "cell_type": "code",
   "execution_count": 220,
   "metadata": {
    "scrolled": false
   },
   "outputs": [
    {
     "data": {
      "text/html": [
       "<div>\n",
       "<style scoped>\n",
       "    .dataframe tbody tr th:only-of-type {\n",
       "        vertical-align: middle;\n",
       "    }\n",
       "\n",
       "    .dataframe tbody tr th {\n",
       "        vertical-align: top;\n",
       "    }\n",
       "\n",
       "    .dataframe thead th {\n",
       "        text-align: right;\n",
       "    }\n",
       "</style>\n",
       "<table border=\"1\" class=\"dataframe\">\n",
       "  <thead>\n",
       "    <tr style=\"text-align: right;\">\n",
       "      <th></th>\n",
       "      <th>cust_id</th>\n",
       "      <th>0</th>\n",
       "    </tr>\n",
       "  </thead>\n",
       "  <tbody>\n",
       "    <tr>\n",
       "      <th>0</th>\n",
       "      <td>3500</td>\n",
       "      <td>0.397984</td>\n",
       "    </tr>\n",
       "    <tr>\n",
       "      <th>1</th>\n",
       "      <td>3501</td>\n",
       "      <td>0.214231</td>\n",
       "    </tr>\n",
       "    <tr>\n",
       "      <th>2</th>\n",
       "      <td>3502</td>\n",
       "      <td>0.251050</td>\n",
       "    </tr>\n",
       "    <tr>\n",
       "      <th>3</th>\n",
       "      <td>3503</td>\n",
       "      <td>0.439549</td>\n",
       "    </tr>\n",
       "    <tr>\n",
       "      <th>4</th>\n",
       "      <td>3504</td>\n",
       "      <td>0.471729</td>\n",
       "    </tr>\n",
       "    <tr>\n",
       "      <th>...</th>\n",
       "      <td>...</td>\n",
       "      <td>...</td>\n",
       "    </tr>\n",
       "    <tr>\n",
       "      <th>2477</th>\n",
       "      <td>5977</td>\n",
       "      <td>0.447329</td>\n",
       "    </tr>\n",
       "    <tr>\n",
       "      <th>2478</th>\n",
       "      <td>5978</td>\n",
       "      <td>0.521903</td>\n",
       "    </tr>\n",
       "    <tr>\n",
       "      <th>2479</th>\n",
       "      <td>5979</td>\n",
       "      <td>0.421429</td>\n",
       "    </tr>\n",
       "    <tr>\n",
       "      <th>2480</th>\n",
       "      <td>5980</td>\n",
       "      <td>0.401846</td>\n",
       "    </tr>\n",
       "    <tr>\n",
       "      <th>2481</th>\n",
       "      <td>5981</td>\n",
       "      <td>0.489399</td>\n",
       "    </tr>\n",
       "  </tbody>\n",
       "</table>\n",
       "<p>2482 rows × 2 columns</p>\n",
       "</div>"
      ],
      "text/plain": [
       "      cust_id         0\n",
       "0        3500  0.397984\n",
       "1        3501  0.214231\n",
       "2        3502  0.251050\n",
       "3        3503  0.439549\n",
       "4        3504  0.471729\n",
       "...       ...       ...\n",
       "2477     5977  0.447329\n",
       "2478     5978  0.521903\n",
       "2479     5979  0.421429\n",
       "2480     5980  0.401846\n",
       "2481     5981  0.489399\n",
       "\n",
       "[2482 rows x 2 columns]"
      ]
     },
     "execution_count": 220,
     "metadata": {},
     "output_type": "execute_result"
    }
   ],
   "source": [
    "results"
   ]
  },
  {
   "cell_type": "code",
   "execution_count": 185,
   "metadata": {},
   "outputs": [],
   "source": [
    "results.to_csv(\"practice_no2.csv\", index=False)"
   ]
  },
  {
   "cell_type": "code",
   "execution_count": null,
   "metadata": {},
   "outputs": [],
   "source": [
    "from sklearn.metrics import roc_auc_score, roc_curve\n",
    "\n",
    "lr_probs = clf.predict_proba(X_test)\n",
    "lr_auc = roc_auc_score(y_test, lr_probs[:,1])\n",
    "lr_auc"
   ]
  },
  {
   "cell_type": "code",
   "execution_count": null,
   "metadata": {},
   "outputs": [],
   "source": []
  }
 ],
 "metadata": {
  "kernelspec": {
   "display_name": "Python 3",
   "language": "python",
   "name": "python3"
  },
  "language_info": {
   "codemirror_mode": {
    "name": "ipython",
    "version": 3
   },
   "file_extension": ".py",
   "mimetype": "text/x-python",
   "name": "python",
   "nbconvert_exporter": "python",
   "pygments_lexer": "ipython3",
   "version": "3.8.5"
  }
 },
 "nbformat": 4,
 "nbformat_minor": 4
}
