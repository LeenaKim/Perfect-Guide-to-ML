{
 "cells": [
  {
   "cell_type": "markdown",
   "metadata": {},
   "source": [
    "# 빅분기 재도전-고객이탈 여부"
   ]
  },
  {
   "cell_type": "code",
   "execution_count": 1,
   "metadata": {},
   "outputs": [],
   "source": [
    "import pandas as pd\n",
    "x_test = pd.read_csv('archive/classification1/X_test.csv')\n",
    "x_train = pd.read_csv('archive/classification1/X_train.csv')\n",
    "y_train = pd.read_csv('archive/classification1/Y_train.csv')"
   ]
  },
  {
   "cell_type": "code",
   "execution_count": 3,
   "metadata": {
    "scrolled": true
   },
   "outputs": [
    {
     "name": "stdout",
     "output_type": "stream",
     "text": [
      "<class 'pandas.core.frame.DataFrame'>\n",
      "RangeIndex: 6499 entries, 0 to 6498\n",
      "Data columns (total 12 columns):\n",
      " #   Column           Non-Null Count  Dtype  \n",
      "---  ------           --------------  -----  \n",
      " 0   CustomerId       6499 non-null   int64  \n",
      " 1   Surname          6499 non-null   object \n",
      " 2   CreditScore      6499 non-null   int64  \n",
      " 3   Geography        6499 non-null   object \n",
      " 4   Gender           6499 non-null   object \n",
      " 5   Age              6499 non-null   int64  \n",
      " 6   Tenure           6499 non-null   int64  \n",
      " 7   Balance          6499 non-null   float64\n",
      " 8   NumOfProducts    6499 non-null   int64  \n",
      " 9   HasCrCard        6499 non-null   int64  \n",
      " 10  IsActiveMember   6499 non-null   int64  \n",
      " 11  EstimatedSalary  6499 non-null   float64\n",
      "dtypes: float64(2), int64(7), object(3)\n",
      "memory usage: 609.4+ KB\n"
     ]
    }
   ],
   "source": [
    "x_train.info()"
   ]
  },
  {
   "cell_type": "code",
   "execution_count": 18,
   "metadata": {},
   "outputs": [
    {
     "name": "stdout",
     "output_type": "stream",
     "text": [
      "<class 'pandas.core.frame.DataFrame'>\n",
      "RangeIndex: 3501 entries, 0 to 3500\n",
      "Data columns (total 12 columns):\n",
      " #   Column           Non-Null Count  Dtype  \n",
      "---  ------           --------------  -----  \n",
      " 0   CustomerId       3501 non-null   int64  \n",
      " 1   Surname          3501 non-null   object \n",
      " 2   CreditScore      3501 non-null   int64  \n",
      " 3   Geography        3501 non-null   object \n",
      " 4   Gender           3501 non-null   object \n",
      " 5   Age              3501 non-null   int64  \n",
      " 6   Tenure           3501 non-null   int64  \n",
      " 7   Balance          3501 non-null   float64\n",
      " 8   NumOfProducts    3501 non-null   int64  \n",
      " 9   HasCrCard        3501 non-null   int64  \n",
      " 10  IsActiveMember   3501 non-null   int64  \n",
      " 11  EstimatedSalary  3501 non-null   float64\n",
      "dtypes: float64(2), int64(7), object(3)\n",
      "memory usage: 328.3+ KB\n"
     ]
    }
   ],
   "source": [
    "x_test.info()"
   ]
  },
  {
   "cell_type": "code",
   "execution_count": 4,
   "metadata": {},
   "outputs": [
    {
     "name": "stdout",
     "output_type": "stream",
     "text": [
      "<class 'pandas.core.frame.DataFrame'>\n",
      "RangeIndex: 6499 entries, 0 to 6498\n",
      "Data columns (total 2 columns):\n",
      " #   Column      Non-Null Count  Dtype\n",
      "---  ------      --------------  -----\n",
      " 0   CustomerId  6499 non-null   int64\n",
      " 1   Exited      6499 non-null   int64\n",
      "dtypes: int64(2)\n",
      "memory usage: 101.7 KB\n"
     ]
    }
   ],
   "source": [
    "y_train.info()"
   ]
  },
  {
   "cell_type": "code",
   "execution_count": 23,
   "metadata": {},
   "outputs": [],
   "source": [
    "# 결측값이 없음. 원핫인코딩 수행 \n",
    "x_train_drop = x_train.drop(['CustomerId', 'Surname'], axis=1)\n",
    "x_test_drop = x_test.drop(['CustomerId', 'Surname'], axis=1)\n",
    "\n",
    "x_train_dummies = pd.get_dummies(x_train_drop)\n",
    "x_test_dummies = pd.get_dummies(x_test_drop)"
   ]
  },
  {
   "cell_type": "code",
   "execution_count": 10,
   "metadata": {},
   "outputs": [],
   "source": [
    "# 시험장에서 문법이나 함수가 기억이 안날때 \n",
    "# help(pd.DataFrame.drop)"
   ]
  },
  {
   "cell_type": "code",
   "execution_count": 25,
   "metadata": {},
   "outputs": [
    {
     "data": {
      "text/html": [
       "<div>\n",
       "<style scoped>\n",
       "    .dataframe tbody tr th:only-of-type {\n",
       "        vertical-align: middle;\n",
       "    }\n",
       "\n",
       "    .dataframe tbody tr th {\n",
       "        vertical-align: top;\n",
       "    }\n",
       "\n",
       "    .dataframe thead th {\n",
       "        text-align: right;\n",
       "    }\n",
       "</style>\n",
       "<table border=\"1\" class=\"dataframe\">\n",
       "  <thead>\n",
       "    <tr style=\"text-align: right;\">\n",
       "      <th></th>\n",
       "      <th>CreditScore</th>\n",
       "      <th>Age</th>\n",
       "      <th>Tenure</th>\n",
       "      <th>Balance</th>\n",
       "      <th>NumOfProducts</th>\n",
       "      <th>HasCrCard</th>\n",
       "      <th>IsActiveMember</th>\n",
       "      <th>EstimatedSalary</th>\n",
       "      <th>Geography_France</th>\n",
       "      <th>Geography_Germany</th>\n",
       "      <th>Geography_Spain</th>\n",
       "      <th>Gender_ male</th>\n",
       "      <th>Gender_Female</th>\n",
       "      <th>Gender_Male</th>\n",
       "      <th>Gender_female</th>\n",
       "    </tr>\n",
       "  </thead>\n",
       "  <tbody>\n",
       "    <tr>\n",
       "      <th>0</th>\n",
       "      <td>791</td>\n",
       "      <td>35</td>\n",
       "      <td>7</td>\n",
       "      <td>52436.20</td>\n",
       "      <td>1</td>\n",
       "      <td>1</td>\n",
       "      <td>0</td>\n",
       "      <td>161051.75</td>\n",
       "      <td>0</td>\n",
       "      <td>1</td>\n",
       "      <td>0</td>\n",
       "      <td>0</td>\n",
       "      <td>1</td>\n",
       "      <td>0</td>\n",
       "      <td>0</td>\n",
       "    </tr>\n",
       "    <tr>\n",
       "      <th>1</th>\n",
       "      <td>705</td>\n",
       "      <td>42</td>\n",
       "      <td>8</td>\n",
       "      <td>166685.92</td>\n",
       "      <td>2</td>\n",
       "      <td>1</td>\n",
       "      <td>1</td>\n",
       "      <td>55313.51</td>\n",
       "      <td>0</td>\n",
       "      <td>1</td>\n",
       "      <td>0</td>\n",
       "      <td>0</td>\n",
       "      <td>0</td>\n",
       "      <td>1</td>\n",
       "      <td>0</td>\n",
       "    </tr>\n",
       "    <tr>\n",
       "      <th>2</th>\n",
       "      <td>543</td>\n",
       "      <td>31</td>\n",
       "      <td>4</td>\n",
       "      <td>138317.94</td>\n",
       "      <td>1</td>\n",
       "      <td>0</td>\n",
       "      <td>0</td>\n",
       "      <td>61843.73</td>\n",
       "      <td>1</td>\n",
       "      <td>0</td>\n",
       "      <td>0</td>\n",
       "      <td>0</td>\n",
       "      <td>1</td>\n",
       "      <td>0</td>\n",
       "      <td>0</td>\n",
       "    </tr>\n",
       "    <tr>\n",
       "      <th>3</th>\n",
       "      <td>709</td>\n",
       "      <td>32</td>\n",
       "      <td>2</td>\n",
       "      <td>0.00</td>\n",
       "      <td>2</td>\n",
       "      <td>0</td>\n",
       "      <td>0</td>\n",
       "      <td>109681.29</td>\n",
       "      <td>1</td>\n",
       "      <td>0</td>\n",
       "      <td>0</td>\n",
       "      <td>0</td>\n",
       "      <td>1</td>\n",
       "      <td>0</td>\n",
       "      <td>0</td>\n",
       "    </tr>\n",
       "    <tr>\n",
       "      <th>4</th>\n",
       "      <td>714</td>\n",
       "      <td>36</td>\n",
       "      <td>1</td>\n",
       "      <td>101609.01</td>\n",
       "      <td>2</td>\n",
       "      <td>1</td>\n",
       "      <td>1</td>\n",
       "      <td>447.73</td>\n",
       "      <td>0</td>\n",
       "      <td>1</td>\n",
       "      <td>0</td>\n",
       "      <td>0</td>\n",
       "      <td>1</td>\n",
       "      <td>0</td>\n",
       "      <td>0</td>\n",
       "    </tr>\n",
       "  </tbody>\n",
       "</table>\n",
       "</div>"
      ],
      "text/plain": [
       "   CreditScore  Age  Tenure    Balance  NumOfProducts  HasCrCard  \\\n",
       "0          791   35       7   52436.20              1          1   \n",
       "1          705   42       8  166685.92              2          1   \n",
       "2          543   31       4  138317.94              1          0   \n",
       "3          709   32       2       0.00              2          0   \n",
       "4          714   36       1  101609.01              2          1   \n",
       "\n",
       "   IsActiveMember  EstimatedSalary  Geography_France  Geography_Germany  \\\n",
       "0               0        161051.75                 0                  1   \n",
       "1               1         55313.51                 0                  1   \n",
       "2               0         61843.73                 1                  0   \n",
       "3               0        109681.29                 1                  0   \n",
       "4               1           447.73                 0                  1   \n",
       "\n",
       "   Geography_Spain  Gender_ male  Gender_Female  Gender_Male  Gender_female  \n",
       "0                0             0              1            0              0  \n",
       "1                0             0              0            1              0  \n",
       "2                0             0              1            0              0  \n",
       "3                0             0              1            0              0  \n",
       "4                0             0              1            0              0  "
      ]
     },
     "execution_count": 25,
     "metadata": {},
     "output_type": "execute_result"
    }
   ],
   "source": [
    "x_train_dummies.head()"
   ]
  },
  {
   "cell_type": "code",
   "execution_count": 26,
   "metadata": {},
   "outputs": [
    {
     "name": "stdout",
     "output_type": "stream",
     "text": [
      "<class 'pandas.core.frame.DataFrame'>\n",
      "RangeIndex: 6499 entries, 0 to 6498\n",
      "Data columns (total 15 columns):\n",
      " #   Column             Non-Null Count  Dtype  \n",
      "---  ------             --------------  -----  \n",
      " 0   CreditScore        6499 non-null   int64  \n",
      " 1   Age                6499 non-null   int64  \n",
      " 2   Tenure             6499 non-null   int64  \n",
      " 3   Balance            6499 non-null   float64\n",
      " 4   NumOfProducts      6499 non-null   int64  \n",
      " 5   HasCrCard          6499 non-null   int64  \n",
      " 6   IsActiveMember     6499 non-null   int64  \n",
      " 7   EstimatedSalary    6499 non-null   float64\n",
      " 8   Geography_France   6499 non-null   uint8  \n",
      " 9   Geography_Germany  6499 non-null   uint8  \n",
      " 10  Geography_Spain    6499 non-null   uint8  \n",
      " 11  Gender_ male       6499 non-null   uint8  \n",
      " 12  Gender_Female      6499 non-null   uint8  \n",
      " 13  Gender_Male        6499 non-null   uint8  \n",
      " 14  Gender_female      6499 non-null   uint8  \n",
      "dtypes: float64(2), int64(6), uint8(7)\n",
      "memory usage: 450.7 KB\n"
     ]
    }
   ],
   "source": [
    "x_train_dummies.info()"
   ]
  },
  {
   "cell_type": "code",
   "execution_count": 27,
   "metadata": {},
   "outputs": [
    {
     "data": {
      "text/html": [
       "<div>\n",
       "<style scoped>\n",
       "    .dataframe tbody tr th:only-of-type {\n",
       "        vertical-align: middle;\n",
       "    }\n",
       "\n",
       "    .dataframe tbody tr th {\n",
       "        vertical-align: top;\n",
       "    }\n",
       "\n",
       "    .dataframe thead th {\n",
       "        text-align: right;\n",
       "    }\n",
       "</style>\n",
       "<table border=\"1\" class=\"dataframe\">\n",
       "  <thead>\n",
       "    <tr style=\"text-align: right;\">\n",
       "      <th></th>\n",
       "      <th>CreditScore</th>\n",
       "      <th>Age</th>\n",
       "      <th>Tenure</th>\n",
       "      <th>Balance</th>\n",
       "      <th>NumOfProducts</th>\n",
       "      <th>HasCrCard</th>\n",
       "      <th>IsActiveMember</th>\n",
       "      <th>EstimatedSalary</th>\n",
       "      <th>Geography_France</th>\n",
       "      <th>Geography_Germany</th>\n",
       "      <th>Geography_Spain</th>\n",
       "      <th>Gender_ male</th>\n",
       "      <th>Gender_Female</th>\n",
       "      <th>Gender_Male</th>\n",
       "      <th>Gender_female</th>\n",
       "    </tr>\n",
       "  </thead>\n",
       "  <tbody>\n",
       "    <tr>\n",
       "      <th>0</th>\n",
       "      <td>802</td>\n",
       "      <td>60</td>\n",
       "      <td>3</td>\n",
       "      <td>92887.06</td>\n",
       "      <td>1</td>\n",
       "      <td>1</td>\n",
       "      <td>0</td>\n",
       "      <td>39473.63</td>\n",
       "      <td>1</td>\n",
       "      <td>0</td>\n",
       "      <td>0</td>\n",
       "      <td>0</td>\n",
       "      <td>1</td>\n",
       "      <td>0</td>\n",
       "      <td>0</td>\n",
       "    </tr>\n",
       "    <tr>\n",
       "      <th>1</th>\n",
       "      <td>602</td>\n",
       "      <td>56</td>\n",
       "      <td>3</td>\n",
       "      <td>115895.22</td>\n",
       "      <td>3</td>\n",
       "      <td>1</td>\n",
       "      <td>0</td>\n",
       "      <td>4176.17</td>\n",
       "      <td>1</td>\n",
       "      <td>0</td>\n",
       "      <td>0</td>\n",
       "      <td>0</td>\n",
       "      <td>1</td>\n",
       "      <td>0</td>\n",
       "      <td>0</td>\n",
       "    </tr>\n",
       "    <tr>\n",
       "      <th>2</th>\n",
       "      <td>801</td>\n",
       "      <td>32</td>\n",
       "      <td>4</td>\n",
       "      <td>75170.54</td>\n",
       "      <td>1</td>\n",
       "      <td>1</td>\n",
       "      <td>1</td>\n",
       "      <td>37898.50</td>\n",
       "      <td>1</td>\n",
       "      <td>0</td>\n",
       "      <td>0</td>\n",
       "      <td>0</td>\n",
       "      <td>1</td>\n",
       "      <td>0</td>\n",
       "      <td>0</td>\n",
       "    </tr>\n",
       "    <tr>\n",
       "      <th>3</th>\n",
       "      <td>693</td>\n",
       "      <td>34</td>\n",
       "      <td>10</td>\n",
       "      <td>107556.06</td>\n",
       "      <td>2</td>\n",
       "      <td>0</td>\n",
       "      <td>0</td>\n",
       "      <td>154631.35</td>\n",
       "      <td>0</td>\n",
       "      <td>0</td>\n",
       "      <td>1</td>\n",
       "      <td>0</td>\n",
       "      <td>1</td>\n",
       "      <td>0</td>\n",
       "      <td>0</td>\n",
       "    </tr>\n",
       "    <tr>\n",
       "      <th>4</th>\n",
       "      <td>592</td>\n",
       "      <td>62</td>\n",
       "      <td>5</td>\n",
       "      <td>0.00</td>\n",
       "      <td>1</td>\n",
       "      <td>1</td>\n",
       "      <td>1</td>\n",
       "      <td>100941.57</td>\n",
       "      <td>1</td>\n",
       "      <td>0</td>\n",
       "      <td>0</td>\n",
       "      <td>0</td>\n",
       "      <td>1</td>\n",
       "      <td>0</td>\n",
       "      <td>0</td>\n",
       "    </tr>\n",
       "  </tbody>\n",
       "</table>\n",
       "</div>"
      ],
      "text/plain": [
       "   CreditScore  Age  Tenure    Balance  NumOfProducts  HasCrCard  \\\n",
       "0          802   60       3   92887.06              1          1   \n",
       "1          602   56       3  115895.22              3          1   \n",
       "2          801   32       4   75170.54              1          1   \n",
       "3          693   34      10  107556.06              2          0   \n",
       "4          592   62       5       0.00              1          1   \n",
       "\n",
       "   IsActiveMember  EstimatedSalary  Geography_France  Geography_Germany  \\\n",
       "0               0         39473.63                 1                  0   \n",
       "1               0          4176.17                 1                  0   \n",
       "2               1         37898.50                 1                  0   \n",
       "3               0        154631.35                 0                  0   \n",
       "4               1        100941.57                 1                  0   \n",
       "\n",
       "   Geography_Spain  Gender_ male  Gender_Female  Gender_Male  Gender_female  \n",
       "0                0             0              1            0              0  \n",
       "1                0             0              1            0              0  \n",
       "2                0             0              1            0              0  \n",
       "3                1             0              1            0              0  \n",
       "4                0             0              1            0              0  "
      ]
     },
     "execution_count": 27,
     "metadata": {},
     "output_type": "execute_result"
    }
   ],
   "source": [
    "x_test_dummies.head()"
   ]
  },
  {
   "cell_type": "code",
   "execution_count": 28,
   "metadata": {},
   "outputs": [
    {
     "name": "stdout",
     "output_type": "stream",
     "text": [
      "<class 'pandas.core.frame.DataFrame'>\n",
      "RangeIndex: 3501 entries, 0 to 3500\n",
      "Data columns (total 15 columns):\n",
      " #   Column             Non-Null Count  Dtype  \n",
      "---  ------             --------------  -----  \n",
      " 0   CreditScore        3501 non-null   int64  \n",
      " 1   Age                3501 non-null   int64  \n",
      " 2   Tenure             3501 non-null   int64  \n",
      " 3   Balance            3501 non-null   float64\n",
      " 4   NumOfProducts      3501 non-null   int64  \n",
      " 5   HasCrCard          3501 non-null   int64  \n",
      " 6   IsActiveMember     3501 non-null   int64  \n",
      " 7   EstimatedSalary    3501 non-null   float64\n",
      " 8   Geography_France   3501 non-null   uint8  \n",
      " 9   Geography_Germany  3501 non-null   uint8  \n",
      " 10  Geography_Spain    3501 non-null   uint8  \n",
      " 11  Gender_ male       3501 non-null   uint8  \n",
      " 12  Gender_Female      3501 non-null   uint8  \n",
      " 13  Gender_Male        3501 non-null   uint8  \n",
      " 14  Gender_female      3501 non-null   uint8  \n",
      "dtypes: float64(2), int64(6), uint8(7)\n",
      "memory usage: 242.9 KB\n"
     ]
    }
   ],
   "source": [
    "x_test_dummies.info()"
   ]
  },
  {
   "cell_type": "code",
   "execution_count": 29,
   "metadata": {},
   "outputs": [],
   "source": [
    "# 스케일링 수행 \n",
    "from sklearn.preprocessing import StandardScaler\n",
    "\n",
    "sc = StandardScaler()\n",
    "sc.fit(x_train_dummies)\n",
    "x_train_scaled = sc.transform(x_train_dummies)\n",
    "x_test_scaled = sc.transform(x_test_dummies)"
   ]
  },
  {
   "cell_type": "code",
   "execution_count": 15,
   "metadata": {},
   "outputs": [],
   "source": [
    "# y 값 튜닝 \n",
    "y_train_drop = y_train.drop(['CustomerId'], axis=1)"
   ]
  },
  {
   "cell_type": "code",
   "execution_count": 30,
   "metadata": {},
   "outputs": [
    {
     "name": "stderr",
     "output_type": "stream",
     "text": [
      "<ipython-input-30-ea2c708af20c>:11: DataConversionWarning: A column-vector y was passed when a 1d array was expected. Please change the shape of y to (n_samples,), for example using ravel().\n",
      "  rf_clf.fit(X_train_prc, y_train_prc)\n"
     ]
    },
    {
     "name": "stdout",
     "output_type": "stream",
     "text": [
      "정확도 : 0.8462\n"
     ]
    }
   ],
   "source": [
    "# 모델 만들기\n",
    "from sklearn.ensemble import RandomForestClassifier\n",
    "from sklearn.model_selection import train_test_split\n",
    "from sklearn.metrics import accuracy_score\n",
    "\n",
    "rf_clf = RandomForestClassifier(max_depth=5, random_state=0)\n",
    "\n",
    "# 정확도 측정을 위해 x_train을 가지고 학습, 예측 데이터 분리해보자. \n",
    "X_train_prc, X_test_prc, y_train_prc, y_test_prc = train_test_split(x_train_scaled, y_train_drop,\n",
    "                                                                   test_size=0.2, random_state=156)\n",
    "rf_clf.fit(X_train_prc, y_train_prc)\n",
    "pred = rf_clf.predict(X_test_prc)\n",
    "print('정확도 : {0:.4f}'.format(accuracy_score(y_test_prc, pred)))"
   ]
  },
  {
   "cell_type": "code",
   "execution_count": 31,
   "metadata": {},
   "outputs": [
    {
     "name": "stderr",
     "output_type": "stream",
     "text": [
      "<ipython-input-31-8368435921de>:2: DataConversionWarning: A column-vector y was passed when a 1d array was expected. Please change the shape of y to (n_samples,), for example using ravel().\n",
      "  rf_clf.fit(x_train_scaled, y_train_drop)\n"
     ]
    },
    {
     "data": {
      "text/plain": [
       "array([[0.50664348, 0.49335652],\n",
       "       [0.2946848 , 0.7053152 ],\n",
       "       [0.87389579, 0.12610421],\n",
       "       ...,\n",
       "       [0.49117917, 0.50882083],\n",
       "       [0.8878581 , 0.1121419 ],\n",
       "       [0.90827745, 0.09172255]])"
      ]
     },
     "execution_count": 31,
     "metadata": {},
     "output_type": "execute_result"
    }
   ],
   "source": [
    "# 다시 x_train_scaled를 가지고 빅분기 폼에 맞게 풀자.\n",
    "rf_clf.fit(x_train_scaled, y_train_drop)\n",
    "pred = rf_clf.predict_proba(x_test_scaled)\n",
    "pred"
   ]
  },
  {
   "cell_type": "code",
   "execution_count": 32,
   "metadata": {},
   "outputs": [],
   "source": [
    "y_test = pd.Series(pred[:, 1])\n",
    "result = pd.concat([x_test.CustomerId, y_test], axis=1)"
   ]
  },
  {
   "cell_type": "code",
   "execution_count": 33,
   "metadata": {},
   "outputs": [
    {
     "data": {
      "text/html": [
       "<div>\n",
       "<style scoped>\n",
       "    .dataframe tbody tr th:only-of-type {\n",
       "        vertical-align: middle;\n",
       "    }\n",
       "\n",
       "    .dataframe tbody tr th {\n",
       "        vertical-align: top;\n",
       "    }\n",
       "\n",
       "    .dataframe thead th {\n",
       "        text-align: right;\n",
       "    }\n",
       "</style>\n",
       "<table border=\"1\" class=\"dataframe\">\n",
       "  <thead>\n",
       "    <tr style=\"text-align: right;\">\n",
       "      <th></th>\n",
       "      <th>CustomerId</th>\n",
       "      <th>0</th>\n",
       "    </tr>\n",
       "  </thead>\n",
       "  <tbody>\n",
       "    <tr>\n",
       "      <th>0</th>\n",
       "      <td>15601012</td>\n",
       "      <td>0.493357</td>\n",
       "    </tr>\n",
       "    <tr>\n",
       "      <th>1</th>\n",
       "      <td>15734762</td>\n",
       "      <td>0.705315</td>\n",
       "    </tr>\n",
       "    <tr>\n",
       "      <th>2</th>\n",
       "      <td>15586757</td>\n",
       "      <td>0.126104</td>\n",
       "    </tr>\n",
       "    <tr>\n",
       "      <th>3</th>\n",
       "      <td>15590888</td>\n",
       "      <td>0.156400</td>\n",
       "    </tr>\n",
       "    <tr>\n",
       "      <th>4</th>\n",
       "      <td>15726087</td>\n",
       "      <td>0.309410</td>\n",
       "    </tr>\n",
       "    <tr>\n",
       "      <th>...</th>\n",
       "      <td>...</td>\n",
       "      <td>...</td>\n",
       "    </tr>\n",
       "    <tr>\n",
       "      <th>3496</th>\n",
       "      <td>15733966</td>\n",
       "      <td>0.472742</td>\n",
       "    </tr>\n",
       "    <tr>\n",
       "      <th>3497</th>\n",
       "      <td>15669994</td>\n",
       "      <td>0.208875</td>\n",
       "    </tr>\n",
       "    <tr>\n",
       "      <th>3498</th>\n",
       "      <td>15712403</td>\n",
       "      <td>0.508821</td>\n",
       "    </tr>\n",
       "    <tr>\n",
       "      <th>3499</th>\n",
       "      <td>15643819</td>\n",
       "      <td>0.112142</td>\n",
       "    </tr>\n",
       "    <tr>\n",
       "      <th>3500</th>\n",
       "      <td>15644962</td>\n",
       "      <td>0.091723</td>\n",
       "    </tr>\n",
       "  </tbody>\n",
       "</table>\n",
       "<p>3501 rows × 2 columns</p>\n",
       "</div>"
      ],
      "text/plain": [
       "      CustomerId         0\n",
       "0       15601012  0.493357\n",
       "1       15734762  0.705315\n",
       "2       15586757  0.126104\n",
       "3       15590888  0.156400\n",
       "4       15726087  0.309410\n",
       "...          ...       ...\n",
       "3496    15733966  0.472742\n",
       "3497    15669994  0.208875\n",
       "3498    15712403  0.508821\n",
       "3499    15643819  0.112142\n",
       "3500    15644962  0.091723\n",
       "\n",
       "[3501 rows x 2 columns]"
      ]
     },
     "execution_count": 33,
     "metadata": {},
     "output_type": "execute_result"
    }
   ],
   "source": [
    "result"
   ]
  },
  {
   "cell_type": "code",
   "execution_count": 34,
   "metadata": {},
   "outputs": [],
   "source": [
    "result.columns = ['CustomerId', 'exited']\n",
    "result.to_csv('archive/classification1/clf1_result.csv')"
   ]
  },
  {
   "cell_type": "code",
   "execution_count": null,
   "metadata": {},
   "outputs": [],
   "source": []
  }
 ],
 "metadata": {
  "kernelspec": {
   "display_name": "Python 3",
   "language": "python",
   "name": "python3"
  },
  "language_info": {
   "codemirror_mode": {
    "name": "ipython",
    "version": 3
   },
   "file_extension": ".py",
   "mimetype": "text/x-python",
   "name": "python",
   "nbconvert_exporter": "python",
   "pygments_lexer": "ipython3",
   "version": "3.8.5"
  }
 },
 "nbformat": 4,
 "nbformat_minor": 4
}
