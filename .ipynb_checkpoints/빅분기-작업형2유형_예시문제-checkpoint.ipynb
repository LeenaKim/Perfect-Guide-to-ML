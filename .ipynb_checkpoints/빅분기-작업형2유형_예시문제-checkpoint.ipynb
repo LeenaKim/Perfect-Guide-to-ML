{
 "cells": [
  {
   "cell_type": "markdown",
   "metadata": {},
   "source": [
    "# 작업형 제 2유형 예시문제\n",
    "참조 사이트 : https://www.datamanim.com/dataset/03_dataq/main_p2.html <br>\n"
   ]
  },
  {
   "cell_type": "code",
   "execution_count": 1,
   "metadata": {},
   "outputs": [],
   "source": [
    "#그래프 한글띄우기\n",
    "import pandas as pd\n",
    "import matplotlib.pyplot as plt\n",
    "import platform\n",
    "if platform.system() == 'Darwin': \n",
    "        plt.rc('font', family='AppleGothic') \n",
    "elif platform.system() == 'Windows': \n",
    "        plt.rc('font', family='Malgun Gothic') \n",
    "elif platform.system() == 'Linux': \n",
    "        plt.rc('font', family='Malgun Gothic') \n",
    "plt.rcParams['axes.unicode_minus'] = False "
   ]
  },
  {
   "cell_type": "code",
   "execution_count": 14,
   "metadata": {},
   "outputs": [],
   "source": [
    "y_train = pd.read_csv('https://raw.githubusercontent.com/Datamanim/dataq/main/y_train.csv')\n",
    "X_train = pd.read_csv('https://raw.githubusercontent.com/Datamanim/dataq/main/X_train.csv',encoding='euc-kr')\n",
    "test  = pd.read_csv('https://raw.githubusercontent.com/Datamanim/dataq/main/X_test.csv',encoding='euc-kr')"
   ]
  },
  {
   "cell_type": "markdown",
   "metadata": {},
   "source": [
    "## Q1\n",
    "y_train,X_train데이터를 합쳐 trainDf 변수에 저장하라<br>\n",
    "<b>나의 풀이</b>"
   ]
  },
  {
   "cell_type": "code",
   "execution_count": 15,
   "metadata": {},
   "outputs": [],
   "source": [
    "trainDF = X_train.merge(y_train)"
   ]
  },
  {
   "cell_type": "code",
   "execution_count": 5,
   "metadata": {
    "scrolled": true
   },
   "outputs": [
    {
     "data": {
      "text/html": [
       "<div>\n",
       "<style scoped>\n",
       "    .dataframe tbody tr th:only-of-type {\n",
       "        vertical-align: middle;\n",
       "    }\n",
       "\n",
       "    .dataframe tbody tr th {\n",
       "        vertical-align: top;\n",
       "    }\n",
       "\n",
       "    .dataframe thead th {\n",
       "        text-align: right;\n",
       "    }\n",
       "</style>\n",
       "<table border=\"1\" class=\"dataframe\">\n",
       "  <thead>\n",
       "    <tr style=\"text-align: right;\">\n",
       "      <th></th>\n",
       "      <th>cust_id</th>\n",
       "      <th>총구매액</th>\n",
       "      <th>최대구매액</th>\n",
       "      <th>환불금액</th>\n",
       "      <th>주구매상품</th>\n",
       "      <th>주구매지점</th>\n",
       "      <th>내점일수</th>\n",
       "      <th>내점당구매건수</th>\n",
       "      <th>주말방문비율</th>\n",
       "      <th>구매주기</th>\n",
       "      <th>gender</th>\n",
       "    </tr>\n",
       "  </thead>\n",
       "  <tbody>\n",
       "    <tr>\n",
       "      <th>0</th>\n",
       "      <td>0</td>\n",
       "      <td>68282840</td>\n",
       "      <td>11264000</td>\n",
       "      <td>6860000.0</td>\n",
       "      <td>기타</td>\n",
       "      <td>강남점</td>\n",
       "      <td>19</td>\n",
       "      <td>3.894737</td>\n",
       "      <td>0.527027</td>\n",
       "      <td>17</td>\n",
       "      <td>0</td>\n",
       "    </tr>\n",
       "    <tr>\n",
       "      <th>1</th>\n",
       "      <td>1</td>\n",
       "      <td>2136000</td>\n",
       "      <td>2136000</td>\n",
       "      <td>300000.0</td>\n",
       "      <td>스포츠</td>\n",
       "      <td>잠실점</td>\n",
       "      <td>2</td>\n",
       "      <td>1.500000</td>\n",
       "      <td>0.000000</td>\n",
       "      <td>1</td>\n",
       "      <td>0</td>\n",
       "    </tr>\n",
       "    <tr>\n",
       "      <th>2</th>\n",
       "      <td>2</td>\n",
       "      <td>3197000</td>\n",
       "      <td>1639000</td>\n",
       "      <td>NaN</td>\n",
       "      <td>남성 캐주얼</td>\n",
       "      <td>관악점</td>\n",
       "      <td>2</td>\n",
       "      <td>2.000000</td>\n",
       "      <td>0.000000</td>\n",
       "      <td>1</td>\n",
       "      <td>1</td>\n",
       "    </tr>\n",
       "  </tbody>\n",
       "</table>\n",
       "</div>"
      ],
      "text/plain": [
       "   cust_id      총구매액     최대구매액       환불금액   주구매상품 주구매지점  내점일수   내점당구매건수  \\\n",
       "0        0  68282840  11264000  6860000.0      기타   강남점    19  3.894737   \n",
       "1        1   2136000   2136000   300000.0     스포츠   잠실점     2  1.500000   \n",
       "2        2   3197000   1639000        NaN  남성 캐주얼   관악점     2  2.000000   \n",
       "\n",
       "     주말방문비율  구매주기  gender  \n",
       "0  0.527027    17       0  \n",
       "1  0.000000     1       0  \n",
       "2  0.000000     1       1  "
      ]
     },
     "execution_count": 5,
     "metadata": {},
     "output_type": "execute_result"
    }
   ],
   "source": [
    "trainDF.head(3)"
   ]
  },
  {
   "cell_type": "markdown",
   "metadata": {},
   "source": [
    "<b>해답</b>"
   ]
  },
  {
   "cell_type": "code",
   "execution_count": null,
   "metadata": {},
   "outputs": [],
   "source": [
    "trainDf = pd.merge(y_train,X_train)"
   ]
  },
  {
   "cell_type": "markdown",
   "metadata": {},
   "source": [
    "## Q2\n",
    "trainDf와 X_test의 결측치가 있는 컬럼의 숫자 및 결측치 숫자를 파악하고 결측치처리 방식에 대해 생각해보자<br>\n",
    "<b>나의 풀이</b>"
   ]
  },
  {
   "cell_type": "code",
   "execution_count": 6,
   "metadata": {},
   "outputs": [
    {
     "name": "stdout",
     "output_type": "stream",
     "text": [
      "<class 'pandas.core.frame.DataFrame'>\n",
      "Int64Index: 3500 entries, 0 to 3499\n",
      "Data columns (total 11 columns):\n",
      " #   Column   Non-Null Count  Dtype  \n",
      "---  ------   --------------  -----  \n",
      " 0   cust_id  3500 non-null   int64  \n",
      " 1   총구매액     3500 non-null   int64  \n",
      " 2   최대구매액    3500 non-null   int64  \n",
      " 3   환불금액     1205 non-null   float64\n",
      " 4   주구매상품    3500 non-null   object \n",
      " 5   주구매지점    3500 non-null   object \n",
      " 6   내점일수     3500 non-null   int64  \n",
      " 7   내점당구매건수  3500 non-null   float64\n",
      " 8   주말방문비율   3500 non-null   float64\n",
      " 9   구매주기     3500 non-null   int64  \n",
      " 10  gender   3500 non-null   int64  \n",
      "dtypes: float64(3), int64(6), object(2)\n",
      "memory usage: 328.1+ KB\n"
     ]
    }
   ],
   "source": [
    "trainDF.info()\n",
    "# 환불금액에 결측치 존재 "
   ]
  },
  {
   "cell_type": "code",
   "execution_count": 7,
   "metadata": {},
   "outputs": [
    {
     "name": "stdout",
     "output_type": "stream",
     "text": [
      "<class 'pandas.core.frame.DataFrame'>\n",
      "RangeIndex: 2482 entries, 0 to 2481\n",
      "Data columns (total 10 columns):\n",
      " #   Column   Non-Null Count  Dtype  \n",
      "---  ------   --------------  -----  \n",
      " 0   cust_id  2482 non-null   int64  \n",
      " 1   총구매액     2482 non-null   int64  \n",
      " 2   최대구매액    2482 non-null   int64  \n",
      " 3   환불금액     871 non-null    float64\n",
      " 4   주구매상품    2482 non-null   object \n",
      " 5   주구매지점    2482 non-null   object \n",
      " 6   내점일수     2482 non-null   int64  \n",
      " 7   내점당구매건수  2482 non-null   float64\n",
      " 8   주말방문비율   2482 non-null   float64\n",
      " 9   구매주기     2482 non-null   int64  \n",
      "dtypes: float64(3), int64(5), object(2)\n",
      "memory usage: 194.0+ KB\n"
     ]
    }
   ],
   "source": [
    "test.info()\n",
    "# 환불금액에 결측치 존재 "
   ]
  },
  {
   "cell_type": "code",
   "execution_count": 8,
   "metadata": {},
   "outputs": [
    {
     "data": {
      "text/html": [
       "<div>\n",
       "<style scoped>\n",
       "    .dataframe tbody tr th:only-of-type {\n",
       "        vertical-align: middle;\n",
       "    }\n",
       "\n",
       "    .dataframe tbody tr th {\n",
       "        vertical-align: top;\n",
       "    }\n",
       "\n",
       "    .dataframe thead th {\n",
       "        text-align: right;\n",
       "    }\n",
       "</style>\n",
       "<table border=\"1\" class=\"dataframe\">\n",
       "  <thead>\n",
       "    <tr style=\"text-align: right;\">\n",
       "      <th></th>\n",
       "      <th>cust_id</th>\n",
       "      <th>총구매액</th>\n",
       "      <th>최대구매액</th>\n",
       "      <th>환불금액</th>\n",
       "      <th>내점일수</th>\n",
       "      <th>내점당구매건수</th>\n",
       "      <th>주말방문비율</th>\n",
       "      <th>구매주기</th>\n",
       "      <th>gender</th>\n",
       "    </tr>\n",
       "  </thead>\n",
       "  <tbody>\n",
       "    <tr>\n",
       "      <th>count</th>\n",
       "      <td>3500.000000</td>\n",
       "      <td>3.500000e+03</td>\n",
       "      <td>3.500000e+03</td>\n",
       "      <td>1.205000e+03</td>\n",
       "      <td>3500.000000</td>\n",
       "      <td>3500.000000</td>\n",
       "      <td>3500.000000</td>\n",
       "      <td>3500.000000</td>\n",
       "      <td>3500.000000</td>\n",
       "    </tr>\n",
       "    <tr>\n",
       "      <th>mean</th>\n",
       "      <td>1749.500000</td>\n",
       "      <td>9.191925e+07</td>\n",
       "      <td>1.966424e+07</td>\n",
       "      <td>2.407822e+07</td>\n",
       "      <td>19.253714</td>\n",
       "      <td>2.834963</td>\n",
       "      <td>0.307246</td>\n",
       "      <td>20.958286</td>\n",
       "      <td>0.376000</td>\n",
       "    </tr>\n",
       "    <tr>\n",
       "      <th>std</th>\n",
       "      <td>1010.507298</td>\n",
       "      <td>1.635065e+08</td>\n",
       "      <td>3.199235e+07</td>\n",
       "      <td>4.746453e+07</td>\n",
       "      <td>27.174942</td>\n",
       "      <td>1.912368</td>\n",
       "      <td>0.289752</td>\n",
       "      <td>24.748682</td>\n",
       "      <td>0.484449</td>\n",
       "    </tr>\n",
       "    <tr>\n",
       "      <th>min</th>\n",
       "      <td>0.000000</td>\n",
       "      <td>-5.242152e+07</td>\n",
       "      <td>-2.992000e+06</td>\n",
       "      <td>5.600000e+03</td>\n",
       "      <td>1.000000</td>\n",
       "      <td>1.000000</td>\n",
       "      <td>0.000000</td>\n",
       "      <td>0.000000</td>\n",
       "      <td>0.000000</td>\n",
       "    </tr>\n",
       "    <tr>\n",
       "      <th>25%</th>\n",
       "      <td>874.750000</td>\n",
       "      <td>4.747050e+06</td>\n",
       "      <td>2.875000e+06</td>\n",
       "      <td>2.259000e+06</td>\n",
       "      <td>2.000000</td>\n",
       "      <td>1.666667</td>\n",
       "      <td>0.027291</td>\n",
       "      <td>4.000000</td>\n",
       "      <td>0.000000</td>\n",
       "    </tr>\n",
       "    <tr>\n",
       "      <th>50%</th>\n",
       "      <td>1749.500000</td>\n",
       "      <td>2.822270e+07</td>\n",
       "      <td>9.837000e+06</td>\n",
       "      <td>7.392000e+06</td>\n",
       "      <td>8.000000</td>\n",
       "      <td>2.333333</td>\n",
       "      <td>0.256410</td>\n",
       "      <td>13.000000</td>\n",
       "      <td>0.000000</td>\n",
       "    </tr>\n",
       "    <tr>\n",
       "      <th>75%</th>\n",
       "      <td>2624.250000</td>\n",
       "      <td>1.065079e+08</td>\n",
       "      <td>2.296250e+07</td>\n",
       "      <td>2.412000e+07</td>\n",
       "      <td>25.000000</td>\n",
       "      <td>3.375000</td>\n",
       "      <td>0.448980</td>\n",
       "      <td>28.000000</td>\n",
       "      <td>1.000000</td>\n",
       "    </tr>\n",
       "    <tr>\n",
       "      <th>max</th>\n",
       "      <td>3499.000000</td>\n",
       "      <td>2.323180e+09</td>\n",
       "      <td>7.066290e+08</td>\n",
       "      <td>5.637530e+08</td>\n",
       "      <td>285.000000</td>\n",
       "      <td>22.083333</td>\n",
       "      <td>1.000000</td>\n",
       "      <td>166.000000</td>\n",
       "      <td>1.000000</td>\n",
       "    </tr>\n",
       "  </tbody>\n",
       "</table>\n",
       "</div>"
      ],
      "text/plain": [
       "           cust_id          총구매액         최대구매액          환불금액         내점일수  \\\n",
       "count  3500.000000  3.500000e+03  3.500000e+03  1.205000e+03  3500.000000   \n",
       "mean   1749.500000  9.191925e+07  1.966424e+07  2.407822e+07    19.253714   \n",
       "std    1010.507298  1.635065e+08  3.199235e+07  4.746453e+07    27.174942   \n",
       "min       0.000000 -5.242152e+07 -2.992000e+06  5.600000e+03     1.000000   \n",
       "25%     874.750000  4.747050e+06  2.875000e+06  2.259000e+06     2.000000   \n",
       "50%    1749.500000  2.822270e+07  9.837000e+06  7.392000e+06     8.000000   \n",
       "75%    2624.250000  1.065079e+08  2.296250e+07  2.412000e+07    25.000000   \n",
       "max    3499.000000  2.323180e+09  7.066290e+08  5.637530e+08   285.000000   \n",
       "\n",
       "           내점당구매건수       주말방문비율         구매주기       gender  \n",
       "count  3500.000000  3500.000000  3500.000000  3500.000000  \n",
       "mean      2.834963     0.307246    20.958286     0.376000  \n",
       "std       1.912368     0.289752    24.748682     0.484449  \n",
       "min       1.000000     0.000000     0.000000     0.000000  \n",
       "25%       1.666667     0.027291     4.000000     0.000000  \n",
       "50%       2.333333     0.256410    13.000000     0.000000  \n",
       "75%       3.375000     0.448980    28.000000     1.000000  \n",
       "max      22.083333     1.000000   166.000000     1.000000  "
      ]
     },
     "execution_count": 8,
     "metadata": {},
     "output_type": "execute_result"
    }
   ],
   "source": [
    "trainDF.describe()"
   ]
  },
  {
   "cell_type": "code",
   "execution_count": 10,
   "metadata": {},
   "outputs": [],
   "source": [
    "# 환불금액의 결측치는 평균으로 대체하면 될 듯. \n",
    "trainDF['환불금액'].fillna(trainDF['환불금액'].mean(), inplace=True)"
   ]
  },
  {
   "cell_type": "code",
   "execution_count": 11,
   "metadata": {},
   "outputs": [
    {
     "name": "stdout",
     "output_type": "stream",
     "text": [
      "<class 'pandas.core.frame.DataFrame'>\n",
      "Int64Index: 3500 entries, 0 to 3499\n",
      "Data columns (total 11 columns):\n",
      " #   Column   Non-Null Count  Dtype  \n",
      "---  ------   --------------  -----  \n",
      " 0   cust_id  3500 non-null   int64  \n",
      " 1   총구매액     3500 non-null   int64  \n",
      " 2   최대구매액    3500 non-null   int64  \n",
      " 3   환불금액     3500 non-null   float64\n",
      " 4   주구매상품    3500 non-null   object \n",
      " 5   주구매지점    3500 non-null   object \n",
      " 6   내점일수     3500 non-null   int64  \n",
      " 7   내점당구매건수  3500 non-null   float64\n",
      " 8   주말방문비율   3500 non-null   float64\n",
      " 9   구매주기     3500 non-null   int64  \n",
      " 10  gender   3500 non-null   int64  \n",
      "dtypes: float64(3), int64(6), object(2)\n",
      "memory usage: 328.1+ KB\n"
     ]
    }
   ],
   "source": [
    "trainDF.info()"
   ]
  },
  {
   "cell_type": "code",
   "execution_count": 12,
   "metadata": {
    "scrolled": true
   },
   "outputs": [
    {
     "name": "stdout",
     "output_type": "stream",
     "text": [
      "<class 'pandas.core.frame.DataFrame'>\n",
      "RangeIndex: 2482 entries, 0 to 2481\n",
      "Data columns (total 10 columns):\n",
      " #   Column   Non-Null Count  Dtype  \n",
      "---  ------   --------------  -----  \n",
      " 0   cust_id  2482 non-null   int64  \n",
      " 1   총구매액     2482 non-null   int64  \n",
      " 2   최대구매액    2482 non-null   int64  \n",
      " 3   환불금액     2482 non-null   float64\n",
      " 4   주구매상품    2482 non-null   object \n",
      " 5   주구매지점    2482 non-null   object \n",
      " 6   내점일수     2482 non-null   int64  \n",
      " 7   내점당구매건수  2482 non-null   float64\n",
      " 8   주말방문비율   2482 non-null   float64\n",
      " 9   구매주기     2482 non-null   int64  \n",
      "dtypes: float64(3), int64(5), object(2)\n",
      "memory usage: 194.0+ KB\n"
     ]
    }
   ],
   "source": [
    "test['환불금액'].fillna(test['환불금액'].mean(), inplace=True)\n",
    "test.info()"
   ]
  },
  {
   "cell_type": "markdown",
   "metadata": {},
   "source": [
    "<b>해답</b><br>\n",
    "환블금액의 경우 최솟값이 0이 아니기에, Nan은 결측치가 아닌 환불을 하지않은 경우(0원)로 판단 할수 있다. nan은 0으로 채운다"
   ]
  },
  {
   "cell_type": "code",
   "execution_count": 16,
   "metadata": {},
   "outputs": [],
   "source": [
    "trainDF['환불금액'] =trainDF['환불금액'].fillna(0)\n",
    "test['환불금액'] = test['환불금액'].fillna(0)"
   ]
  },
  {
   "cell_type": "markdown",
   "metadata": {},
   "source": [
    "## Q3\n",
    "범주형 변수의 유일값과 유일값의 갯수를 파악하라<br>\n",
    "<b>나의 풀이</b>"
   ]
  },
  {
   "cell_type": "code",
   "execution_count": 22,
   "metadata": {},
   "outputs": [],
   "source": [
    "# 범주형 변수 : 주구매상품, 주구매지점\n",
    "main_prod = trainDF['주구매상품'].value_counts()\n",
    "main_prod_cnt = main_prod.count()"
   ]
  },
  {
   "cell_type": "code",
   "execution_count": 29,
   "metadata": {},
   "outputs": [
    {
     "name": "stdout",
     "output_type": "stream",
     "text": [
      "주구매상품 유일값 리스트 :  Index(['기타', '가공식품', '농산물', '화장품', '시티웨어', '디자이너', '수산품', '캐주얼', '명품', '섬유잡화',\n",
      "       '골프', '스포츠', '일용잡화', '모피/피혁', '육류', '남성 캐주얼', '구두', '건강식품', '차/커피',\n",
      "       '피혁잡화', '아동', '축산가공', '주방용품', '셔츠', '젓갈/반찬', '주방가전', '트래디셔널', '남성정장',\n",
      "       '생활잡화', '주류', '가구', '커리어', '대형가전', '란제리/내의', '식기', '액세서리', '침구/수예',\n",
      "       '통신/컴퓨터', '보석', '남성 트랜디', '악기', '소형가전'],\n",
      "      dtype='object')\n",
      "주구매상품 유일값 수 :  42\n"
     ]
    }
   ],
   "source": [
    "print('주구매상품 유일값 리스트 : ', main_prod.index)\n",
    "print('주구매상품 유일값 수 : ', main_prod_cnt)"
   ]
  },
  {
   "cell_type": "code",
   "execution_count": 30,
   "metadata": {},
   "outputs": [],
   "source": [
    "main_place = trainDF['주구매지점'].value_counts()\n",
    "main_place_cnt = main_place.count()"
   ]
  },
  {
   "cell_type": "code",
   "execution_count": 31,
   "metadata": {
    "scrolled": true
   },
   "outputs": [
    {
     "name": "stdout",
     "output_type": "stream",
     "text": [
      "주구매지점 유일값 리스트 :  Index(['본  점', '잠실점', '분당점', '부산본점', '영등포점', '일산점', '강남점', '광주점', '노원점',\n",
      "       '청량리점', '대전점', '미아점', '부평점', '동래점', '관악점', '인천점', '안양점', '포항점', '대구점',\n",
      "       '센텀시티점', '울산점', '전주점', '창원점', '상인점'],\n",
      "      dtype='object')\n",
      "주구매지점 유일값 수 :  24\n"
     ]
    }
   ],
   "source": [
    "print('주구매지점 유일값 리스트 : ', main_place.index)\n",
    "print('주구매지점 유일값 수 : ', main_place_cnt)"
   ]
  },
  {
   "cell_type": "markdown",
   "metadata": {},
   "source": [
    "## Q5\n",
    "데이터 정규화 및 one-hot-encoding ,홀드아웃기법, smote방식의 오버샘플링과 랜덤포레스트 모델 학습 및 테스트셋 auc값추출<br>\n",
    "<b>나의 풀이</b>"
   ]
  },
  {
   "cell_type": "code",
   "execution_count": 32,
   "metadata": {},
   "outputs": [
    {
     "name": "stdout",
     "output_type": "stream",
     "text": [
      "<class 'pandas.core.frame.DataFrame'>\n",
      "Int64Index: 3500 entries, 0 to 3499\n",
      "Data columns (total 11 columns):\n",
      " #   Column   Non-Null Count  Dtype  \n",
      "---  ------   --------------  -----  \n",
      " 0   cust_id  3500 non-null   int64  \n",
      " 1   총구매액     3500 non-null   int64  \n",
      " 2   최대구매액    3500 non-null   int64  \n",
      " 3   환불금액     3500 non-null   float64\n",
      " 4   주구매상품    3500 non-null   object \n",
      " 5   주구매지점    3500 non-null   object \n",
      " 6   내점일수     3500 non-null   int64  \n",
      " 7   내점당구매건수  3500 non-null   float64\n",
      " 8   주말방문비율   3500 non-null   float64\n",
      " 9   구매주기     3500 non-null   int64  \n",
      " 10  gender   3500 non-null   int64  \n",
      "dtypes: float64(3), int64(6), object(2)\n",
      "memory usage: 328.1+ KB\n"
     ]
    }
   ],
   "source": [
    "trainDF.info()"
   ]
  },
  {
   "cell_type": "code",
   "execution_count": 34,
   "metadata": {},
   "outputs": [
    {
     "data": {
      "text/plain": [
       "0    2184\n",
       "1    1316\n",
       "Name: gender, dtype: int64"
      ]
     },
     "execution_count": 34,
     "metadata": {},
     "output_type": "execute_result"
    }
   ],
   "source": [
    "trainDF.gender.value_counts()\n",
    "# 0(여자)이 훨씬 많음 => smote 오버샘플링 필요\n",
    "# one-hot-encoding은 string형인 주구매상품, 주구매지점에 필요할듯 "
   ]
  },
  {
   "cell_type": "code",
   "execution_count": null,
   "metadata": {},
   "outputs": [],
   "source": [
    "x = trainDF.drop(['cust_id', 'gender'], axis=0)\n",
    "y = trainDF['gender']"
   ]
  },
  {
   "cell_type": "code",
   "execution_count": null,
   "metadata": {},
   "outputs": [],
   "source": []
  },
  {
   "cell_type": "code",
   "execution_count": null,
   "metadata": {},
   "outputs": [],
   "source": []
  },
  {
   "cell_type": "code",
   "execution_count": null,
   "metadata": {},
   "outputs": [],
   "source": []
  },
  {
   "cell_type": "code",
   "execution_count": 63,
   "metadata": {},
   "outputs": [],
   "source": [
    "from sklearn.preprocessing import StandardScaler\n",
    "from imblearn.over_sampling import SMOTE\n",
    "\n",
    "# 테스트 데이터도 전처리해야하니 아예 함수를 만들자!\n",
    "def prepro(df):\n",
    "    # 원핫인코딩\n",
    "    df['주구매상품'] = pd.get_dummies(df['주구매상품'])\n",
    "    df['주구매지점'] = pd.get_dummies(df['주구매지점'])\n",
    "    \n",
    "    X = df.drop(['cust_id', 'gender'], axis=0)\n",
    "    y = df['gender']\n",
    "    \n",
    "    # 오버샘플링 - smote의 resample()은 독립이 연속, 종속이 분류일때 사용 \n",
    "#     smote = SMOTE(random_state=0)\n",
    "#     X, y = smote.fit_resample(df[['총구매액', '최대구매액', '환불금액', '내점일수', '내점당구매건수',\n",
    "#                                         '주말방문비율', '구매주기']], df['gender'])\n",
    "#     df2 = pd.DataFrame(X, columns=['총구매액', '최대구매액', '환불금액', '내점일수', '내점당구매건수',\n",
    "#                              '주말방문비율', '구매주기'])\n",
    "#     df2['cust_id'] = df['cust_id']\n",
    "#     df2.merge(df[['주구매상품', '주구매지점']])\n",
    "#     df2['gender'] = y\n",
    "    smote = SMOTE(sampling_stategy='auto', random_state=0)\n",
    "    X, y = smote.fit_sample(X, y)\n",
    "    \n",
    "    # 정규화 \n",
    "    scaler = StandardScaler()\n",
    "    scaled_df = scaler.fit_transform(df)\n",
    "    \n",
    "    return scaled_df"
   ]
  },
  {
   "cell_type": "code",
   "execution_count": 64,
   "metadata": {},
   "outputs": [
    {
     "ename": "MergeError",
     "evalue": "No common columns to perform merge on. Merge options: left_on=None, right_on=None, left_index=False, right_index=False",
     "output_type": "error",
     "traceback": [
      "\u001b[0;31m---------------------------------------------------------------------------\u001b[0m",
      "\u001b[0;31mMergeError\u001b[0m                                Traceback (most recent call last)",
      "\u001b[0;32m<ipython-input-64-34bd84d7e81a>\u001b[0m in \u001b[0;36m<module>\u001b[0;34m\u001b[0m\n\u001b[0;32m----> 1\u001b[0;31m \u001b[0mtrainDF2\u001b[0m \u001b[0;34m=\u001b[0m \u001b[0mprepro\u001b[0m\u001b[0;34m(\u001b[0m\u001b[0mtrainDF\u001b[0m\u001b[0;34m)\u001b[0m\u001b[0;34m\u001b[0m\u001b[0;34m\u001b[0m\u001b[0m\n\u001b[0m\u001b[1;32m      2\u001b[0m \u001b[0mtrainDF2\u001b[0m\u001b[0;34m.\u001b[0m\u001b[0mhead\u001b[0m\u001b[0;34m(\u001b[0m\u001b[0;36m5\u001b[0m\u001b[0;34m)\u001b[0m\u001b[0;34m\u001b[0m\u001b[0;34m\u001b[0m\u001b[0m\n",
      "\u001b[0;32m<ipython-input-63-e7e53e2eaae0>\u001b[0m in \u001b[0;36mprepro\u001b[0;34m(df)\u001b[0m\n\u001b[1;32m     14\u001b[0m                              '주말방문비율', '구매주기'])\n\u001b[1;32m     15\u001b[0m     \u001b[0mdf2\u001b[0m\u001b[0;34m[\u001b[0m\u001b[0;34m'cust_id'\u001b[0m\u001b[0;34m]\u001b[0m \u001b[0;34m=\u001b[0m \u001b[0mdf\u001b[0m\u001b[0;34m[\u001b[0m\u001b[0;34m'cust_id'\u001b[0m\u001b[0;34m]\u001b[0m\u001b[0;34m\u001b[0m\u001b[0;34m\u001b[0m\u001b[0m\n\u001b[0;32m---> 16\u001b[0;31m     \u001b[0mdf2\u001b[0m\u001b[0;34m.\u001b[0m\u001b[0mmerge\u001b[0m\u001b[0;34m(\u001b[0m\u001b[0mdf\u001b[0m\u001b[0;34m[\u001b[0m\u001b[0;34m[\u001b[0m\u001b[0;34m'주구매상품'\u001b[0m\u001b[0;34m,\u001b[0m \u001b[0;34m'주구매지점'\u001b[0m\u001b[0;34m]\u001b[0m\u001b[0;34m]\u001b[0m\u001b[0;34m)\u001b[0m\u001b[0;34m\u001b[0m\u001b[0;34m\u001b[0m\u001b[0m\n\u001b[0m\u001b[1;32m     17\u001b[0m     \u001b[0mdf2\u001b[0m\u001b[0;34m[\u001b[0m\u001b[0;34m'gender'\u001b[0m\u001b[0;34m]\u001b[0m \u001b[0;34m=\u001b[0m \u001b[0my\u001b[0m\u001b[0;34m\u001b[0m\u001b[0;34m\u001b[0m\u001b[0m\n\u001b[1;32m     18\u001b[0m \u001b[0;34m\u001b[0m\u001b[0m\n",
      "\u001b[0;32m/usr/local/lib/python3.8/site-packages/pandas/core/frame.py\u001b[0m in \u001b[0;36mmerge\u001b[0;34m(self, right, how, on, left_on, right_on, left_index, right_index, sort, suffixes, copy, indicator, validate)\u001b[0m\n\u001b[1;32m   7943\u001b[0m         \u001b[0;32mfrom\u001b[0m \u001b[0mpandas\u001b[0m\u001b[0;34m.\u001b[0m\u001b[0mcore\u001b[0m\u001b[0;34m.\u001b[0m\u001b[0mreshape\u001b[0m\u001b[0;34m.\u001b[0m\u001b[0mmerge\u001b[0m \u001b[0;32mimport\u001b[0m \u001b[0mmerge\u001b[0m\u001b[0;34m\u001b[0m\u001b[0;34m\u001b[0m\u001b[0m\n\u001b[1;32m   7944\u001b[0m \u001b[0;34m\u001b[0m\u001b[0m\n\u001b[0;32m-> 7945\u001b[0;31m         return merge(\n\u001b[0m\u001b[1;32m   7946\u001b[0m             \u001b[0mself\u001b[0m\u001b[0;34m,\u001b[0m\u001b[0;34m\u001b[0m\u001b[0;34m\u001b[0m\u001b[0m\n\u001b[1;32m   7947\u001b[0m             \u001b[0mright\u001b[0m\u001b[0;34m,\u001b[0m\u001b[0;34m\u001b[0m\u001b[0;34m\u001b[0m\u001b[0m\n",
      "\u001b[0;32m/usr/local/lib/python3.8/site-packages/pandas/core/reshape/merge.py\u001b[0m in \u001b[0;36mmerge\u001b[0;34m(left, right, how, on, left_on, right_on, left_index, right_index, sort, suffixes, copy, indicator, validate)\u001b[0m\n\u001b[1;32m     72\u001b[0m     \u001b[0mvalidate\u001b[0m\u001b[0;34m=\u001b[0m\u001b[0;32mNone\u001b[0m\u001b[0;34m,\u001b[0m\u001b[0;34m\u001b[0m\u001b[0;34m\u001b[0m\u001b[0m\n\u001b[1;32m     73\u001b[0m ) -> \"DataFrame\":\n\u001b[0;32m---> 74\u001b[0;31m     op = _MergeOperation(\n\u001b[0m\u001b[1;32m     75\u001b[0m         \u001b[0mleft\u001b[0m\u001b[0;34m,\u001b[0m\u001b[0;34m\u001b[0m\u001b[0;34m\u001b[0m\u001b[0m\n\u001b[1;32m     76\u001b[0m         \u001b[0mright\u001b[0m\u001b[0;34m,\u001b[0m\u001b[0;34m\u001b[0m\u001b[0;34m\u001b[0m\u001b[0m\n",
      "\u001b[0;32m/usr/local/lib/python3.8/site-packages/pandas/core/reshape/merge.py\u001b[0m in \u001b[0;36m__init__\u001b[0;34m(self, left, right, how, on, left_on, right_on, axis, left_index, right_index, sort, suffixes, copy, indicator, validate)\u001b[0m\n\u001b[1;32m    643\u001b[0m             \u001b[0mwarnings\u001b[0m\u001b[0;34m.\u001b[0m\u001b[0mwarn\u001b[0m\u001b[0;34m(\u001b[0m\u001b[0mmsg\u001b[0m\u001b[0;34m,\u001b[0m \u001b[0mUserWarning\u001b[0m\u001b[0;34m)\u001b[0m\u001b[0;34m\u001b[0m\u001b[0;34m\u001b[0m\u001b[0m\n\u001b[1;32m    644\u001b[0m \u001b[0;34m\u001b[0m\u001b[0m\n\u001b[0;32m--> 645\u001b[0;31m         \u001b[0mself\u001b[0m\u001b[0;34m.\u001b[0m\u001b[0m_validate_specification\u001b[0m\u001b[0;34m(\u001b[0m\u001b[0;34m)\u001b[0m\u001b[0;34m\u001b[0m\u001b[0;34m\u001b[0m\u001b[0m\n\u001b[0m\u001b[1;32m    646\u001b[0m \u001b[0;34m\u001b[0m\u001b[0m\n\u001b[1;32m    647\u001b[0m         \u001b[0;31m# note this function has side effects\u001b[0m\u001b[0;34m\u001b[0m\u001b[0;34m\u001b[0m\u001b[0;34m\u001b[0m\u001b[0m\n",
      "\u001b[0;32m/usr/local/lib/python3.8/site-packages/pandas/core/reshape/merge.py\u001b[0m in \u001b[0;36m_validate_specification\u001b[0;34m(self)\u001b[0m\n\u001b[1;32m   1212\u001b[0m                 \u001b[0mcommon_cols\u001b[0m \u001b[0;34m=\u001b[0m \u001b[0mself\u001b[0m\u001b[0;34m.\u001b[0m\u001b[0mleft\u001b[0m\u001b[0;34m.\u001b[0m\u001b[0mcolumns\u001b[0m\u001b[0;34m.\u001b[0m\u001b[0mintersection\u001b[0m\u001b[0;34m(\u001b[0m\u001b[0mself\u001b[0m\u001b[0;34m.\u001b[0m\u001b[0mright\u001b[0m\u001b[0;34m.\u001b[0m\u001b[0mcolumns\u001b[0m\u001b[0;34m)\u001b[0m\u001b[0;34m\u001b[0m\u001b[0;34m\u001b[0m\u001b[0m\n\u001b[1;32m   1213\u001b[0m                 \u001b[0;32mif\u001b[0m \u001b[0mlen\u001b[0m\u001b[0;34m(\u001b[0m\u001b[0mcommon_cols\u001b[0m\u001b[0;34m)\u001b[0m \u001b[0;34m==\u001b[0m \u001b[0;36m0\u001b[0m\u001b[0;34m:\u001b[0m\u001b[0;34m\u001b[0m\u001b[0;34m\u001b[0m\u001b[0m\n\u001b[0;32m-> 1214\u001b[0;31m                     raise MergeError(\n\u001b[0m\u001b[1;32m   1215\u001b[0m                         \u001b[0;34m\"No common columns to perform merge on. \"\u001b[0m\u001b[0;34m\u001b[0m\u001b[0;34m\u001b[0m\u001b[0m\n\u001b[1;32m   1216\u001b[0m                         \u001b[0;34mf\"Merge options: left_on={self.left_on}, \"\u001b[0m\u001b[0;34m\u001b[0m\u001b[0;34m\u001b[0m\u001b[0m\n",
      "\u001b[0;31mMergeError\u001b[0m: No common columns to perform merge on. Merge options: left_on=None, right_on=None, left_index=False, right_index=False"
     ]
    }
   ],
   "source": [
    "trainDF2 = prepro(trainDF)\n",
    "trainDF2.head(5)"
   ]
  },
  {
   "cell_type": "code",
   "execution_count": null,
   "metadata": {},
   "outputs": [],
   "source": []
  },
  {
   "cell_type": "code",
   "execution_count": null,
   "metadata": {},
   "outputs": [],
   "source": []
  }
 ],
 "metadata": {
  "kernelspec": {
   "display_name": "Python 3",
   "language": "python",
   "name": "python3"
  },
  "language_info": {
   "codemirror_mode": {
    "name": "ipython",
    "version": 3
   },
   "file_extension": ".py",
   "mimetype": "text/x-python",
   "name": "python",
   "nbconvert_exporter": "python",
   "pygments_lexer": "ipython3",
   "version": "3.8.5"
  }
 },
 "nbformat": 4,
 "nbformat_minor": 4
}
