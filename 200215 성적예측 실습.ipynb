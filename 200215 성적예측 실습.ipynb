{
 "cells": [
  {
   "cell_type": "markdown",
   "metadata": {},
   "source": [
    "# 지역, 부모, 소득 등으로 학생의 성적 예측하기\n",
    "## 데이터 정제"
   ]
  },
  {
   "cell_type": "code",
   "execution_count": 1,
   "metadata": {},
   "outputs": [],
   "source": [
    "import pandas as pd"
   ]
  },
  {
   "cell_type": "code",
   "execution_count": 26,
   "metadata": {},
   "outputs": [],
   "source": [
    "edu=pd.read_csv('/Users/air/Leena Python/MachineLearning/Data/highschool_private_edu_cla.csv')"
   ]
  },
  {
   "cell_type": "code",
   "execution_count": 3,
   "metadata": {},
   "outputs": [
    {
     "data": {
      "text/html": [
       "<div>\n",
       "<style scoped>\n",
       "    .dataframe tbody tr th:only-of-type {\n",
       "        vertical-align: middle;\n",
       "    }\n",
       "\n",
       "    .dataframe tbody tr th {\n",
       "        vertical-align: top;\n",
       "    }\n",
       "\n",
       "    .dataframe thead th {\n",
       "        text-align: right;\n",
       "    }\n",
       "</style>\n",
       "<table border=\"1\" class=\"dataframe\">\n",
       "  <thead>\n",
       "    <tr style=\"text-align: right;\">\n",
       "      <th></th>\n",
       "      <th>Region</th>\n",
       "      <th>School</th>\n",
       "      <th>Annual Private Edu Expense</th>\n",
       "      <th>Participation of Extra Activity</th>\n",
       "      <th>Extra Activity Hours</th>\n",
       "      <th>Extra Activity Expense</th>\n",
       "      <th>Sex</th>\n",
       "      <th>Father Age</th>\n",
       "      <th>Father Edu</th>\n",
       "      <th>Mother Age</th>\n",
       "      <th>Mother Edu</th>\n",
       "      <th>Parents Economic Status</th>\n",
       "      <th>Monthly Salary</th>\n",
       "      <th>Future Major</th>\n",
       "      <th>Score</th>\n",
       "    </tr>\n",
       "  </thead>\n",
       "  <tbody>\n",
       "    <tr>\n",
       "      <td>0</td>\n",
       "      <td>1</td>\n",
       "      <td>3</td>\n",
       "      <td>413.136647</td>\n",
       "      <td>1</td>\n",
       "      <td>0.333333</td>\n",
       "      <td>17.119228</td>\n",
       "      <td>2</td>\n",
       "      <td>4</td>\n",
       "      <td>61</td>\n",
       "      <td>3</td>\n",
       "      <td>41</td>\n",
       "      <td>3</td>\n",
       "      <td>4</td>\n",
       "      <td>2</td>\n",
       "      <td>2</td>\n",
       "    </tr>\n",
       "    <tr>\n",
       "      <td>1</td>\n",
       "      <td>1</td>\n",
       "      <td>3</td>\n",
       "      <td>0.000000</td>\n",
       "      <td>1</td>\n",
       "      <td>0.333333</td>\n",
       "      <td>2.977257</td>\n",
       "      <td>1</td>\n",
       "      <td>3</td>\n",
       "      <td>51</td>\n",
       "      <td>3</td>\n",
       "      <td>51</td>\n",
       "      <td>3</td>\n",
       "      <td>6</td>\n",
       "      <td>5</td>\n",
       "      <td>3</td>\n",
       "    </tr>\n",
       "    <tr>\n",
       "      <td>2</td>\n",
       "      <td>1</td>\n",
       "      <td>3</td>\n",
       "      <td>0.000000</td>\n",
       "      <td>1</td>\n",
       "      <td>0.333333</td>\n",
       "      <td>2.977257</td>\n",
       "      <td>1</td>\n",
       "      <td>3</td>\n",
       "      <td>51</td>\n",
       "      <td>3</td>\n",
       "      <td>51</td>\n",
       "      <td>3</td>\n",
       "      <td>1</td>\n",
       "      <td>1</td>\n",
       "      <td>5</td>\n",
       "    </tr>\n",
       "  </tbody>\n",
       "</table>\n",
       "</div>"
      ],
      "text/plain": [
       "   Region  School  Annual Private Edu Expense  \\\n",
       "0       1       3                  413.136647   \n",
       "1       1       3                    0.000000   \n",
       "2       1       3                    0.000000   \n",
       "\n",
       "   Participation of Extra Activity  Extra Activity Hours  \\\n",
       "0                                1              0.333333   \n",
       "1                                1              0.333333   \n",
       "2                                1              0.333333   \n",
       "\n",
       "   Extra Activity Expense  Sex  Father Age  Father Edu  Mother Age  \\\n",
       "0               17.119228    2           4          61           3   \n",
       "1                2.977257    1           3          51           3   \n",
       "2                2.977257    1           3          51           3   \n",
       "\n",
       "   Mother Edu  Parents Economic Status  Monthly Salary  Future Major  Score  \n",
       "0          41                        3               4             2      2  \n",
       "1          51                        3               6             5      3  \n",
       "2          51                        3               1             1      5  "
      ]
     },
     "execution_count": 3,
     "metadata": {},
     "output_type": "execute_result"
    }
   ],
   "source": [
    "edu.head(3)"
   ]
  },
  {
   "cell_type": "code",
   "execution_count": 4,
   "metadata": {},
   "outputs": [
    {
     "name": "stdout",
     "output_type": "stream",
     "text": [
      "<class 'pandas.core.frame.DataFrame'>\n",
      "RangeIndex: 36479 entries, 0 to 36478\n",
      "Data columns (total 15 columns):\n",
      "Region                             36479 non-null int64\n",
      "School                             36479 non-null int64\n",
      "Annual Private Edu Expense         36479 non-null float64\n",
      "Participation of Extra Activity    36479 non-null int64\n",
      "Extra Activity Hours               36479 non-null float64\n",
      "Extra Activity Expense             36479 non-null float64\n",
      "Sex                                36479 non-null int64\n",
      "Father Age                         36479 non-null int64\n",
      "Father Edu                         36479 non-null int64\n",
      "Mother Age                         36479 non-null int64\n",
      "Mother Edu                         36479 non-null int64\n",
      "Parents Economic Status            36479 non-null int64\n",
      "Monthly Salary                     36479 non-null int64\n",
      "Future Major                       36479 non-null int64\n",
      "Score                              36479 non-null int64\n",
      "dtypes: float64(3), int64(12)\n",
      "memory usage: 4.2 MB\n"
     ]
    }
   ],
   "source": [
    "# 결측값 처리 전\n",
    "edu.info()"
   ]
  },
  {
   "cell_type": "code",
   "execution_count": 5,
   "metadata": {},
   "outputs": [
    {
     "data": {
      "text/plain": [
       "Region                             0\n",
       "School                             0\n",
       "Annual Private Edu Expense         0\n",
       "Participation of Extra Activity    0\n",
       "Extra Activity Hours               0\n",
       "Extra Activity Expense             0\n",
       "Sex                                0\n",
       "Father Age                         0\n",
       "Father Edu                         0\n",
       "Mother Age                         0\n",
       "Mother Edu                         0\n",
       "Parents Economic Status            0\n",
       "Monthly Salary                     0\n",
       "Future Major                       0\n",
       "Score                              0\n",
       "dtype: int64"
      ]
     },
     "execution_count": 5,
     "metadata": {},
     "output_type": "execute_result"
    }
   ],
   "source": [
    "pd.isnull(edu).sum()"
   ]
  },
  {
   "cell_type": "markdown",
   "metadata": {},
   "source": [
    "#### => 부, 모의 나이와 연령, 부모의 경제수준에 결측값 있는것 확인. 조사표를 보니 부, 모가 안계시면 결측값으로 넣어놓음. 부모의 유무가 사교육과 학생 성적에도 영향을 미칠것이란 가정에 결측값을 모두 0으로 대체."
   ]
  },
  {
   "cell_type": "code",
   "execution_count": 6,
   "metadata": {},
   "outputs": [
    {
     "data": {
      "text/plain": [
       "Region                             0\n",
       "School                             0\n",
       "Annual Private Edu Expense         0\n",
       "Participation of Extra Activity    0\n",
       "Extra Activity Hours               0\n",
       "Extra Activity Expense             0\n",
       "Sex                                0\n",
       "Father Age                         0\n",
       "Father Edu                         0\n",
       "Mother Age                         0\n",
       "Mother Edu                         0\n",
       "Parents Economic Status            0\n",
       "Monthly Salary                     0\n",
       "Future Major                       0\n",
       "Score                              0\n",
       "dtype: int64"
      ]
     },
     "execution_count": 6,
     "metadata": {},
     "output_type": "execute_result"
    }
   ],
   "source": [
    "pd.isnull(edu).sum()"
   ]
  },
  {
   "cell_type": "markdown",
   "metadata": {},
   "source": [
    "#### => 결측값 사라진걸 확인."
   ]
  },
  {
   "cell_type": "markdown",
   "metadata": {},
   "source": [
    "### 데이터 임베딩"
   ]
  },
  {
   "cell_type": "code",
   "execution_count": 7,
   "metadata": {},
   "outputs": [],
   "source": [
    "import matplotlib.pyplot as plt\n",
    "from sklearn import datasets\n",
    "from sklearn import tree, ensemble\n",
    "from sklearn.metrics import accuracy_score\n",
    "from sklearn.preprocessing import OneHotEncoder\n",
    "import numpy as np"
   ]
  },
  {
   "cell_type": "code",
   "execution_count": 27,
   "metadata": {},
   "outputs": [],
   "source": [
    "edu_new=edu.join(pd.get_dummies(edu['Region']))\n",
    "edu_new=edu_new.rename(columns={1:\"Region_Seoul\", 2:\"Region_Metropolitan\", 3:\"Region_Small_Medium\",\n",
    "                       4:\"Rural\"})"
   ]
  },
  {
   "cell_type": "code",
   "execution_count": 28,
   "metadata": {},
   "outputs": [],
   "source": [
    "edu_new=edu_new.join(pd.get_dummies(edu['School']))\n",
    "edu_new=edu_new.rename(columns={3:\"Nomral Highschool\", 4:\"Sepcialized Highschool\"})\n"
   ]
  },
  {
   "cell_type": "code",
   "execution_count": 29,
   "metadata": {},
   "outputs": [],
   "source": [
    "edu_new=edu_new.join(pd.get_dummies(edu[\"Participation of Extra Activity\"]))\n",
    "edu_new=edu_new.rename(columns={1:\"Extra Activity Yes\", 2:\"Extra Activity No\"})\n"
   ]
  },
  {
   "cell_type": "code",
   "execution_count": 30,
   "metadata": {},
   "outputs": [],
   "source": [
    "edu_new=edu_new.join(pd.get_dummies(edu['Sex']))\n",
    "edu_new=edu_new.rename(columns={1:\"Male Student\", 2:\"Female Student\"})\n"
   ]
  },
  {
   "cell_type": "code",
   "execution_count": 31,
   "metadata": {},
   "outputs": [],
   "source": [
    "edu_new=edu_new.join(pd.get_dummies(edu[\"Father Age\"]))\n",
    "edu_new=edu_new.rename(columns={0:\"Father Doesn't Exist\", 2:\"Father 20s\", 3:\"Father 30s\",\n",
    "                               4:\"Father 40s\", 5:\"Father 50s\", 6:\"Father 60s or more\"})\n"
   ]
  },
  {
   "cell_type": "code",
   "execution_count": 32,
   "metadata": {},
   "outputs": [],
   "source": [
    "edu_new=edu_new.join(pd.get_dummies(edu[\"Father Edu\"]))\n",
    "edu_new=edu_new.rename(columns={0:\"Fa Edu_Father Doesn't Exist\", 11:\"Fa Primary Grat\", 12:\"Fa Primary Complete\",\n",
    "                               13:\"Fa Primary Being\", 14:\"Fa Primary Stop\", 15:\"Fa Primary Gap\",\n",
    "                               21:\"Fa Secondary Grat\", 22:\"Fa Secondary Complete\", 23:\"Fa Secondary Being\",\n",
    "                               24:\"Fa Secondary Stop\", 25:\"Fa Secondary Gap\",\n",
    "                               31:\"Fa Highschool Grat\", 32:\"Fa Highschool Complete\", 33:\"Fa Highschool Being\",\n",
    "                               34:\"Fa Highschool Stop\", 35:\"Fa Highschool Gap\",\n",
    "                               41:\"Fa College Grat\", 42:\"Fa College Complete\", 43:\"Fa College Being\",\n",
    "                               44:\"Fa College Stop\", 45:\"Fa College Gap\",\n",
    "                               51:\"Fa Uni Grat\", 52:\"Fa Uni Complete\", 53:\"Fa Uni Being\", 54:\"Fa Uni Stop\", 55:\"Fa Uni Gap\",\n",
    "                               61:\"Fa Master Grat\", 62:\"Fa Master Complete\", 63:\"Fa Master Being\", 64:\"Fa Master Stop\", 65:\"Fa Master Gap\",\n",
    "                               71:\"Fa Doctor Grat\", 72:\"Fa Doctor Complete\", 73:\"Fa Doctor Being\", 74:\"Fa Doctor Stop\", 75:\"Fa Doctor Gap\",\n",
    "                               8:\"Fa No Degree\"})\n"
   ]
  },
  {
   "cell_type": "code",
   "execution_count": 33,
   "metadata": {},
   "outputs": [],
   "source": [
    "edu_new=edu_new.join(pd.get_dummies(edu[\"Mother Age\"]))\n",
    "edu_new=edu_new.rename(columns={0:\"Mother Doesn't Exist\", 2:\"Mother 20s\", 3:\"Mother 30s\",\n",
    "                               4:\"Mother 40s\", 5:\"Mother 50s\", 6:\"Mother 60s or more\"})\n"
   ]
  },
  {
   "cell_type": "code",
   "execution_count": 34,
   "metadata": {},
   "outputs": [],
   "source": [
    "edu_new=edu_new.join(pd.get_dummies(edu[\"Mother Edu\"]))\n",
    "edu_new=edu_new.rename(columns={0:\"Mo Edu_Mother Doesn't Exist\", 11:\"Mo Primary Grat\", 12:\"Mo Primary Complete\",\n",
    "                               13:\"Mo Primary Being\", 14:\"Mo Primary Stop\", 15:\"Mo Primary Gap\",\n",
    "                               21:\"Mo Secondary Grat\", 22:\"Mo Secondary Complete\", 23:\"Mo Secondary Being\",\n",
    "                               24:\"Mo Secondary Stop\", 25:\"Mo Secondary Gap\",\n",
    "                               31:\"Mo Highschool Grat\", 32:\"Mo Highschool Complete\", 33:\"Mo Highschool Being\",\n",
    "                               34:\"Mo Highschool Stop\", 35:\"Mo Highschool Gap\",\n",
    "                               41:\"Mo College Grat\", 42:\"Mo College Complete\", 43:\"Mo College Being\",\n",
    "                               44:\"Mo College Stop\", 45:\"Mo College Gap\",\n",
    "                               51:\"Mo Uni Grat\", 52:\"Mo Uni Complete\", 53:\"Mo Uni Being\", 54:\"Mo Uni Stop\", 55:\"Mo Uni Gap\",\n",
    "                               61:\"Mo Master Grat\", 62:\"Mo Master Complete\", 63:\"Mo Master Being\", 64:\"Mo Master Stop\", 65:\"Mo Master Gap\",\n",
    "                               71:\"Mo Doctor Grat\", 72:\"Mo Doctor Complete\", 73:\"Mo Doctor Being\", 74:\"Mo Doctor Stop\", 75:\"Mo Doctor Gap\",\n",
    "                               8:\"Mo No Degree\"})\n"
   ]
  },
  {
   "cell_type": "code",
   "execution_count": 35,
   "metadata": {},
   "outputs": [],
   "source": [
    "edu_new=edu_new.join(pd.get_dummies(edu['Monthly Salary']), lsuffix='_left', rsuffix='_right')\n",
    "edu_new=edu_new.rename(columns={1:\"MS Less than 200\", 2:\"MS 200~300\", 3:\"MS 300~400\",\n",
    "                               4:\"MS 400~500\", 5:\"MS 500~600\", 6:\"MS 600~700\", 7:\"MS 700~800\", 8:\"MS More than 800\"})"
   ]
  },
  {
   "cell_type": "code",
   "execution_count": 36,
   "metadata": {},
   "outputs": [],
   "source": [
    "edu_new=edu_new.join(pd.get_dummies(edu[\"Parents Economic Status\"]), lsuffix='_left', rsuffix='_right')\n",
    "edu_new=edu_new.rename(columns={0:\"PES Parents don't exist\", 1:\"PES Father\", 2:\"PES Mother\",\n",
    "                               3:\"PES Both\", 4:\"PES None\"})"
   ]
  },
  {
   "cell_type": "markdown",
   "metadata": {},
   "source": [
    "## 앙상블 - 부스팅 (에이다부스트)"
   ]
  },
  {
   "cell_type": "markdown",
   "metadata": {},
   "source": [
    "#### 레이블과 피처값 분리"
   ]
  },
  {
   "cell_type": "code",
   "execution_count": 37,
   "metadata": {},
   "outputs": [],
   "source": [
    "edu_label=edu.iloc[:,-1]\n",
    "edu_feature=edu.drop('Score', axis=1, inplace=False)\n",
    "edu_feature=edu_feature.drop('Future Major', axis=1, inplace=False)"
   ]
  },
  {
   "cell_type": "markdown",
   "metadata": {},
   "source": [
    "#### 학습과 테스트 데이터 분리"
   ]
  },
  {
   "cell_type": "code",
   "execution_count": 38,
   "metadata": {},
   "outputs": [],
   "source": [
    "from sklearn.model_selection import train_test_split\n",
    "from sklearn.metrics import accuracy_score\n",
    "X_train, X_test, y_train, y_test=train_test_split(edu_feature, edu_label,\n",
    "                                                 test_size=0.2, random_state=11)"
   ]
  },
  {
   "cell_type": "code",
   "execution_count": 39,
   "metadata": {},
   "outputs": [
    {
     "name": "stdout",
     "output_type": "stream",
     "text": [
      "예측 정확도: 0.2814\n"
     ]
    }
   ],
   "source": [
    "ada_clf=ensemble.AdaBoostClassifier(base_estimator=tree.DecisionTreeClassifier(max_depth=12),\n",
    "                                    n_estimators=300)\n",
    "ada_clf.fit(X_train, y_train)\n",
    "pred=ada_clf.predict(X_test)\n",
    "print('예측 정확도: {0:.4f}'.format(accuracy_score(y_test, pred)))\n"
   ]
  },
  {
   "cell_type": "markdown",
   "metadata": {},
   "source": [
    "#### 예측 정확도가 0.28로 너무 낮아서 레이블 밸류카운트 해봄."
   ]
  },
  {
   "cell_type": "code",
   "execution_count": 40,
   "metadata": {},
   "outputs": [
    {
     "data": {
      "text/plain": [
       "3    10946\n",
       "2     7383\n",
       "4     7310\n",
       "5     7066\n",
       "1     3774\n",
       "Name: Score, dtype: int64"
      ]
     },
     "execution_count": 40,
     "metadata": {},
     "output_type": "execute_result"
    }
   ],
   "source": [
    "edu_label.value_counts()"
   ]
  },
  {
   "cell_type": "markdown",
   "metadata": {},
   "source": [
    "#### => 분리하고 봤더니 레이블의 범주값별 수가 고르지 않음. 엑셀에서 상-중상-중-중하-하 에서 상-중-하로 합치자."
   ]
  },
  {
   "cell_type": "code",
   "execution_count": 41,
   "metadata": {},
   "outputs": [],
   "source": [
    "edu_new=pd.read_csv(\"/Users/air/Leena Python/MachineLearning/Data/edu_new.csv\")"
   ]
  },
  {
   "cell_type": "code",
   "execution_count": 42,
   "metadata": {},
   "outputs": [],
   "source": [
    "edu_label=edu_new.iloc[:,-1]\n",
    "edu_feature=edu_new.drop('Score', axis=1, inplace=False)\n",
    "edu_feature=edu_feature.drop('Future Major', axis=1, inplace=False)"
   ]
  },
  {
   "cell_type": "code",
   "execution_count": 43,
   "metadata": {},
   "outputs": [
    {
     "data": {
      "text/plain": [
       "3    14376\n",
       "1    11157\n",
       "2    10946\n",
       "Name: Score, dtype: int64"
      ]
     },
     "execution_count": 43,
     "metadata": {},
     "output_type": "execute_result"
    }
   ],
   "source": [
    "edu_label.value_counts()"
   ]
  },
  {
   "cell_type": "markdown",
   "metadata": {},
   "source": [
    "#### 전보다 범주별 데이터 수가 고르게 바꼈음. 다시 에이다부스트 돌려보자."
   ]
  },
  {
   "cell_type": "code",
   "execution_count": 44,
   "metadata": {},
   "outputs": [],
   "source": [
    "from sklearn.model_selection import train_test_split\n",
    "from sklearn.metrics import accuracy_score\n",
    "X_train, X_test, y_train, y_test=train_test_split(edu_feature, edu_label,\n",
    "                                                 test_size=0.2, random_state=11)"
   ]
  },
  {
   "cell_type": "code",
   "execution_count": 45,
   "metadata": {},
   "outputs": [
    {
     "name": "stdout",
     "output_type": "stream",
     "text": [
      "예측 정확도: 0.4120\n"
     ]
    }
   ],
   "source": [
    "ada_clf=ensemble.AdaBoostClassifier(base_estimator=tree.DecisionTreeClassifier(max_depth=12),\n",
    "                                    n_estimators=300)\n",
    "ada_clf.fit(X_train, y_train)\n",
    "pred=ada_clf.predict(X_test)\n",
    "print('예측 정확도: {0:.4f}'.format(accuracy_score(y_test, pred)))\n"
   ]
  },
  {
   "cell_type": "markdown",
   "metadata": {},
   "source": [
    "#### 정확도 40%로, 12% 상승함. 어떤 변수가 중요한지 보자."
   ]
  },
  {
   "cell_type": "code",
   "execution_count": 46,
   "metadata": {},
   "outputs": [
    {
     "name": "stderr",
     "output_type": "stream",
     "text": [
      "/Users/air/opt/anaconda3/lib/python3.7/site-packages/sklearn/tree/tree.py:527: RuntimeWarning: invalid value encountered in true_divide\n",
      "  return self.tree_.compute_feature_importances()\n"
     ]
    },
    {
     "data": {
      "image/png": "[encoded data removed]",
      "text/plain": [
       "<Figure size 576x432 with 1 Axes>"
      ]
     },
     "metadata": {
      "needs_background": "light"
     },
     "output_type": "display_data"
    }
   ],
   "source": [
    "import matplotlib.pyplot as plt\n",
    "import seaborn as sns\n",
    "%matplotlib inline\n",
    "\n",
    "ftr_importances_values=ada_clf.feature_importances_\n",
    "ftr_importances=pd.Series(ftr_importances_values, index=X_train.columns)\n",
    "ftr_top20=ftr_importances.sort_values(ascending=False)[:20]\n",
    "\n",
    "plt.figure(figsize=(8,6))\n",
    "plt.title('Feature importances Top 20')\n",
    "sns.barplot(x=ftr_top20, y=ftr_top20.index)\n",
    "plt.show()"
   ]
  },
  {
   "cell_type": "markdown",
   "metadata": {},
   "source": [
    "#### 아버지가 부재할경우가 좀 이상하니 살펴보자."
   ]
  },
  {
   "cell_type": "code",
   "execution_count": 47,
   "metadata": {},
   "outputs": [
    {
     "data": {
      "text/plain": [
       "0    34128\n",
       "1     2351\n",
       "Name: Father Doesnt Exist, dtype: int64"
      ]
     },
     "execution_count": 47,
     "metadata": {},
     "output_type": "execute_result"
    }
   ],
   "source": [
    "edu_new['Father Doesnt Exist'].value_counts()"
   ]
  },
  {
   "cell_type": "code",
   "execution_count": 48,
   "metadata": {},
   "outputs": [
    {
     "data": {
      "text/plain": [
       "0    36112\n",
       "1      367\n",
       "Name: Father 20s, dtype: int64"
      ]
     },
     "execution_count": 48,
     "metadata": {},
     "output_type": "execute_result"
    }
   ],
   "source": [
    "edu_new['Father 20s'].value_counts()"
   ]
  },
  {
   "cell_type": "code",
   "execution_count": 49,
   "metadata": {},
   "outputs": [
    {
     "data": {
      "text/plain": [
       "1    21022\n",
       "0    15457\n",
       "Name: Father 30s, dtype: int64"
      ]
     },
     "execution_count": 49,
     "metadata": {},
     "output_type": "execute_result"
    }
   ],
   "source": [
    "edu_new['Father 30s'].value_counts()"
   ]
  },
  {
   "cell_type": "code",
   "execution_count": 50,
   "metadata": {},
   "outputs": [
    {
     "data": {
      "text/plain": [
       "0    24181\n",
       "1    12298\n",
       "Name: Father 40s, dtype: int64"
      ]
     },
     "execution_count": 50,
     "metadata": {},
     "output_type": "execute_result"
    }
   ],
   "source": [
    "edu_new['Father 40s'].value_counts()"
   ]
  },
  {
   "cell_type": "code",
   "execution_count": 51,
   "metadata": {},
   "outputs": [
    {
     "data": {
      "text/plain": [
       "0    36038\n",
       "1      441\n",
       "Name: Father 50s, dtype: int64"
      ]
     },
     "execution_count": 51,
     "metadata": {},
     "output_type": "execute_result"
    }
   ],
   "source": [
    "edu_new['Father 50s'].value_counts()"
   ]
  },
  {
   "cell_type": "markdown",
   "metadata": {},
   "source": [
    "#### 애초에 고등학생 대상이니 30대와 40대 아버지가 불균등하게 가장 많을수밖에 없음. 부모의 나이관련된 변수를 모두 빼보자."
   ]
  },
  {
   "cell_type": "markdown",
   "metadata": {},
   "source": [
    "#### 수정된 엑셀파일을 불러와서 다시 에이다부스트 해보자."
   ]
  },
  {
   "cell_type": "code",
   "execution_count": 52,
   "metadata": {},
   "outputs": [],
   "source": [
    "edu_new=pd.read_csv(\"/Users/air/Leena Python/MachineLearning/Data/edu_new2.csv\")"
   ]
  },
  {
   "cell_type": "code",
   "execution_count": 53,
   "metadata": {},
   "outputs": [],
   "source": [
    "edu_label=edu_new.iloc[:,-1]\n",
    "edu_feature=edu_new.drop('Score', axis=1, inplace=False)\n",
    "edu_feature=edu_feature.drop('Future Major', axis=1, inplace=False)\n",
    "X_train, X_test, y_train, y_test=train_test_split(edu_feature, edu_label,\n",
    "                                                 test_size=0.2, random_state=11)"
   ]
  },
  {
   "cell_type": "code",
   "execution_count": 54,
   "metadata": {},
   "outputs": [
    {
     "name": "stdout",
     "output_type": "stream",
     "text": [
      "예측 정확도: 0.4025\n"
     ]
    }
   ],
   "source": [
    "ada_clf=ensemble.AdaBoostClassifier(base_estimator=tree.DecisionTreeClassifier(max_depth=12),\n",
    "                                    n_estimators=300)\n",
    "ada_clf.fit(X_train, y_train)\n",
    "pred=ada_clf.predict(X_test)\n",
    "print('예측 정확도: {0:.4f}'.format(accuracy_score(y_test, pred)))"
   ]
  },
  {
   "cell_type": "code",
   "execution_count": 55,
   "metadata": {},
   "outputs": [
    {
     "name": "stderr",
     "output_type": "stream",
     "text": [
      "/Users/air/opt/anaconda3/lib/python3.7/site-packages/sklearn/tree/tree.py:527: RuntimeWarning: invalid value encountered in true_divide\n",
      "  return self.tree_.compute_feature_importances()\n"
     ]
    },
    {
     "data": {
      "image/png": "[encoded data removed]",
      "text/plain": [
       "<Figure size 576x432 with 1 Axes>"
      ]
     },
     "metadata": {
      "needs_background": "light"
     },
     "output_type": "display_data"
    }
   ],
   "source": [
    "import matplotlib.pyplot as plt\n",
    "import seaborn as sns\n",
    "%matplotlib inline\n",
    "\n",
    "ftr_importances_values=ada_clf.feature_importances_\n",
    "ftr_importances=pd.Series(ftr_importances_values, index=X_train.columns)\n",
    "ftr_top20=ftr_importances.sort_values(ascending=False)[:20]\n",
    "\n",
    "plt.figure(figsize=(8,6))\n",
    "plt.title('Feature importances Top 20')\n",
    "sns.barplot(x=ftr_top20, y=ftr_top20.index)\n",
    "plt.show()"
   ]
  },
  {
   "cell_type": "markdown",
   "metadata": {},
   "source": [
    "#### => 정확도는 크게 달라지지 않았지만, 아버지의 나이를 빼니 부모중 아무도 경제활동을 하지 않는다는 변수가 1위 탈환. 그 전엔 20위 안에 들지 못하는 변수였는데 확 올라온걸 보니 변수들이 많아 다중공선성이 의심됨."
   ]
  },
  {
   "cell_type": "markdown",
   "metadata": {},
   "source": [
    "#### 이상치를 살펴보기 위해 피처별 상관도를 구해보자."
   ]
  },
  {
   "cell_type": "code",
   "execution_count": 56,
   "metadata": {},
   "outputs": [
    {
     "data": {
      "text/plain": [
       "<matplotlib.axes._subplots.AxesSubplot at 0x1a230da810>"
      ]
     },
     "execution_count": 56,
     "metadata": {},
     "output_type": "execute_result"
    },
    {
     "data": {
      "image/png": "[encoded data removed]",
      "text/plain": [
       "<Figure size 1440x1440 with 2 Axes>"
      ]
     },
     "metadata": {
      "needs_background": "light"
     },
     "output_type": "display_data"
    }
   ],
   "source": [
    "import seaborn as sns\n",
    "\n",
    "plt.figure(figsize=(20,20))\n",
    "corr=edu_new.corr()\n",
    "sns.heatmap(corr, cmap='RdBu')"
   ]
  },
  {
   "cell_type": "markdown",
   "metadata": {},
   "source": [
    "#### 임베딩 해주고 나서의 연속형 변수들이 해주기 전의 원본 변수들과 상관관계가 높은것을 확인. 임베딩 해준 변수들만 남기고 없애자."
   ]
  },
  {
   "cell_type": "code",
   "execution_count": 64,
   "metadata": {},
   "outputs": [],
   "source": [
    "import pandas as pd\n",
    "edu_new=pd.read_csv(\"/Users/air/Leena Python/MachineLearning/Data/edu_new2(2).csv\")"
   ]
  },
  {
   "cell_type": "code",
   "execution_count": 65,
   "metadata": {},
   "outputs": [],
   "source": [
    "from sklearn.model_selection import train_test_split\n",
    "from sklearn.metrics import accuracy_score\n",
    "edu_label=edu_new.iloc[:,-1]\n",
    "edu_feature=edu_new.drop('Score', axis=1, inplace=False)\n",
    "edu_feature=edu_feature.drop('Future Major', axis=1, inplace=False)\n",
    "X_train, X_test, y_train, y_test=train_test_split(edu_feature, edu_label,\n",
    "                                                 test_size=0.2, random_state=11)"
   ]
  },
  {
   "cell_type": "code",
   "execution_count": 66,
   "metadata": {},
   "outputs": [
    {
     "name": "stdout",
     "output_type": "stream",
     "text": [
      "예측 정확도: 0.3916\n"
     ]
    }
   ],
   "source": [
    "ada_clf=ensemble.AdaBoostClassifier(base_estimator=tree.DecisionTreeClassifier(max_depth=12),\n",
    "                                    n_estimators=300)\n",
    "ada_clf.fit(X_train, y_train)\n",
    "pred=ada_clf.predict(X_test)\n",
    "print('예측 정확도: {0:.4f}'.format(accuracy_score(y_test, pred)))"
   ]
  },
  {
   "cell_type": "code",
   "execution_count": 67,
   "metadata": {},
   "outputs": [
    {
     "data": {
      "image/png": "[encoded data removed]",
      "text/plain": [
       "<Figure size 576x432 with 1 Axes>"
      ]
     },
     "metadata": {
      "needs_background": "light"
     },
     "output_type": "display_data"
    }
   ],
   "source": [
    "import matplotlib.pyplot as plt\n",
    "import seaborn as sns\n",
    "%matplotlib inline\n",
    "\n",
    "ftr_importances_values=ada_clf.feature_importances_\n",
    "ftr_importances=pd.Series(ftr_importances_values, index=X_train.columns)\n",
    "ftr_top20=ftr_importances.sort_values(ascending=False)[:20]\n",
    "\n",
    "plt.figure(figsize=(8,6))\n",
    "plt.title('Feature importances Top 20')\n",
    "sns.barplot(x=ftr_top20, y=ftr_top20.index)\n",
    "plt.show()"
   ]
  },
  {
   "cell_type": "markdown",
   "metadata": {},
   "source": [
    "#### 정확도는 올라가지 않았지만 기존의 부모 부재보다 아버지의 대학 수료 여부가 가장 중요한 규칙 변수가 됨.\n",
    "    임의로 임베딩하여 범주형을 연속형으로 만들어서 그런가 싶어 원래 연속형이었던 변수들만 가지고 돌려보기로 함."
   ]
  },
  {
   "cell_type": "code",
   "execution_count": 68,
   "metadata": {},
   "outputs": [],
   "source": [
    "edu_new=pd.read_csv(\"/Users/air/Leena Python/MachineLearning/Data/edu_new4.csv\")"
   ]
  },
  {
   "cell_type": "code",
   "execution_count": 69,
   "metadata": {},
   "outputs": [],
   "source": [
    "edu_label=edu_new.iloc[:,-1]\n",
    "edu_feature=edu_new.drop('Score', axis=1, inplace=False)\n",
    "edu_feature=edu_feature.drop('Future Major', axis=1, inplace=False)\n",
    "X_train, X_test, y_train, y_test=train_test_split(edu_feature, edu_label,\n",
    "                                                 test_size=0.2, random_state=11)"
   ]
  },
  {
   "cell_type": "code",
   "execution_count": 70,
   "metadata": {},
   "outputs": [
    {
     "name": "stdout",
     "output_type": "stream",
     "text": [
      "예측 정확도: 0.3982\n"
     ]
    }
   ],
   "source": [
    "ada_clf=ensemble.AdaBoostClassifier(base_estimator=tree.DecisionTreeClassifier(max_depth=12),\n",
    "                                    n_estimators=300)\n",
    "ada_clf.fit(X_train, y_train)\n",
    "pred=ada_clf.predict(X_test)\n",
    "print('예측 정확도: {0:.4f}'.format(accuracy_score(y_test, pred)))"
   ]
  },
  {
   "cell_type": "markdown",
   "metadata": {},
   "source": [
    "#### 정확도에 별 차이가 없으므로 변수 많은 애로 다른 부스팅 활용해보자."
   ]
  },
  {
   "cell_type": "markdown",
   "metadata": {},
   "source": [
    "### 앙상블 - 부스팅 (GBM)"
   ]
  },
  {
   "cell_type": "code",
   "execution_count": 71,
   "metadata": {},
   "outputs": [],
   "source": [
    "edu_new=pd.read_csv(\"/Users/air/Leena Python/MachineLearning/Data/edu_new3(3).csv\")"
   ]
  },
  {
   "cell_type": "code",
   "execution_count": 72,
   "metadata": {},
   "outputs": [
    {
     "name": "stdout",
     "output_type": "stream",
     "text": [
      "Fitting 5 folds for each of 4 candidates, totalling 20 fits\n"
     ]
    },
    {
     "name": "stderr",
     "output_type": "stream",
     "text": [
      "[Parallel(n_jobs=1)]: Using backend SequentialBackend with 1 concurrent workers.\n",
      "[Parallel(n_jobs=1)]: Done  20 out of  20 | elapsed:  2.1min finished\n"
     ]
    },
    {
     "name": "stdout",
     "output_type": "stream",
     "text": [
      "최적 하이퍼 파라미터:\n",
      " {'learning_rate': 0.05, 'n_estimators': 100}\n",
      "최고 예측 정확도: 0.4298\n"
     ]
    }
   ],
   "source": [
    "from sklearn.model_selection import GridSearchCV\n",
    "from sklearn.ensemble import GradientBoostingClassifier\n",
    "\n",
    "gb_clf=GradientBoostingClassifier(random_state=0)\n",
    "\n",
    "params={\n",
    "    'n_estimators':[100, 300],\n",
    "    'learning_rate':[0.05, 0.1]\n",
    "}\n",
    "grid_cv=GridSearchCV(gb_clf, param_grid=params, cv=5, verbose=1)\n",
    "grid_cv.fit(X_train, y_train)\n",
    "print('최적 하이퍼 파라미터:\\n', grid_cv.best_params_)\n",
    "print('최고 예측 정확도: {0:.4f}'.format(grid_cv.best_score_))"
   ]
  },
  {
   "cell_type": "markdown",
   "metadata": {},
   "source": [
    "### => GBM이 앙상블에 비해 정확도가 42.9%로 높아짐."
   ]
  },
  {
   "cell_type": "code",
   "execution_count": 73,
   "metadata": {},
   "outputs": [],
   "source": [
    "from sklearn.ensemble import GradientBoostingClassifier\n",
    "gb_clf=GradientBoostingClassifier(n_estimators=100, learning_rate=0.1, random_state=0)"
   ]
  },
  {
   "cell_type": "markdown",
   "metadata": {},
   "source": [
    "### 앙상블 - 부스팅 (XGBoost)"
   ]
  },
  {
   "cell_type": "code",
   "execution_count": 74,
   "metadata": {},
   "outputs": [
    {
     "name": "stdout",
     "output_type": "stream",
     "text": [
      "Fitting 3 folds for each of 4 candidates, totalling 12 fits\n"
     ]
    },
    {
     "name": "stderr",
     "output_type": "stream",
     "text": [
      "[Parallel(n_jobs=1)]: Using backend SequentialBackend with 1 concurrent workers.\n",
      "[Parallel(n_jobs=1)]: Done  12 out of  12 | elapsed:   47.5s finished\n"
     ]
    },
    {
     "name": "stdout",
     "output_type": "stream",
     "text": [
      "최적 하이퍼 파라미터:\n",
      " {'learning_rate': 0.1, 'n_estimators': 100}\n",
      "최고 예측 정확도: 0.4256\n"
     ]
    }
   ],
   "source": [
    "# 사이킷런 래퍼 XGBoost 클래스인 XGBClassifier 임포트\n",
    "from xgboost import XGBClassifier\n",
    "from sklearn.model_selection import GridSearchCV\n",
    "xgb_wrapper=XGBClassifier(random_state=0)\n",
    "\n",
    "params={\n",
    "    'n_estimators':[100, 300],\n",
    "    'learning_rate':[0.1, 0.15]\n",
    "}\n",
    "grid_cv=GridSearchCV(xgb_wrapper, param_grid=params, cv=3, verbose=1)\n",
    "grid_cv.fit(X_train, y_train)\n",
    "print('최적 하이퍼 파라미터:\\n', grid_cv.best_params_)\n",
    "print('최고 예측 정확도: {0:.4f}'.format(grid_cv.best_score_))"
   ]
  },
  {
   "cell_type": "code",
   "execution_count": 75,
   "metadata": {},
   "outputs": [],
   "source": [
    "xgb_wrapper=XGBClassifier(random_state=0, learning_rate=0.1, n_estimators=100)\n"
   ]
  },
  {
   "cell_type": "markdown",
   "metadata": {},
   "source": [
    "#### => GBM과 크게 정확도가 다르지 않음."
   ]
  },
  {
   "cell_type": "markdown",
   "metadata": {},
   "source": [
    "### 앙상블 - 부스팅 (LightGBM)"
   ]
  },
  {
   "cell_type": "code",
   "execution_count": 76,
   "metadata": {},
   "outputs": [
    {
     "name": "stderr",
     "output_type": "stream",
     "text": [
      "/Users/air/opt/anaconda3/lib/python3.7/site-packages/lightgbm/__init__.py:48: UserWarning: Starting from version 2.2.1, the library file in distribution wheels for macOS is built by the Apple Clang (Xcode_8.3.3) compiler.\n",
      "This means that in case of installing LightGBM from PyPI via the ``pip install lightgbm`` command, you don't need to install the gcc compiler anymore.\n",
      "Instead of that, you need to install the OpenMP library, which is required for running LightGBM on the system with the Apple Clang compiler.\n",
      "You can install the OpenMP library by the following command: ``brew install libomp``.\n",
      "  \"You can install the OpenMP library by the following command: ``brew install libomp``.\", UserWarning)\n"
     ]
    },
    {
     "name": "stdout",
     "output_type": "stream",
     "text": [
      "예측 정확도: 0.4238\n"
     ]
    }
   ],
   "source": [
    "# 앞서 XGBoost와 동일하게 n_estimators는 100 설정\n",
    "from lightgbm import LGBMClassifier\n",
    "lgbm_wrapper=LGBMClassifier(n_estimators=100, learning_rate=0.1)\n",
    "lgbm_wrapper.fit(X_train, y_train)\n",
    "pred=lgbm_wrapper.predict(X_test)\n",
    "print('예측 정확도: {0:.4f}'.format(accuracy_score(y_test, pred)))\n"
   ]
  },
  {
   "cell_type": "markdown",
   "metadata": {},
   "source": [
    "#### => 매우 빠른 속도로 학습, 예측, 평가되었고 정확도는 44.3%로 앞의 부스팅들과 크게 다르지 않음."
   ]
  },
  {
   "cell_type": "markdown",
   "metadata": {},
   "source": [
    "### 부스팅들로 앙상블"
   ]
  },
  {
   "cell_type": "code",
   "execution_count": 77,
   "metadata": {},
   "outputs": [
    {
     "name": "stdout",
     "output_type": "stream",
     "text": [
      "Voting 분류기 정확도: 0.4264\n"
     ]
    }
   ],
   "source": [
    "from sklearn.ensemble import VotingClassifier\n",
    "vo_clf=VotingClassifier(estimators=[('GBM', gb_clf), ('XGBoost', xgb_wrapper), ('LightGBM', lgbm_wrapper)],\n",
    "                         voting='soft')\n",
    "# VotingClassifier 학습/예측/평가\n",
    "vo_clf.fit(X_train, y_train)\n",
    "pred=vo_clf.predict(X_test)\n",
    "print('Voting 분류기 정확도: {0:.4f}'.format(accuracy_score(y_test, pred)))\n"
   ]
  },
  {
   "cell_type": "markdown",
   "metadata": {},
   "source": [
    "#### => 개별 부스트들보다 크게 나아지진 않은 42.6%의 정확도를 보임."
   ]
  },
  {
   "cell_type": "code",
   "execution_count": null,
   "metadata": {},
   "outputs": [],
   "source": []
  },
  {
   "cell_type": "markdown",
   "metadata": {},
   "source": [
    "## 앙상블 - 배깅 (랜덤포레스트)"
   ]
  },
  {
   "cell_type": "markdown",
   "metadata": {},
   "source": [
    "#### 학습, 테스트 데이터 분리"
   ]
  },
  {
   "cell_type": "code",
   "execution_count": 78,
   "metadata": {},
   "outputs": [],
   "source": [
    "from sklearn.model_selection import train_test_split\n",
    "from sklearn.metrics import accuracy_score\n",
    "X_train, X_test, y_train, y_test=train_test_split(edu_feature, edu_label,\n",
    "                                                 test_size=0.2, random_state=11)"
   ]
  },
  {
   "cell_type": "markdown",
   "metadata": {},
   "source": [
    "#### 앙상블 배깅 1. 랜덤포레스트"
   ]
  },
  {
   "cell_type": "code",
   "execution_count": 79,
   "metadata": {},
   "outputs": [],
   "source": [
    "from sklearn.ensemble import RandomForestClassifier\n",
    "from sklearn.metrics import accuracy_score\n",
    "import warnings \n",
    "warnings.filterwarnings('ignore')"
   ]
  },
  {
   "cell_type": "code",
   "execution_count": 80,
   "metadata": {},
   "outputs": [],
   "source": [
    "from sklearn.model_selection import GridSearchCV\n",
    "from sklearn.metrics import accuracy_score, confusion_matrix\n",
    "from sklearn.metrics import precision_score, recall_score, f1_score"
   ]
  },
  {
   "cell_type": "code",
   "execution_count": 81,
   "metadata": {},
   "outputs": [],
   "source": [
    "# 하이퍼파라미터 튜닝\n",
    "params={\n",
    "    'n_estimators':[300],\n",
    "    'max_depth':[10,12,18],\n",
    "    'min_samples_leaf':[8, 12, 20],\n",
    "    'min_samples_split':[8, 12, 20]\n",
    "}"
   ]
  },
  {
   "cell_type": "code",
   "execution_count": 13,
   "metadata": {},
   "outputs": [
    {
     "name": "stdout",
     "output_type": "stream",
     "text": [
      "최적 하이퍼 파라미터:\n",
      " {'max_depth': 18, 'min_samples_leaf': 8, 'min_samples_split': 8, 'n_estimators': 300}\n",
      "최고 예측 정확도: 0.4513\n"
     ]
    }
   ],
   "source": [
    "from sklearn.ensemble import RandomForestClassifier\n",
    "# RandomForestClassifier 객체 생성 후 GridSearchCV 수행\n",
    "rf_clf=RandomForestClassifier(random_state=0, n_jobs=-1)\n",
    "grid_cv=GridSearchCV(rf_clf, param_grid=params, cv=5, n_jobs=-1)\n",
    "grid_cv.fit(X_train, y_train)\n",
    "\n",
    "print('최적 하이퍼 파라미터:\\n', grid_cv.best_params_)\n",
    "print('최고 예측 정확도: {0:.4f}'.format(grid_cv.best_score_))"
   ]
  },
  {
   "cell_type": "markdown",
   "metadata": {},
   "source": [
    "#### => 랜덤포레스트의 정확도는 45%"
   ]
  },
  {
   "cell_type": "code",
   "execution_count": 15,
   "metadata": {},
   "outputs": [
    {
     "name": "stdout",
     "output_type": "stream",
     "text": [
      "예측 정확도: 0.4476\n"
     ]
    }
   ],
   "source": [
    "rf_clf1=RandomForestClassifier(n_estimators=300, max_depth=18, min_samples_leaf=8,\n",
    "                               min_samples_split=8, random_state=0)\n",
    "rf_clf1.fit(X_train, y_train)\n",
    "pred=rf_clf1.predict(X_test)\n",
    "print('예측 정확도: {0:.4f}'.format(accuracy_score(y_test, pred)))\n"
   ]
  },
  {
   "cell_type": "markdown",
   "metadata": {},
   "source": [
    "#### 어떤 변수가 가장 큰 분류 규칙인지 확인해보자."
   ]
  },
  {
   "cell_type": "code",
   "execution_count": 16,
   "metadata": {},
   "outputs": [
    {
     "data": {
      "image/png": "[encoded data removed]",
      "text/plain": [
       "<Figure size 576x432 with 1 Axes>"
      ]
     },
     "metadata": {
      "needs_background": "light"
     },
     "output_type": "display_data"
    }
   ],
   "source": [
    "import matplotlib.pyplot as plt\n",
    "import seaborn as sns\n",
    "%matplotlib inline\n",
    "\n",
    "ftr_importances_values=rf_clf1.feature_importances_\n",
    "ftr_importances=pd.Series(ftr_importances_values, index=X_train.columns)\n",
    "ftr_top20=ftr_importances.sort_values(ascending=False)[:20]\n",
    "\n",
    "plt.figure(figsize=(8,6))\n",
    "plt.title('Feature importances Top 20')\n",
    "sns.barplot(x=ftr_top20, y=ftr_top20.index)\n",
    "plt.show()"
   ]
  },
  {
   "cell_type": "markdown",
   "metadata": {},
   "source": [
    "#### => 연간 사교육비, 방과후수업 시간, 방과후수업비가 가장 강력한 규칙 노드 변수."
   ]
  },
  {
   "cell_type": "markdown",
   "metadata": {},
   "source": [
    "### 분류 결론\n",
    "    앙상블의 배깅으로 사용된 랜덤포레스트는 처음에는 30퍼센트대의 정확도를 보였으나, 레이블 범주를 줄이고 몇몇 변수들을 제거한 결과 45%까지 올라갔다.\n",
    "    앙상블의 보팅으로 사용된 에이다, GBM, XGBoost, LightGBM은 44.7%의 정확도를 보였다."
   ]
  },
  {
   "cell_type": "markdown",
   "metadata": {},
   "source": [
    "## 회귀 \n",
    "    회귀에선 피처들을 가지고 사교육비를 예측해보자."
   ]
  },
  {
   "cell_type": "markdown",
   "metadata": {},
   "source": [
    "## 회귀 - 릿지"
   ]
  },
  {
   "cell_type": "code",
   "execution_count": 44,
   "metadata": {},
   "outputs": [],
   "source": [
    "edu_new=pd.read_csv(\"/Users/air/Leena Python/MachineLearning/Data/edu_new3.csv\")\n",
    "\n",
    "edu_label=edu_new.iloc[:,-1]\n",
    "edu_feature=edu_new.drop('Annual Private Edu Expense', axis=1, inplace=False)\n",
    "edu_feature=edu_feature.drop('Score', axis=1, inplace=False)"
   ]
  },
  {
   "cell_type": "code",
   "execution_count": 21,
   "metadata": {},
   "outputs": [
    {
     "data": {
      "text/plain": [
       "0         413.136647\n",
       "1           0.000000\n",
       "2           0.000000\n",
       "3        2203.395453\n",
       "4        2518.166232\n",
       "            ...     \n",
       "36474       0.000000\n",
       "36475       0.000000\n",
       "36476     166.403182\n",
       "36477     147.548803\n",
       "36478     190.175065\n",
       "Name: Annual Private Edu Expense, Length: 36479, dtype: float64"
      ]
     },
     "execution_count": 21,
     "metadata": {},
     "output_type": "execute_result"
    }
   ],
   "source": [
    "edu_label"
   ]
  },
  {
   "cell_type": "code",
   "execution_count": 24,
   "metadata": {},
   "outputs": [
    {
     "name": "stdout",
     "output_type": "stream",
     "text": [
      "<class 'pandas.core.frame.DataFrame'>\n",
      "RangeIndex: 36479 entries, 0 to 36478\n",
      "Data columns (total 86 columns):\n",
      "Extra Activity Hours          36479 non-null float64\n",
      "Extra Activity Expense        36479 non-null float64\n",
      "Future Major                  36479 non-null int64\n",
      "Region_Seoul                  36479 non-null int64\n",
      "Region_Metropolitan           36479 non-null int64\n",
      "Region_Small_Medium           36479 non-null int64\n",
      "Rural                         36479 non-null int64\n",
      "Nomral Highschool             36479 non-null int64\n",
      "Sepcialized Highschool        36479 non-null int64\n",
      "Male Student                  36479 non-null int64\n",
      "Female Student                36479 non-null int64\n",
      "Fa Edu_Father Doesnt Exist    36479 non-null int64\n",
      "Fa No Degree                  36479 non-null int64\n",
      "Fa Primary Grat               36479 non-null int64\n",
      "Fa Primary Stop               36479 non-null int64\n",
      "Fa Secondary Grat             36479 non-null int64\n",
      "Fa Secondary Complete         36479 non-null int64\n",
      "Fa Secondary Stop             36479 non-null int64\n",
      "Fa Highschool Grat            36479 non-null int64\n",
      "Fa Highschool Complete        36479 non-null int64\n",
      "Fa Highschool Stop            36479 non-null int64\n",
      "Fa College Grat               36479 non-null int64\n",
      "Fa College Complete           36479 non-null int64\n",
      "Fa College Being              36479 non-null int64\n",
      "Fa College Stop               36479 non-null int64\n",
      "Fa College Gap                36479 non-null int64\n",
      "Fa Uni Grat                   36479 non-null int64\n",
      "Fa Uni Complete               36479 non-null int64\n",
      "Fa Uni Being                  36479 non-null int64\n",
      "Fa Uni Stop                   36479 non-null int64\n",
      "Fa Uni Gap                    36479 non-null int64\n",
      "Fa Master Grat                36479 non-null int64\n",
      "Fa Master Complete            36479 non-null int64\n",
      "Fa Master Being               36479 non-null int64\n",
      "Fa Master Stop                36479 non-null int64\n",
      "Fa Master Gap                 36479 non-null int64\n",
      "Fa Doctor Grat                36479 non-null int64\n",
      "Fa Doctor Complete            36479 non-null int64\n",
      "Fa Doctor Being               36479 non-null int64\n",
      "Fa Doctor Stop                36479 non-null int64\n",
      "Fa Doctor Gap                 36479 non-null int64\n",
      "Mo Edu_Mother Doesnt Exist    36479 non-null int64\n",
      "Mo No Degree                  36479 non-null int64\n",
      "Mo Primary Grat               36479 non-null int64\n",
      "Mo Primary Complete           36479 non-null int64\n",
      "Mo Primary Stop               36479 non-null int64\n",
      "Mo Secondary Grat             36479 non-null int64\n",
      "Mo Secondary Complete         36479 non-null int64\n",
      "Mo Secondary Stop             36479 non-null int64\n",
      "Mo Highschool Grat            36479 non-null int64\n",
      "Mo Highschool Complete        36479 non-null int64\n",
      "Mo Highschool Stop            36479 non-null int64\n",
      "Mo Highschool Gap             36479 non-null int64\n",
      "Mo College Grat               36479 non-null int64\n",
      "Mo College Complete           36479 non-null int64\n",
      "Mo College Being              36479 non-null int64\n",
      "Mo College Stop               36479 non-null int64\n",
      "Mo College Gap                36479 non-null int64\n",
      "Mo Uni Grat                   36479 non-null int64\n",
      "Mo Uni Complete               36479 non-null int64\n",
      "Mo Uni Being                  36479 non-null int64\n",
      "Mo Uni Stop                   36479 non-null int64\n",
      "Mo Uni Gap                    36479 non-null int64\n",
      "Mo Master Grat                36479 non-null int64\n",
      "Mo Master Complete            36479 non-null int64\n",
      "Mo Master Being               36479 non-null int64\n",
      "Mo Master Stop                36479 non-null int64\n",
      "Mo Master Gap                 36479 non-null int64\n",
      "Mo Doctor Grat                36479 non-null int64\n",
      "Mo Doctor Complete            36479 non-null int64\n",
      "Mo Doctor Being               36479 non-null int64\n",
      "Mo Doctor Stop                36479 non-null int64\n",
      "Mo Doctor Gap                 36479 non-null int64\n",
      "1_right                       36479 non-null int64\n",
      "MS 200~300                    36479 non-null int64\n",
      "MS 300~400                    36479 non-null int64\n",
      "MS 400~500                    36479 non-null int64\n",
      "MS 500~600                    36479 non-null int64\n",
      "MS 600~700                    36479 non-null int64\n",
      "MS 700~800                    36479 non-null int64\n",
      "MS More than 800              36479 non-null int64\n",
      "PES Parents don't exist       36479 non-null int64\n",
      "PES Father                    36479 non-null int64\n",
      "PES Mother                    36479 non-null int64\n",
      "PES Both                      36479 non-null int64\n",
      "PES None                      36479 non-null int64\n",
      "dtypes: float64(2), int64(84)\n",
      "memory usage: 23.9 MB\n"
     ]
    }
   ],
   "source": [
    "edu_feature.info()"
   ]
  },
  {
   "cell_type": "code",
   "execution_count": 26,
   "metadata": {},
   "outputs": [],
   "source": [
    "from sklearn.linear_model import LinearRegression\n",
    "from sklearn.metrics import mean_squared_error, r2_score"
   ]
  },
  {
   "cell_type": "code",
   "execution_count": 29,
   "metadata": {},
   "outputs": [
    {
     "name": "stdout",
     "output_type": "stream",
     "text": [
      "5 folds의 개별 Negative MSE scores: [-362145.5   -158181.31  -170065.094 -121192.538  -89916.738]\n",
      "5 folds의 개별 RMSE scores: [601.785 397.72  412.389 348.127 299.861]\n",
      "5 folds의 평균 RMSE: 411.977\n"
     ]
    }
   ],
   "source": [
    "from sklearn.linear_model import Ridge\n",
    "from sklearn.model_selection import cross_val_score\n",
    "\n",
    "# alpha=10으로 설정해 릿지 회귀 수행.\n",
    "ridge=Ridge(alpha=10)\n",
    "neg_mse_scores=cross_val_score(ridge, edu_feature, edu_label, scoring=\"neg_mean_squared_error\", cv=5)\n",
    "rmse_scores=np.sqrt(-1*neg_mse_scores)\n",
    "avg_rmse=np.mean(rmse_scores)\n",
    "\n",
    "print('5 folds의 개별 Negative MSE scores:', np.round(neg_mse_scores, 3))\n",
    "print('5 folds의 개별 RMSE scores:', np.round(rmse_scores, 3))\n",
    "print('5 folds의 평균 RMSE: {0:.3f}'.format(avg_rmse))"
   ]
  },
  {
   "cell_type": "code",
   "execution_count": 45,
   "metadata": {},
   "outputs": [
    {
     "name": "stdout",
     "output_type": "stream",
     "text": [
      "alpha 0 일 때 5folds의 평균 RMSE : 165656426590560.875\n",
      "alpha 0.1 일 때 5folds의 평균 RMSE : 411.874\n",
      "alpha 1 일 때 5folds의 평균 RMSE : 411.853\n",
      "alpha 10 일 때 5folds의 평균 RMSE : 411.977\n",
      "alpha 100 일 때 5folds의 평균 RMSE : 413.701\n"
     ]
    }
   ],
   "source": [
    "# 릿지에 사용될 alpha 파라미터의 값을 정의\n",
    "alphas=[0, 0.1, 1, 10, 100]\n",
    "\n",
    "# alphas list 값을 반복하면서 alpha에 따른 평균 rmse를 구함\n",
    "for alpha in alphas :\n",
    "    ridge=Ridge(alpha=alpha)\n",
    "    \n",
    "    # cross_val_score를 이용해 5 폴드의 평균 RMSE를 계산\n",
    "    neg_mse_scores=cross_val_score(ridge, edu_feature, edu_label, scoring=\"neg_mean_squared_error\", cv=5)\n",
    "    avg_rmse=np.mean(np.sqrt(-1*neg_mse_scores))\n",
    "    print('alpha {0} 일 때 5folds의 평균 RMSE : {1:.3f}'.format(alpha, avg_rmse))"
   ]
  },
  {
   "cell_type": "code",
   "execution_count": 35,
   "metadata": {},
   "outputs": [],
   "source": [
    "import seaborn as sns\n",
    "# 각 alpha에 따른 회귀 계수 값을 데이터로 저장하기 위한 DataFrame 생성\n",
    "coeff_df=pd.DataFrame()\n",
    "\n",
    "# alphas 리스트 값을 차례로 입력해 회귀 계수 값 시각화 및 데이터 저장. pos는 axis의 위치 지정\n",
    "for pos, alpha in enumerate(alphas):\n",
    "    ridge=Ridge(alpha=alpha)\n",
    "    ridge.fit(edu_feature, edu_label)\n",
    "    # alpha에 따른 피처별로 회귀 계수를 Series로 변환하고 이를 DataFrame의 칼럼으로 추가\n",
    "    coeff=pd.Series(data=ridge.coef_, index=edu_feature.columns)\n",
    "    colname='alpha:'+str(alpha)\n",
    "    coeff_df[colname]=coeff"
   ]
  },
  {
   "cell_type": "code",
   "execution_count": 46,
   "metadata": {},
   "outputs": [
    {
     "data": {
      "text/html": [
       "<div>\n",
       "<style scoped>\n",
       "    .dataframe tbody tr th:only-of-type {\n",
       "        vertical-align: middle;\n",
       "    }\n",
       "\n",
       "    .dataframe tbody tr th {\n",
       "        vertical-align: top;\n",
       "    }\n",
       "\n",
       "    .dataframe thead th {\n",
       "        text-align: right;\n",
       "    }\n",
       "</style>\n",
       "<table border=\"1\" class=\"dataframe\">\n",
       "  <thead>\n",
       "    <tr style=\"text-align: right;\">\n",
       "      <th></th>\n",
       "      <th>alpha:0</th>\n",
       "      <th>alpha:0.1</th>\n",
       "      <th>alpha:1</th>\n",
       "      <th>alpha:10</th>\n",
       "      <th>alpha:100</th>\n",
       "    </tr>\n",
       "  </thead>\n",
       "  <tbody>\n",
       "    <tr>\n",
       "      <td>MS More than 800</td>\n",
       "      <td>3.287914e+14</td>\n",
       "      <td>176.844501</td>\n",
       "      <td>176.829519</td>\n",
       "      <td>176.812273</td>\n",
       "      <td>175.530524</td>\n",
       "    </tr>\n",
       "    <tr>\n",
       "      <td>MS 700~800</td>\n",
       "      <td>3.287914e+14</td>\n",
       "      <td>106.167220</td>\n",
       "      <td>106.134398</td>\n",
       "      <td>105.954709</td>\n",
       "      <td>103.126617</td>\n",
       "    </tr>\n",
       "    <tr>\n",
       "      <td>MS 600~700</td>\n",
       "      <td>3.287914e+14</td>\n",
       "      <td>64.280080</td>\n",
       "      <td>64.310773</td>\n",
       "      <td>64.324741</td>\n",
       "      <td>62.992576</td>\n",
       "    </tr>\n",
       "    <tr>\n",
       "      <td>MS 500~600</td>\n",
       "      <td>3.287914e+14</td>\n",
       "      <td>18.869848</td>\n",
       "      <td>18.948228</td>\n",
       "      <td>19.008550</td>\n",
       "      <td>18.803700</td>\n",
       "    </tr>\n",
       "    <tr>\n",
       "      <td>MS 400~500</td>\n",
       "      <td>3.287914e+14</td>\n",
       "      <td>-14.534863</td>\n",
       "      <td>-14.580365</td>\n",
       "      <td>-14.712122</td>\n",
       "      <td>-14.815877</td>\n",
       "    </tr>\n",
       "    <tr>\n",
       "      <td>...</td>\n",
       "      <td>...</td>\n",
       "      <td>...</td>\n",
       "      <td>...</td>\n",
       "      <td>...</td>\n",
       "      <td>...</td>\n",
       "    </tr>\n",
       "    <tr>\n",
       "      <td>Mo Primary Grat</td>\n",
       "      <td>-6.610297e+14</td>\n",
       "      <td>-108.103889</td>\n",
       "      <td>-94.990282</td>\n",
       "      <td>-75.096642</td>\n",
       "      <td>-49.935860</td>\n",
       "    </tr>\n",
       "    <tr>\n",
       "      <td>Mo Edu_Mother Doesnt Exist</td>\n",
       "      <td>-6.610297e+14</td>\n",
       "      <td>-119.924465</td>\n",
       "      <td>-106.831514</td>\n",
       "      <td>-88.483612</td>\n",
       "      <td>-78.233357</td>\n",
       "    </tr>\n",
       "    <tr>\n",
       "      <td>Mo Primary Complete</td>\n",
       "      <td>-6.610297e+14</td>\n",
       "      <td>-129.303235</td>\n",
       "      <td>-90.429851</td>\n",
       "      <td>-23.748907</td>\n",
       "      <td>-2.894855</td>\n",
       "    </tr>\n",
       "    <tr>\n",
       "      <td>Mo Secondary Stop</td>\n",
       "      <td>-6.610297e+14</td>\n",
       "      <td>-151.717818</td>\n",
       "      <td>-136.037575</td>\n",
       "      <td>-99.361693</td>\n",
       "      <td>-36.830110</td>\n",
       "    </tr>\n",
       "    <tr>\n",
       "      <td>Mo Secondary Complete</td>\n",
       "      <td>-6.610297e+14</td>\n",
       "      <td>-420.195032</td>\n",
       "      <td>-285.355611</td>\n",
       "      <td>-68.351279</td>\n",
       "      <td>-7.941904</td>\n",
       "    </tr>\n",
       "  </tbody>\n",
       "</table>\n",
       "<p>86 rows × 5 columns</p>\n",
       "</div>"
      ],
      "text/plain": [
       "                                 alpha:0   alpha:0.1     alpha:1    alpha:10  \\\n",
       "MS More than 800            3.287914e+14  176.844501  176.829519  176.812273   \n",
       "MS 700~800                  3.287914e+14  106.167220  106.134398  105.954709   \n",
       "MS 600~700                  3.287914e+14   64.280080   64.310773   64.324741   \n",
       "MS 500~600                  3.287914e+14   18.869848   18.948228   19.008550   \n",
       "MS 400~500                  3.287914e+14  -14.534863  -14.580365  -14.712122   \n",
       "...                                  ...         ...         ...         ...   \n",
       "Mo Primary Grat            -6.610297e+14 -108.103889  -94.990282  -75.096642   \n",
       "Mo Edu_Mother Doesnt Exist -6.610297e+14 -119.924465 -106.831514  -88.483612   \n",
       "Mo Primary Complete        -6.610297e+14 -129.303235  -90.429851  -23.748907   \n",
       "Mo Secondary Stop          -6.610297e+14 -151.717818 -136.037575  -99.361693   \n",
       "Mo Secondary Complete      -6.610297e+14 -420.195032 -285.355611  -68.351279   \n",
       "\n",
       "                             alpha:100  \n",
       "MS More than 800            175.530524  \n",
       "MS 700~800                  103.126617  \n",
       "MS 600~700                   62.992576  \n",
       "MS 500~600                   18.803700  \n",
       "MS 400~500                  -14.815877  \n",
       "...                                ...  \n",
       "Mo Primary Grat             -49.935860  \n",
       "Mo Edu_Mother Doesnt Exist  -78.233357  \n",
       "Mo Primary Complete          -2.894855  \n",
       "Mo Secondary Stop           -36.830110  \n",
       "Mo Secondary Complete        -7.941904  \n",
       "\n",
       "[86 rows x 5 columns]"
      ]
     },
     "execution_count": 46,
     "metadata": {},
     "output_type": "execute_result"
    }
   ],
   "source": [
    "ridge_alphas=[0, 0.1, 1, 10, 100]\n",
    "sort_column='alpha:'+str(ridge_alphas[0])\n",
    "coeff_df.sort_values(by=sort_column, ascending=False)"
   ]
  },
  {
   "cell_type": "markdown",
   "metadata": {},
   "source": [
    "#### => 연간 사교육비에 가장 큰 영향을 주는건 가정의 월소득이었다."
   ]
  },
  {
   "cell_type": "markdown",
   "metadata": {},
   "source": [
    "## 회귀 - 라쏘"
   ]
  },
  {
   "cell_type": "code",
   "execution_count": 41,
   "metadata": {},
   "outputs": [],
   "source": [
    "from sklearn.linear_model import Lasso, ElasticNet\n",
    "\n",
    "# alpha값에 따른 회귀 모델의 폴드 평균 RMSE를 출력하고 회귀 계수값들을 DataFrame으로 반환 \n",
    "def get_linear_reg_eval(model_name, params=None, X_data_n=None, y_target_n=None, verbose=True):\n",
    "    coeff_df = pd.DataFrame()\n",
    "    if verbose : print('####### ', model_name , '#######')\n",
    "    for param in params:\n",
    "        if model_name =='Ridge': model = Ridge(alpha=param)\n",
    "        elif model_name =='Lasso': model = Lasso(alpha=param)\n",
    "        elif model_name =='ElasticNet': model = ElasticNet(alpha=param, l1_ratio=0.7)\n",
    "        neg_mse_scores = cross_val_score(model, X_data_n, \n",
    "                                             y_target_n, scoring=\"neg_mean_squared_error\", cv = 5)\n",
    "        avg_rmse = np.mean(np.sqrt(-1 * neg_mse_scores))\n",
    "        print('alpha {0}일 때 5 폴드 세트의 평균 RMSE: {1:.3f} '.format(param, avg_rmse))\n",
    "        # cross_val_score는 evaluation metric만 반환하므로 모델을 다시 학습하여 회귀 계수 추출\n",
    "        model.fit(edu_feature , edu_label)\n",
    "        # alpha에 따른 피처별 회귀 계수를 Series로 변환하고 이를 DataFrame의 컬럼으로 추가. \n",
    "        coeff = pd.Series(data=model.coef_ , index=edu_feature.columns )\n",
    "        colname='alpha:'+str(param)\n",
    "        coeff_df[colname] = coeff\n",
    "    return coeff_df\n",
    "# end of get_linear_regre_eval"
   ]
  },
  {
   "cell_type": "code",
   "execution_count": 42,
   "metadata": {},
   "outputs": [
    {
     "name": "stdout",
     "output_type": "stream",
     "text": [
      "#######  Lasso #######\n",
      "alpha 0.07일 때 5 폴드 세트의 평균 RMSE: 410.933 \n",
      "alpha 0.1일 때 5 폴드 세트의 평균 RMSE: 411.267 \n",
      "alpha 0.5일 때 5 폴드 세트의 평균 RMSE: 413.256 \n",
      "alpha 1일 때 5 폴드 세트의 평균 RMSE: 413.658 \n",
      "alpha 3일 때 5 폴드 세트의 평균 RMSE: 415.333 \n"
     ]
    }
   ],
   "source": [
    "# 라쏘에 사용될 alpha 파라미터의 값들을 정의하고 get_linear_reg_eval() 함수 호출\n",
    "lasso_alphas = [ 0.07, 0.1, 0.5, 1, 3]\n",
    "coeff_lasso_df =get_linear_reg_eval('Lasso', params=lasso_alphas, X_data_n=edu_feature, y_target_n=edu_label)"
   ]
  },
  {
   "cell_type": "markdown",
   "metadata": {},
   "source": [
    "#### => 알파가 0.07일때 RMSE가 가장 낮음."
   ]
  },
  {
   "cell_type": "code",
   "execution_count": 43,
   "metadata": {},
   "outputs": [
    {
     "data": {
      "text/html": [
       "<div>\n",
       "<style scoped>\n",
       "    .dataframe tbody tr th:only-of-type {\n",
       "        vertical-align: middle;\n",
       "    }\n",
       "\n",
       "    .dataframe tbody tr th {\n",
       "        vertical-align: top;\n",
       "    }\n",
       "\n",
       "    .dataframe thead th {\n",
       "        text-align: right;\n",
       "    }\n",
       "</style>\n",
       "<table border=\"1\" class=\"dataframe\">\n",
       "  <thead>\n",
       "    <tr style=\"text-align: right;\">\n",
       "      <th></th>\n",
       "      <th>alpha:0.07</th>\n",
       "      <th>alpha:0.1</th>\n",
       "      <th>alpha:0.5</th>\n",
       "      <th>alpha:1</th>\n",
       "      <th>alpha:3</th>\n",
       "    </tr>\n",
       "  </thead>\n",
       "  <tbody>\n",
       "    <tr>\n",
       "      <td>Region_Seoul</td>\n",
       "      <td>244.416377</td>\n",
       "      <td>244.484071</td>\n",
       "      <td>243.543389</td>\n",
       "      <td>241.157505</td>\n",
       "      <td>229.541542</td>\n",
       "    </tr>\n",
       "    <tr>\n",
       "      <td>Nomral Highschool</td>\n",
       "      <td>212.385633</td>\n",
       "      <td>212.535447</td>\n",
       "      <td>213.280478</td>\n",
       "      <td>213.510491</td>\n",
       "      <td>211.739332</td>\n",
       "    </tr>\n",
       "    <tr>\n",
       "      <td>Fa Master Gap</td>\n",
       "      <td>197.023901</td>\n",
       "      <td>105.338234</td>\n",
       "      <td>0.000000</td>\n",
       "      <td>0.000000</td>\n",
       "      <td>0.000000</td>\n",
       "    </tr>\n",
       "    <tr>\n",
       "      <td>MS More than 800</td>\n",
       "      <td>158.553558</td>\n",
       "      <td>158.951121</td>\n",
       "      <td>162.291422</td>\n",
       "      <td>164.717736</td>\n",
       "      <td>171.865868</td>\n",
       "    </tr>\n",
       "    <tr>\n",
       "      <td>Fa Doctor Being</td>\n",
       "      <td>141.620167</td>\n",
       "      <td>117.101624</td>\n",
       "      <td>0.000000</td>\n",
       "      <td>0.000000</td>\n",
       "      <td>0.000000</td>\n",
       "    </tr>\n",
       "    <tr>\n",
       "      <td>...</td>\n",
       "      <td>...</td>\n",
       "      <td>...</td>\n",
       "      <td>...</td>\n",
       "      <td>...</td>\n",
       "      <td>...</td>\n",
       "    </tr>\n",
       "    <tr>\n",
       "      <td>Rural</td>\n",
       "      <td>-79.702937</td>\n",
       "      <td>-79.810014</td>\n",
       "      <td>-80.902803</td>\n",
       "      <td>-81.659222</td>\n",
       "      <td>-83.415461</td>\n",
       "    </tr>\n",
       "    <tr>\n",
       "      <td>MS 300~400</td>\n",
       "      <td>-83.913368</td>\n",
       "      <td>-83.720201</td>\n",
       "      <td>-80.359926</td>\n",
       "      <td>-75.620630</td>\n",
       "      <td>-54.967062</td>\n",
       "    </tr>\n",
       "    <tr>\n",
       "      <td>Mo Edu_Mother Doesnt Exist</td>\n",
       "      <td>-85.207418</td>\n",
       "      <td>-83.251141</td>\n",
       "      <td>-68.110757</td>\n",
       "      <td>-57.827502</td>\n",
       "      <td>-15.841671</td>\n",
       "    </tr>\n",
       "    <tr>\n",
       "      <td>MS 200~300</td>\n",
       "      <td>-133.722623</td>\n",
       "      <td>-133.668670</td>\n",
       "      <td>-130.508559</td>\n",
       "      <td>-126.166254</td>\n",
       "      <td>-105.603824</td>\n",
       "    </tr>\n",
       "    <tr>\n",
       "      <td>1_right</td>\n",
       "      <td>-191.436719</td>\n",
       "      <td>-191.549445</td>\n",
       "      <td>-188.261579</td>\n",
       "      <td>-184.334544</td>\n",
       "      <td>-161.548669</td>\n",
       "    </tr>\n",
       "  </tbody>\n",
       "</table>\n",
       "<p>86 rows × 5 columns</p>\n",
       "</div>"
      ],
      "text/plain": [
       "                            alpha:0.07   alpha:0.1   alpha:0.5     alpha:1  \\\n",
       "Region_Seoul                244.416377  244.484071  243.543389  241.157505   \n",
       "Nomral Highschool           212.385633  212.535447  213.280478  213.510491   \n",
       "Fa Master Gap               197.023901  105.338234    0.000000    0.000000   \n",
       "MS More than 800            158.553558  158.951121  162.291422  164.717736   \n",
       "Fa Doctor Being             141.620167  117.101624    0.000000    0.000000   \n",
       "...                                ...         ...         ...         ...   \n",
       "Rural                       -79.702937  -79.810014  -80.902803  -81.659222   \n",
       "MS 300~400                  -83.913368  -83.720201  -80.359926  -75.620630   \n",
       "Mo Edu_Mother Doesnt Exist  -85.207418  -83.251141  -68.110757  -57.827502   \n",
       "MS 200~300                 -133.722623 -133.668670 -130.508559 -126.166254   \n",
       "1_right                    -191.436719 -191.549445 -188.261579 -184.334544   \n",
       "\n",
       "                               alpha:3  \n",
       "Region_Seoul                229.541542  \n",
       "Nomral Highschool           211.739332  \n",
       "Fa Master Gap                 0.000000  \n",
       "MS More than 800            171.865868  \n",
       "Fa Doctor Being               0.000000  \n",
       "...                                ...  \n",
       "Rural                       -83.415461  \n",
       "MS 300~400                  -54.967062  \n",
       "Mo Edu_Mother Doesnt Exist  -15.841671  \n",
       "MS 200~300                 -105.603824  \n",
       "1_right                    -161.548669  \n",
       "\n",
       "[86 rows x 5 columns]"
      ]
     },
     "execution_count": 43,
     "metadata": {},
     "output_type": "execute_result"
    }
   ],
   "source": [
    "# 반환된 coeff_lasso_df를 첫번째 컬럼순으로 내림차순 정렬하여 회귀계수 DataFrame출력\n",
    "sort_column = 'alpha:'+str(lasso_alphas[0])\n",
    "coeff_lasso_df.sort_values(by=sort_column, ascending=False)"
   ]
  },
  {
   "cell_type": "markdown",
   "metadata": {},
   "source": [
    "#### => 릿지와 다르게 회귀계수가 0까지 떨어지는것 발견"
   ]
  },
  {
   "cell_type": "markdown",
   "metadata": {},
   "source": [
    "### 회귀 - 엘라스틱넷"
   ]
  },
  {
   "cell_type": "code",
   "execution_count": 48,
   "metadata": {},
   "outputs": [
    {
     "name": "stdout",
     "output_type": "stream",
     "text": [
      "#######  ElasticNet #######\n",
      "alpha 0.07일 때 5 폴드 세트의 평균 RMSE: 418.059 \n",
      "alpha 0.1일 때 5 폴드 세트의 평균 RMSE: 419.094 \n",
      "alpha 0.5일 때 5 폴드 세트의 평균 RMSE: 425.670 \n",
      "alpha 1일 때 5 폴드 세트의 평균 RMSE: 430.383 \n",
      "alpha 3일 때 5 폴드 세트의 평균 RMSE: 440.555 \n"
     ]
    }
   ],
   "source": [
    "# 엘라스틱넷에 사용될 alpha 파라미터의 값들을 정의하고 get_linear_reg_eval() 함수 호출\n",
    "# l1_ratio는 0.7로 고정\n",
    "elastic_alphas = [ 0.07, 0.1, 0.5, 1, 3]\n",
    "coeff_elastic_df =get_linear_reg_eval('ElasticNet', params=elastic_alphas,\n",
    "                                      X_data_n=edu_feature, y_target_n=edu_label)"
   ]
  },
  {
   "cell_type": "code",
   "execution_count": 49,
   "metadata": {},
   "outputs": [
    {
     "data": {
      "text/html": [
       "<div>\n",
       "<style scoped>\n",
       "    .dataframe tbody tr th:only-of-type {\n",
       "        vertical-align: middle;\n",
       "    }\n",
       "\n",
       "    .dataframe tbody tr th {\n",
       "        vertical-align: top;\n",
       "    }\n",
       "\n",
       "    .dataframe thead th {\n",
       "        text-align: right;\n",
       "    }\n",
       "</style>\n",
       "<table border=\"1\" class=\"dataframe\">\n",
       "  <thead>\n",
       "    <tr style=\"text-align: right;\">\n",
       "      <th></th>\n",
       "      <th>alpha:0.07</th>\n",
       "      <th>alpha:0.1</th>\n",
       "      <th>alpha:0.5</th>\n",
       "      <th>alpha:1</th>\n",
       "      <th>alpha:3</th>\n",
       "    </tr>\n",
       "  </thead>\n",
       "  <tbody>\n",
       "    <tr>\n",
       "      <td>Region_Seoul</td>\n",
       "      <td>179.755036</td>\n",
       "      <td>172.425149</td>\n",
       "      <td>110.605228</td>\n",
       "      <td>76.284537</td>\n",
       "      <td>33.623195</td>\n",
       "    </tr>\n",
       "    <tr>\n",
       "      <td>MS More than 800</td>\n",
       "      <td>160.286941</td>\n",
       "      <td>153.165318</td>\n",
       "      <td>96.369128</td>\n",
       "      <td>66.440233</td>\n",
       "      <td>29.541235</td>\n",
       "    </tr>\n",
       "    <tr>\n",
       "      <td>Nomral Highschool</td>\n",
       "      <td>103.953741</td>\n",
       "      <td>102.488345</td>\n",
       "      <td>81.833872</td>\n",
       "      <td>63.839679</td>\n",
       "      <td>33.190334</td>\n",
       "    </tr>\n",
       "    <tr>\n",
       "      <td>MS 700~800</td>\n",
       "      <td>82.100968</td>\n",
       "      <td>74.452494</td>\n",
       "      <td>33.854138</td>\n",
       "      <td>20.386367</td>\n",
       "      <td>7.339987</td>\n",
       "    </tr>\n",
       "    <tr>\n",
       "      <td>Fa Master Grat</td>\n",
       "      <td>67.546128</td>\n",
       "      <td>62.595021</td>\n",
       "      <td>33.721050</td>\n",
       "      <td>21.751757</td>\n",
       "      <td>8.417462</td>\n",
       "    </tr>\n",
       "    <tr>\n",
       "      <td>...</td>\n",
       "      <td>...</td>\n",
       "      <td>...</td>\n",
       "      <td>...</td>\n",
       "      <td>...</td>\n",
       "      <td>...</td>\n",
       "    </tr>\n",
       "    <tr>\n",
       "      <td>Mo Edu_Mother Doesnt Exist</td>\n",
       "      <td>-60.398721</td>\n",
       "      <td>-55.388541</td>\n",
       "      <td>-27.853856</td>\n",
       "      <td>-17.337386</td>\n",
       "      <td>-6.257388</td>\n",
       "    </tr>\n",
       "    <tr>\n",
       "      <td>MS 200~300</td>\n",
       "      <td>-100.528509</td>\n",
       "      <td>-95.165935</td>\n",
       "      <td>-57.669510</td>\n",
       "      <td>-39.738211</td>\n",
       "      <td>-17.713449</td>\n",
       "    </tr>\n",
       "    <tr>\n",
       "      <td>Sepcialized Highschool</td>\n",
       "      <td>-103.946313</td>\n",
       "      <td>-102.480020</td>\n",
       "      <td>-81.833357</td>\n",
       "      <td>-63.840041</td>\n",
       "      <td>-33.190337</td>\n",
       "    </tr>\n",
       "    <tr>\n",
       "      <td>Rural</td>\n",
       "      <td>-116.926967</td>\n",
       "      <td>-112.876905</td>\n",
       "      <td>-76.368740</td>\n",
       "      <td>-54.518361</td>\n",
       "      <td>-25.337794</td>\n",
       "    </tr>\n",
       "    <tr>\n",
       "      <td>1_right</td>\n",
       "      <td>-138.679003</td>\n",
       "      <td>-127.720163</td>\n",
       "      <td>-65.014113</td>\n",
       "      <td>-41.668326</td>\n",
       "      <td>-17.097299</td>\n",
       "    </tr>\n",
       "  </tbody>\n",
       "</table>\n",
       "<p>86 rows × 5 columns</p>\n",
       "</div>"
      ],
      "text/plain": [
       "                            alpha:0.07   alpha:0.1   alpha:0.5    alpha:1  \\\n",
       "Region_Seoul                179.755036  172.425149  110.605228  76.284537   \n",
       "MS More than 800            160.286941  153.165318   96.369128  66.440233   \n",
       "Nomral Highschool           103.953741  102.488345   81.833872  63.839679   \n",
       "MS 700~800                   82.100968   74.452494   33.854138  20.386367   \n",
       "Fa Master Grat               67.546128   62.595021   33.721050  21.751757   \n",
       "...                                ...         ...         ...        ...   \n",
       "Mo Edu_Mother Doesnt Exist  -60.398721  -55.388541  -27.853856 -17.337386   \n",
       "MS 200~300                 -100.528509  -95.165935  -57.669510 -39.738211   \n",
       "Sepcialized Highschool     -103.946313 -102.480020  -81.833357 -63.840041   \n",
       "Rural                      -116.926967 -112.876905  -76.368740 -54.518361   \n",
       "1_right                    -138.679003 -127.720163  -65.014113 -41.668326   \n",
       "\n",
       "                              alpha:3  \n",
       "Region_Seoul                33.623195  \n",
       "MS More than 800            29.541235  \n",
       "Nomral Highschool           33.190334  \n",
       "MS 700~800                   7.339987  \n",
       "Fa Master Grat               8.417462  \n",
       "...                               ...  \n",
       "Mo Edu_Mother Doesnt Exist  -6.257388  \n",
       "MS 200~300                 -17.713449  \n",
       "Sepcialized Highschool     -33.190337  \n",
       "Rural                      -25.337794  \n",
       "1_right                    -17.097299  \n",
       "\n",
       "[86 rows x 5 columns]"
      ]
     },
     "execution_count": 49,
     "metadata": {},
     "output_type": "execute_result"
    }
   ],
   "source": [
    "# 반환된 coeff_elastic_df를 첫번째 컬럼순으로 내림차순 정렬하여 회귀계수 DataFrame출력\n",
    "sort_column = 'alpha:'+str(elastic_alphas[0])\n",
    "coeff_elastic_df.sort_values(by=sort_column, ascending=False)"
   ]
  },
  {
   "cell_type": "markdown",
   "metadata": {},
   "source": [
    "#### => 엘라스틱넷 회귀 결과, 서울에 사는 사람일수록, 월소득이 800이상일수록 연평균 사교육비가 더 높았으며, 지방에 사는 사람일수록, 소득이 낮을수록 연평균 사교육비가 더 낮았다. 일반고/특목고의 여부는 크게 영향을 미치지 않았다."
   ]
  },
  {
   "cell_type": "code",
   "execution_count": null,
   "metadata": {},
   "outputs": [],
   "source": []
  }
 ],
 "metadata": {
  "kernelspec": {
   "display_name": "Python 3",
   "language": "python",
   "name": "python3"
  },
  "language_info": {
   "codemirror_mode": {
    "name": "ipython",
    "version": 3
   },
   "file_extension": ".py",
   "mimetype": "text/x-python",
   "name": "python",
   "nbconvert_exporter": "python",
   "pygments_lexer": "ipython3",
   "version": "3.7.4"
  }
 },
 "nbformat": 4,
 "nbformat_minor": 2
}
