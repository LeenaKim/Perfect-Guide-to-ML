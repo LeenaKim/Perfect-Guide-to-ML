{
 "cells": [
  {
   "cell_type": "markdown",
   "metadata": {},
   "source": [
    "# 4장. 분류\n",
    "# 랜덤 포레스트\n",
    "+ 배깅 : 같은 알고리즘으로 여러 개의 분류기를 만들어서 보팅으로 최종 결정하는 알고리즘. 배깅의 대표적인 알고리즘은 랜덤 포레스트.\n",
    "+ 랜덤 포레스트 : 여러 개의 결정 트리 분류기가 전체 데이터에서 배깅 방식으로 각자의 데이터를 샘플링해 개별적으로 학습을 수행한 뒤 최종적으로 모든 분류기가 보팅을 통해 예측을 결정."
   ]
  },
  {
   "cell_type": "markdown",
   "metadata": {},
   "source": [
    "+ 부트스트래핑 : 여러 개의 데이터 세트를 \"중첩되게\" 분리하는 것"
   ]
  },
  {
   "cell_type": "code",
   "execution_count": 3,
   "metadata": {},
   "outputs": [
    {
     "name": "stdout",
     "output_type": "stream",
     "text": [
      "전체 피처명에서 10개만 추출: ['tBodyAcc-mean()-X', 'tBodyAcc-mean()-Y', 'tBodyAcc-mean()-Z', 'tBodyAcc-std()-X', 'tBodyAcc-std()-Y', 'tBodyAcc-std()-Z', 'tBodyAcc-mad()-X', 'tBodyAcc-mad()-Y', 'tBodyAcc-mad()-Z', 'tBodyAcc-max()-X']\n"
     ]
    }
   ],
   "source": [
    "import pandas as pd\n",
    "import matplotlib.pyplot as plt\n",
    "%matplotlib inline\n",
    "\n",
    "# features.txt 파일에는 피처 이름 index 와 피처명이 공백으로 분리되어 있음. 이를 DataFrame으로 로드.\n",
    "feature_name_df=pd.read_csv('./human_activity/features.txt', sep='\\s+',\n",
    "                           header=None, names=['column_index', 'column_name'])\n",
    "    # sep : 한개 이상의 공백문자(\\s+)를 기준으로 인덱스와 피쳐 네임을 분리해라 (seperate)\n",
    "    \n",
    "# 피처명 index를 제거하고, 피처명만 리스트 객체로 생성한 뒤 샘플로 10개만 추출\n",
    "feature_name=feature_name_df.iloc[:,1].values.tolist()\n",
    "print('전체 피처명에서 10개만 추출:', feature_name[:10])\n",
    "\n",
    "def get_new_feature_name_df(old_feature_name_df):\n",
    "    feature_dup_df = pd.DataFrame(data=old_feature_name_df.groupby('column_name').cumcount(), columns=['dup_cnt'])\n",
    "    feature_dup_df = feature_dup_df.reset_index()\n",
    "    new_feature_name_df = pd.merge(old_feature_name_df.reset_index(), feature_dup_df, how='outer')\n",
    "    new_feature_name_df['column_name'] = new_feature_name_df[['column_name', 'dup_cnt']].apply(lambda x : x[0]+'_'+str(x[1]) \n",
    "                                                                                           if x[1] >0 else x[0] ,  axis=1)\n",
    "    new_feature_name_df = new_feature_name_df.drop(['index'], axis=1)\n",
    "    return new_feature_name_df\n",
    "\n",
    "pd.options.display.max_rows = 999\n",
    "new_feature_name_df = get_new_feature_name_df(feature_name_df)\n",
    "new_feature_name_df[new_feature_name_df['dup_cnt'] > 0]\n",
    "\n",
    "def get_human_dataset( ): # 데이터 로딩과 스플릿\n",
    "    \n",
    "    # 각 데이터 파일들은 공백으로 분리되어 있으므로 read_csv에서 공백 문자를 sep으로 할당.\n",
    "    feature_name_df = pd.read_csv('./human_activity/features.txt',sep='\\s+',\n",
    "                        header=None,names=['column_index','column_name'])\n",
    "    \n",
    "    # 중복된 feature명을 새롭게 수정하는 get_new_feature_name_df()를 이용하여 새로운 feature명 DataFrame생성. \n",
    "    new_feature_name_df = get_new_feature_name_df(feature_name_df)\n",
    "    \n",
    "    # DataFrame에 피처명을 컬럼으로 부여하기 위해 리스트 객체로 다시 변환\n",
    "    feature_name = new_feature_name_df.iloc[:, 1].values.tolist()\n",
    "    \n",
    "    # 학습 피처 데이터 셋과 테스트 피처 데이터을 DataFrame으로 로딩. 컬럼명은 feature_name 적용\n",
    "    X_train = pd.read_csv('./human_activity/train/X_train.txt',sep='\\s+', names=feature_name )\n",
    "    X_test = pd.read_csv('./human_activity/test/X_test.txt',sep='\\s+', names=feature_name)\n",
    "    \n",
    "    # 학습 레이블과 테스트 레이블 데이터을 DataFrame으로 로딩하고 컬럼명은 action으로 부여\n",
    "    y_train = pd.read_csv('./human_activity/train/y_train.txt',sep='\\s+',header=None,names=['action'])\n",
    "    y_test = pd.read_csv('./human_activity/test/y_test.txt',sep='\\s+',header=None,names=['action'])\n",
    "    \n",
    "    # 로드된 학습/테스트용 DataFrame을 모두 반환 \n",
    "    return X_train, X_test, y_train, y_test\n"
   ]
  },
  {
   "cell_type": "code",
   "execution_count": 4,
   "metadata": {},
   "outputs": [],
   "source": []
  },
  {
   "cell_type": "code",
   "execution_count": 5,
   "metadata": {},
   "outputs": [
    {
     "name": "stdout",
     "output_type": "stream",
     "text": [
      "랜덤 포레스트 정확도: 0.9108\n"
     ]
    }
   ],
   "source": [
    "from sklearn.ensemble import RandomForestClassifier\n",
    "from sklearn.metrics import accuracy_score\n",
    "import warnings \n",
    "warnings.filterwarnings('ignore')\n",
    "\n",
    "# 결정 트리에서 사용한 get_human_dataset()을 이용해 학습/테스트용 DataFrame 반환\n",
    "X_train, X_test, y_train, y_test = get_human_dataset()\n",
    "\n",
    "# 랜덤 포레스트 학습 및 별도의 테스트 세트로 예측 성능 평가\n",
    "rf_clf=RandomForestClassifier(random_state=0)\n",
    "rf_clf.fit(X_train, y_train) # 학습\n",
    "pred=rf_clf.predict(X_test) # 예측\n",
    "accuracy=accuracy_score(y_test, pred) # 정확도 평가\n",
    "print('랜덤 포레스트 정확도: {0:.4f}'.format(accuracy))"
   ]
  },
  {
   "cell_type": "markdown",
   "metadata": {},
   "source": [
    "## 랜덤 포레스트 하이퍼 파라미터 및 튜닝"
   ]
  },
  {
   "cell_type": "markdown",
   "metadata": {},
   "source": [
    "+ n_estimators : 랜덤 포레스트에서 결정 트리의 개수를 지정. 디폴트는 10개. 많이 설정할수록 좋은 성능을 기대할 수 있지만 계속 증가시킨다고 성능이 무조건 향상되는건 아님.\n",
    "+ max_features : 결정 트리에 사용된 max_features 파라미터와 같지만, 랜덤포레스트의 기본 max_features는 sqrt를 자동으로 씌움. 따라서 랜덤 포레스트의 트리를 분할하는 피처를 참조할 때 전체 피처가 아니라 sqrt(전체 피처 개수)만큼 참조한다. (전체 피처가 16개라면 분할을 위해 4개 참조)"
   ]
  },
  {
   "cell_type": "markdown",
   "metadata": {},
   "source": [
    "#### GridSearchCV를 이용해 랜덤 포레스트의 하이퍼 파라미터 튜닝하기."
   ]
  },
  {
   "cell_type": "code",
   "execution_count": 6,
   "metadata": {},
   "outputs": [
    {
     "name": "stdout",
     "output_type": "stream",
     "text": [
      "최적 하이퍼 파라미터:\n",
      " {'max_depth': 12, 'min_samples_leaf': 8, 'min_samples_split': 8, 'n_estimators': 300}\n",
      "최고 예측 정확도: 0.9261\n"
     ]
    }
   ],
   "source": [
    "from sklearn.model_selection import GridSearchCV\n",
    "\n",
    "params={\n",
    "    'n_estimators':[300],\n",
    "    'max_depth':[6,8,10,12],\n",
    "    'min_samples_leaf':[8,12,18],\n",
    "    'min_samples_split':[8,16,20]\n",
    "}\n",
    "\n",
    "# RandomForestClassifier 객체 생성 후 GridSearchCV 수행\n",
    "rf_clf=RandomForestClassifier(random_state=0, n_jobs=-1)\n",
    "grid_cv=GridSearchCV(rf_clf, param_grid=params, cv=5, n_jobs=-1)\n",
    "grid_cv.fit(X_train, y_train)\n",
    "\n",
    "print('최적 하이퍼 파라미터:\\n', grid_cv.best_params_)\n",
    "print('최고 예측 정확도: {0:.4f}'.format(grid_cv.best_score_))"
   ]
  },
  {
   "cell_type": "markdown",
   "metadata": {},
   "source": [
    "#### => 결과로 나온 최적의 하이퍼 파라미터로 다시 돌려보기."
   ]
  },
  {
   "cell_type": "code",
   "execution_count": 9,
   "metadata": {},
   "outputs": [
    {
     "name": "stdout",
     "output_type": "stream",
     "text": [
      "예측 정확도: 0.9199\n"
     ]
    }
   ],
   "source": [
    "rf_clf1=RandomForestClassifier(n_estimators=300, max_depth=12, min_samples_leaf=8,\n",
    "                               min_samples_split=8, random_state=0)\n",
    "rf_clf1.fit(X_train, y_train)\n",
    "pred=rf_clf1.predict(X_test)\n",
    "print('예측 정확도: {0:.4f}'.format(accuracy_score(y_test, pred)))"
   ]
  },
  {
   "cell_type": "markdown",
   "metadata": {},
   "source": [
    "#### 랜덤포레스트도 의사결정나무처럼 feature_importances_ 속성으로 알고리즘이 선택한 피처의 중요도를 알 수 있음. 막대그래프로 시각화해보기."
   ]
  },
  {
   "cell_type": "code",
   "execution_count": 10,
   "metadata": {},
   "outputs": [
    {
     "data": {
      "image/png": "[encoded data removed]",
      "text/plain": [
       "<Figure size 576x432 with 1 Axes>"
      ]
     },
     "metadata": {
      "needs_background": "light"
     },
     "output_type": "display_data"
    }
   ],
   "source": [
    "import matplotlib.pyplot as plt\n",
    "import seaborn as sns\n",
    "%matplotlib inline\n",
    "\n",
    "ftr_importances_values=rf_clf1.feature_importances_\n",
    "ftr_importances=pd.Series(ftr_importances_values, index=X_train.columns)\n",
    "ftr_top20=ftr_importances.sort_values(ascending=False)[:20]\n",
    "\n",
    "plt.figure(figsize=(8,6))\n",
    "plt.title('Feature importances Top 20')\n",
    "sns.barplot(x=ftr_top20, y=ftr_top20.index)\n",
    "plt.show()"
   ]
  },
  {
   "cell_type": "markdown",
   "metadata": {},
   "source": [
    "# heart 데이터로 랜덤포레스트 돌려보기"
   ]
  },
  {
   "cell_type": "code",
   "execution_count": 15,
   "metadata": {},
   "outputs": [],
   "source": [
    "heart_data=pd.read_csv('/Users/air/Leena Python/MachineLearning/heart.csv')"
   ]
  },
  {
   "cell_type": "code",
   "execution_count": 13,
   "metadata": {},
   "outputs": [
    {
     "data": {
      "text/html": [
       "<div>\n",
       "<style scoped>\n",
       "    .dataframe tbody tr th:only-of-type {\n",
       "        vertical-align: middle;\n",
       "    }\n",
       "\n",
       "    .dataframe tbody tr th {\n",
       "        vertical-align: top;\n",
       "    }\n",
       "\n",
       "    .dataframe thead th {\n",
       "        text-align: right;\n",
       "    }\n",
       "</style>\n",
       "<table border=\"1\" class=\"dataframe\">\n",
       "  <thead>\n",
       "    <tr style=\"text-align: right;\">\n",
       "      <th></th>\n",
       "      <th>age</th>\n",
       "      <th>sex</th>\n",
       "      <th>cp</th>\n",
       "      <th>trestbps</th>\n",
       "      <th>chol</th>\n",
       "      <th>fbs</th>\n",
       "      <th>restecg</th>\n",
       "      <th>thalach</th>\n",
       "      <th>exang</th>\n",
       "      <th>oldpeak</th>\n",
       "      <th>slope</th>\n",
       "      <th>ca</th>\n",
       "      <th>thal</th>\n",
       "      <th>target</th>\n",
       "    </tr>\n",
       "  </thead>\n",
       "  <tbody>\n",
       "    <tr>\n",
       "      <td>0</td>\n",
       "      <td>63</td>\n",
       "      <td>1</td>\n",
       "      <td>3</td>\n",
       "      <td>145</td>\n",
       "      <td>233</td>\n",
       "      <td>1</td>\n",
       "      <td>0</td>\n",
       "      <td>150</td>\n",
       "      <td>0</td>\n",
       "      <td>2.3</td>\n",
       "      <td>0</td>\n",
       "      <td>0</td>\n",
       "      <td>1</td>\n",
       "      <td>1</td>\n",
       "    </tr>\n",
       "    <tr>\n",
       "      <td>1</td>\n",
       "      <td>37</td>\n",
       "      <td>1</td>\n",
       "      <td>2</td>\n",
       "      <td>130</td>\n",
       "      <td>250</td>\n",
       "      <td>0</td>\n",
       "      <td>1</td>\n",
       "      <td>187</td>\n",
       "      <td>0</td>\n",
       "      <td>3.5</td>\n",
       "      <td>0</td>\n",
       "      <td>0</td>\n",
       "      <td>2</td>\n",
       "      <td>1</td>\n",
       "    </tr>\n",
       "    <tr>\n",
       "      <td>2</td>\n",
       "      <td>41</td>\n",
       "      <td>0</td>\n",
       "      <td>1</td>\n",
       "      <td>130</td>\n",
       "      <td>204</td>\n",
       "      <td>0</td>\n",
       "      <td>0</td>\n",
       "      <td>172</td>\n",
       "      <td>0</td>\n",
       "      <td>1.4</td>\n",
       "      <td>2</td>\n",
       "      <td>0</td>\n",
       "      <td>2</td>\n",
       "      <td>1</td>\n",
       "    </tr>\n",
       "  </tbody>\n",
       "</table>\n",
       "</div>"
      ],
      "text/plain": [
       "   age  sex  cp  trestbps  chol  fbs  restecg  thalach  exang  oldpeak  slope  \\\n",
       "0   63    1   3       145   233    1        0      150      0      2.3      0   \n",
       "1   37    1   2       130   250    0        1      187      0      3.5      0   \n",
       "2   41    0   1       130   204    0        0      172      0      1.4      2   \n",
       "\n",
       "   ca  thal  target  \n",
       "0   0     1       1  \n",
       "1   0     2       1  \n",
       "2   0     2       1  "
      ]
     },
     "execution_count": 13,
     "metadata": {},
     "output_type": "execute_result"
    }
   ],
   "source": [
    "heart_data.head(3)"
   ]
  },
  {
   "cell_type": "code",
   "execution_count": 26,
   "metadata": {},
   "outputs": [],
   "source": [
    "heart_feature=heart_data.drop(['target'], axis=1)\n",
    "heart_label=heart_data['target']"
   ]
  },
  {
   "cell_type": "code",
   "execution_count": 27,
   "metadata": {},
   "outputs": [],
   "source": [
    "X_train, X_test, y_train, y_test = train_test_split(heart_feature, heart_label, \n",
    "                                                    test_size=0.2, random_state=0)"
   ]
  },
  {
   "cell_type": "code",
   "execution_count": 28,
   "metadata": {},
   "outputs": [
    {
     "name": "stdout",
     "output_type": "stream",
     "text": [
      "랜덤 포레스트 정확도: 0.8852\n"
     ]
    }
   ],
   "source": [
    "# 랜덤 포레스트 학습 및 별도의 테스트 세트로 예측 성능 평가\n",
    "rf_clf=RandomForestClassifier(random_state=0)\n",
    "rf_clf.fit(X_train, y_train) # 학습\n",
    "pred=rf_clf.predict(X_test) # 예측\n",
    "accuracy=accuracy_score(y_test, pred) # 정확도 평가\n",
    "print('랜덤 포레스트 정확도: {0:.4f}'.format(accuracy))"
   ]
  },
  {
   "cell_type": "code",
   "execution_count": 32,
   "metadata": {},
   "outputs": [
    {
     "name": "stdout",
     "output_type": "stream",
     "text": [
      "최적 하이퍼 파라미터:\n",
      " {'max_depth': 6, 'min_samples_leaf': 8, 'min_samples_split': 20, 'n_estimators': 100}\n",
      "최고 예측 정확도: 0.8306\n"
     ]
    }
   ],
   "source": [
    "from sklearn.model_selection import GridSearchCV\n",
    "\n",
    "params={\n",
    "    'n_estimators':[100],\n",
    "    'max_depth':[6,8,10,12],\n",
    "    'min_samples_leaf':[8,12,18],\n",
    "    'min_samples_split':[8,16,20]\n",
    "}\n",
    "\n",
    "# RandomForestClassifier 객체 생성 후 GridSearchCV 수행\n",
    "rf_clf=RandomForestClassifier(random_state=0, n_jobs=-1)\n",
    "grid_cv=GridSearchCV(rf_clf, param_grid=params, cv=5, n_jobs=-1)\n",
    "grid_cv.fit(X_train, y_train)\n",
    "\n",
    "print('최적 하이퍼 파라미터:\\n', grid_cv.best_params_)\n",
    "print('최고 예측 정확도: {0:.4f}'.format(grid_cv.best_score_))"
   ]
  },
  {
   "cell_type": "code",
   "execution_count": 33,
   "metadata": {},
   "outputs": [
    {
     "name": "stdout",
     "output_type": "stream",
     "text": [
      "예측 정확도: 0.8525\n"
     ]
    }
   ],
   "source": [
    "rf_clf1=RandomForestClassifier(n_estimators=100, max_depth=6, min_samples_leaf=8,\n",
    "                               min_samples_split=20, random_state=0)\n",
    "rf_clf1.fit(X_train, y_train)\n",
    "pred=rf_clf1.predict(X_test)\n",
    "print('예측 정확도: {0:.4f}'.format(accuracy_score(y_test, pred)))"
   ]
  },
  {
   "cell_type": "code",
   "execution_count": 34,
   "metadata": {},
   "outputs": [
    {
     "data": {
      "image/png": "[encoded data removed]",
      "text/plain": [
       "<Figure size 576x432 with 1 Axes>"
      ]
     },
     "metadata": {
      "needs_background": "light"
     },
     "output_type": "display_data"
    }
   ],
   "source": [
    "import matplotlib.pyplot as plt\n",
    "import seaborn as sns\n",
    "%matplotlib inline\n",
    "\n",
    "ftr_importances_values=rf_clf1.feature_importances_\n",
    "ftr_importances=pd.Series(ftr_importances_values, index=X_train.columns)\n",
    "ftr_top20=ftr_importances.sort_values(ascending=False)[:20]\n",
    "\n",
    "plt.figure(figsize=(8,6))\n",
    "plt.title('Feature importances Top 20')\n",
    "sns.barplot(x=ftr_top20, y=ftr_top20.index)\n",
    "plt.show()"
   ]
  },
  {
   "cell_type": "markdown",
   "metadata": {},
   "source": [
    "# 에이다 부스트\n",
    "#### : 간단한 약분류기들이 상호보완하도록 단계적(순차적)으로 학습. 이들을 조합하여 최종 강분류기의 성능을 증폭시킨다.\n",
    "#### : 약분류기들을 한 번에 하나씩 순차적으로 학습시킬 때, 먼저 학습된 분류기가 잘못 분류한 결과 정보를 다음 분류기의 학습 시 사용하여 이전 분류기의 단점을 보완하도록 한다.\n",
    "#### : 즉, 이전 분류기가 오분류한 샘플의 가중치를 adaptive하게 바꿔가며 잘못 분류되는 데이터에 더 집중하여 잘 학습하고 분류할 수 있도록 한다.\n",
    "#### 최종 분류기는 개별 약분류기들에 각각 가중치를 적용, 조합하여 얻을 수 있다.\n",
    "+ 장점 : 오류률이 낮고 코드가 쉬움. 가장 좋은 분류기를 가지고 분류하며, 매개변수가 없음\n",
    "+ 단점 : 에이다 부스트는 분류정밀도가 높지만 학습 데이터의 노이즈에 쉽게 영향을 받음.\n",
    "+ 활용 : 수치형, 명목형 값"
   ]
  },
  {
   "cell_type": "markdown",
   "metadata": {},
   "source": [
    "+ Ensemble method : Predict class label of previously unseen records by aggregating predictions made by multiple classifiers. => 다수의 classifier들을 조합하여 최종 예측 성능을 향상시킴.\n",
    "+ Boosting : An iterative procedure to adaptively change distribution of training data by focusing more on previously mis-classified records. => Parallel한 과정이 아니라 Sequential한 과정."
   ]
  },
  {
   "cell_type": "code",
   "execution_count": 1,
   "metadata": {},
   "outputs": [],
   "source": [
    "import matplotlib.pyplot as plt\n",
    "from sklearn import datasets\n",
    "from sklearn import tree, ensemble\n",
    "from sklearn.metrics import accuracy_score, confusion_matrix\n",
    "from sklearn.metrics import precision_score, recall_score, f1_score"
   ]
  },
  {
   "cell_type": "code",
   "execution_count": 2,
   "metadata": {},
   "outputs": [
    {
     "name": "stdout",
     "output_type": "stream",
     "text": [
      "{'data': array([[ 0.,  0.,  5., ...,  0.,  0.,  0.],\n",
      "       [ 0.,  0.,  0., ..., 10.,  0.,  0.],\n",
      "       [ 0.,  0.,  0., ..., 16.,  9.,  0.],\n",
      "       ...,\n",
      "       [ 0.,  0.,  1., ...,  6.,  0.,  0.],\n",
      "       [ 0.,  0.,  2., ..., 12.,  0.,  0.],\n",
      "       [ 0.,  0., 10., ..., 12.,  1.,  0.]]), 'target': array([0, 1, 2, ..., 8, 9, 8]), 'target_names': array([0, 1, 2, 3, 4, 5, 6, 7, 8, 9]), 'images': array([[[ 0.,  0.,  5., ...,  1.,  0.,  0.],\n",
      "        [ 0.,  0., 13., ..., 15.,  5.,  0.],\n",
      "        [ 0.,  3., 15., ..., 11.,  8.,  0.],\n",
      "        ...,\n",
      "        [ 0.,  4., 11., ..., 12.,  7.,  0.],\n",
      "        [ 0.,  2., 14., ..., 12.,  0.,  0.],\n",
      "        [ 0.,  0.,  6., ...,  0.,  0.,  0.]],\n",
      "\n",
      "       [[ 0.,  0.,  0., ...,  5.,  0.,  0.],\n",
      "        [ 0.,  0.,  0., ...,  9.,  0.,  0.],\n",
      "        [ 0.,  0.,  3., ...,  6.,  0.,  0.],\n",
      "        ...,\n",
      "        [ 0.,  0.,  1., ...,  6.,  0.,  0.],\n",
      "        [ 0.,  0.,  1., ...,  6.,  0.,  0.],\n",
      "        [ 0.,  0.,  0., ..., 10.,  0.,  0.]],\n",
      "\n",
      "       [[ 0.,  0.,  0., ..., 12.,  0.,  0.],\n",
      "        [ 0.,  0.,  3., ..., 14.,  0.,  0.],\n",
      "        [ 0.,  0.,  8., ..., 16.,  0.,  0.],\n",
      "        ...,\n",
      "        [ 0.,  9., 16., ...,  0.,  0.,  0.],\n",
      "        [ 0.,  3., 13., ..., 11.,  5.,  0.],\n",
      "        [ 0.,  0.,  0., ..., 16.,  9.,  0.]],\n",
      "\n",
      "       ...,\n",
      "\n",
      "       [[ 0.,  0.,  1., ...,  1.,  0.,  0.],\n",
      "        [ 0.,  0., 13., ...,  2.,  1.,  0.],\n",
      "        [ 0.,  0., 16., ..., 16.,  5.,  0.],\n",
      "        ...,\n",
      "        [ 0.,  0., 16., ..., 15.,  0.,  0.],\n",
      "        [ 0.,  0., 15., ..., 16.,  0.,  0.],\n",
      "        [ 0.,  0.,  2., ...,  6.,  0.,  0.]],\n",
      "\n",
      "       [[ 0.,  0.,  2., ...,  0.,  0.,  0.],\n",
      "        [ 0.,  0., 14., ..., 15.,  1.,  0.],\n",
      "        [ 0.,  4., 16., ..., 16.,  7.,  0.],\n",
      "        ...,\n",
      "        [ 0.,  0.,  0., ..., 16.,  2.,  0.],\n",
      "        [ 0.,  0.,  4., ..., 16.,  2.,  0.],\n",
      "        [ 0.,  0.,  5., ..., 12.,  0.,  0.]],\n",
      "\n",
      "       [[ 0.,  0., 10., ...,  1.,  0.,  0.],\n",
      "        [ 0.,  2., 16., ...,  1.,  0.,  0.],\n",
      "        [ 0.,  0., 15., ..., 15.,  0.,  0.],\n",
      "        ...,\n",
      "        [ 0.,  4., 16., ..., 16.,  6.,  0.],\n",
      "        [ 0.,  8., 16., ..., 16.,  8.,  0.],\n",
      "        [ 0.,  1.,  8., ..., 12.,  1.,  0.]]]), 'DESCR': \".. _digits_dataset:\\n\\nOptical recognition of handwritten digits dataset\\n--------------------------------------------------\\n\\n**Data Set Characteristics:**\\n\\n    :Number of Instances: 5620\\n    :Number of Attributes: 64\\n    :Attribute Information: 8x8 image of integer pixels in the range 0..16.\\n    :Missing Attribute Values: None\\n    :Creator: E. Alpaydin (alpaydin '@' boun.edu.tr)\\n    :Date: July; 1998\\n\\nThis is a copy of the test set of the UCI ML hand-written digits datasets\\nhttps://archive.ics.uci.edu/ml/datasets/Optical+Recognition+of+Handwritten+Digits\\n\\nThe data set contains images of hand-written digits: 10 classes where\\neach class refers to a digit.\\n\\nPreprocessing programs made available by NIST were used to extract\\nnormalized bitmaps of handwritten digits from a preprinted form. From a\\ntotal of 43 people, 30 contributed to the training set and different 13\\nto the test set. 32x32 bitmaps are divided into nonoverlapping blocks of\\n4x4 and the number of on pixels are counted in each block. This generates\\nan input matrix of 8x8 where each element is an integer in the range\\n0..16. This reduces dimensionality and gives invariance to small\\ndistortions.\\n\\nFor info on NIST preprocessing routines, see M. D. Garris, J. L. Blue, G.\\nT. Candela, D. L. Dimmick, J. Geist, P. J. Grother, S. A. Janet, and C.\\nL. Wilson, NIST Form-Based Handprint Recognition System, NISTIR 5469,\\n1994.\\n\\n.. topic:: References\\n\\n  - C. Kaynak (1995) Methods of Combining Multiple Classifiers and Their\\n    Applications to Handwritten Digit Recognition, MSc Thesis, Institute of\\n    Graduate Studies in Science and Engineering, Bogazici University.\\n  - E. Alpaydin, C. Kaynak (1998) Cascading Classifiers, Kybernetika.\\n  - Ken Tang and Ponnuthurai N. Suganthan and Xi Yao and A. Kai Qin.\\n    Linear dimensionalityreduction using relevance weighted LDA. School of\\n    Electrical and Electronic Engineering Nanyang Technological University.\\n    2005.\\n  - Claudio Gentile. A New Approximate Maximal Margin Classification\\n    Algorithm. NIPS. 2000.\"}\n",
      "[0 1 2 ... 8 9 8]\n"
     ]
    }
   ],
   "source": [
    "# 손으로 쓴 숫자 데이터 읽기\n",
    "digits=datasets.load_digits()\n",
    "print(digits)\n",
    "print(digits.target)\n",
    "# digits에 임의의 숫자들이 픽셀형태로 저장되있음. 예를들어 1은 [0,0,0,1,0,0,0,10, ...]\n",
    "# 1부터 15까지의 숫자가 배열형태로 각 숫자마다 표현되있는데, 15로 갈수록 색이 진한 것."
   ]
  },
  {
   "cell_type": "code",
   "execution_count": 8,
   "metadata": {},
   "outputs": [
    {
     "data": {
      "image/png": "[encoded data removed]",
      "text/plain": [
       "<Figure size 432x288 with 10 Axes>"
      ]
     },
     "metadata": {
      "needs_background": "light"
     },
     "output_type": "display_data"
    }
   ],
   "source": [
    "# 이미지를 2행 5열로 표시\n",
    "for label, img in zip(digits.target[:10], digits.images[:10]):\n",
    "    # digits.target은 label로써, 실제 1,2,3 숫자 값이 들어가있음.\n",
    "    # 손글씨 데이터인 images와 target의 픽셀값을 비교하여 예측\n",
    "    plt.subplot(2, 5,label+1) # 이미지를 2행 5열의 형태로 출력한다.\n",
    "    plt.axis('on') # 이미지 픽셀 눈금자를 추가하려면 on, 빼려면 off\n",
    "    plt.imshow(img, cmap=plt.cm.gray_r, interpolation='nearest') # 이미지를 손글씨로\n",
    "    plt.title('Digit: {0}'.format(label)) # 이미지의 타이틀을 라벨, 타겟으로 해서 보여주기\n",
    "plt.show()\n"
   ]
  },
  {
   "cell_type": "code",
   "execution_count": 18,
   "metadata": {},
   "outputs": [
    {
     "name": "stdout",
     "output_type": "stream",
     "text": [
      "[False False False ... False False False]\n",
      "[False False False ...  True False  True]\n",
      "[[[ 0.  0.  7. ...  1.  0.  0.]\n",
      "  [ 0.  8. 13. ...  4.  0.  0.]\n",
      "  [ 0.  2.  1. ...  0.  0.  0.]\n",
      "  ...\n",
      "  [ 0.  0.  0. ... 10.  8.  0.]\n",
      "  [ 0.  0.  8. ... 14.  9.  0.]\n",
      "  [ 0.  0.  7. ...  9.  0.  0.]]\n",
      "\n",
      " [[ 0.  0.  9. ...  1.  0.  0.]\n",
      "  [ 0.  0. 12. ... 12.  0.  0.]\n",
      "  [ 0.  0.  9. ... 15.  4.  0.]\n",
      "  ...\n",
      "  [ 0.  3. 16. ... 13.  2.  0.]\n",
      "  [ 0.  1. 15. ... 16.  8.  0.]\n",
      "  [ 0.  0. 11. ... 11.  1.  0.]]\n",
      "\n",
      " [[ 0.  2.  9. ...  9.  3.  0.]\n",
      "  [ 0.  4. 13. ... 16.  8.  0.]\n",
      "  [ 0.  0.  0. ... 15.  3.  0.]\n",
      "  ...\n",
      "  [ 0.  0.  0. ... 15.  4.  0.]\n",
      "  [ 0.  1.  5. ... 16.  6.  0.]\n",
      "  [ 0.  2. 12. ... 11.  0.  0.]]\n",
      "\n",
      " ...\n",
      "\n",
      " [[ 0.  0.  5. ...  0.  1.  0.]\n",
      "  [ 0.  0. 11. ... 13.  6.  0.]\n",
      "  [ 0.  0.  2. ... 12.  1.  0.]\n",
      "  ...\n",
      "  [ 0.  0.  8. ... 11.  0.  0.]\n",
      "  [ 0.  0. 11. ...  9.  0.  0.]\n",
      "  [ 0.  0.  6. ...  3.  0.  0.]]\n",
      "\n",
      " [[ 0.  0.  1. ...  1.  0.  0.]\n",
      "  [ 0.  0. 13. ...  2.  1.  0.]\n",
      "  [ 0.  0. 16. ... 16.  5.  0.]\n",
      "  ...\n",
      "  [ 0.  0. 16. ... 15.  0.  0.]\n",
      "  [ 0.  0. 15. ... 16.  0.  0.]\n",
      "  [ 0.  0.  2. ...  6.  0.  0.]]\n",
      "\n",
      " [[ 0.  0. 10. ...  1.  0.  0.]\n",
      "  [ 0.  2. 16. ...  1.  0.  0.]\n",
      "  [ 0.  0. 15. ... 15.  0.  0.]\n",
      "  ...\n",
      "  [ 0.  4. 16. ... 16.  6.  0.]\n",
      "  [ 0.  8. 16. ... 16.  8.  0.]\n",
      "  [ 0.  1.  8. ... 12.  1.  0.]]]\n",
      "[3 8 3 8 3 8 8 8 3 8 3 3 3 3 8 3 3 3 8 3 3 8 8 8 8 8 3 8 3 8 3 8 8 8 3 8 3\n",
      " 3 3 3 8 3 3 3 8 3 3 8 8 8 8 8 3 8 3 8 3 8 8 8 3 8 3 3 3 3 8 3 3 3 8 3 3 8\n",
      " 8 8 8 3 3 8 3 8 3 8 8 8 3 8 3 3 3 3 8 3 3 3 8 3 3 8 8 8 8 8 3 8 3 8 3 8 8\n",
      " 8 3 8 3 3 3 3 8 3 3 3 8 3 3 8 8 8 8 8 3 8 3 8 3 8 8 8 3 8 3 3 3 3 8 3 3 3\n",
      " 8 3 3 8 8 8 8 8 3 8 3 8 3 8 8 8 3 8 3 3 3 3 8 3 3 3 8 3 3 8 8 8 8 8 3 8 3\n",
      " 8 3 8 8 8 3 8 3 3 3 3 8 3 3 3 8 3 3 8 8 8 3 8 3 8 3 8 8 8 3 8 3 3 3 3 8 3\n",
      " 3 3 8 3 3 8 8 8 8 8 3 8 3 8 3 8 8 8 3 8 3 3 3 3 8 3 3 3 8 3 3 8 8 8 8 8 3\n",
      " 8 3 8 3 8 8 8 3 8 3 3 3 3 8 3 3 3 8 3 3 8 8 8 8 3 8 3 8 3 8 8 8 3 8 3 3 3\n",
      " 3 8 3 3 3 8 3 3 8 8 8 8 8 3 8 3 3 8 8 8 3 8 3 3 3 3 8 3 3 3 8 3 3 8 8 3 8\n",
      " 3 8 3 8 8 8 3 8 3 3 3 3 8 3 3 3 8 3 3 8 8 8 8 8]\n"
     ]
    }
   ],
   "source": [
    "# 3과 8의 데이터 위치를 구하기\n",
    "print(digits.target==3) # target값이 3일때만 True, 아닐땐 False 저장\n",
    "flag_3_8 = (digits.target==3)+(digits.target==8) # 우리는 3과 8만 볼거기 때문에 타겟값이 3과 8일때의 인덱스만 저장\n",
    "print(flag_3_8)\n",
    "# 3과 8의 데이터를 구하기\n",
    "images=digits.images[flag_3_8] # 3과 8일때의 인덱스 위치의 손글씨만 저장\n",
    "labels=digits.target[flag_3_8] # 3과 8일때의 인덱스 위치의 타겟값만 저장\n",
    "print(images)\n",
    "print(labels)"
   ]
  },
  {
   "cell_type": "code",
   "execution_count": 22,
   "metadata": {},
   "outputs": [
    {
     "name": "stdout",
     "output_type": "stream",
     "text": [
      "[[ 0.  0.  7. ...  9.  0.  0.]\n",
      " [ 0.  0.  9. ... 11.  1.  0.]\n",
      " [ 0.  2.  9. ... 11.  0.  0.]\n",
      " ...\n",
      " [ 0.  0.  5. ...  3.  0.  0.]\n",
      " [ 0.  0.  1. ...  6.  0.  0.]\n",
      " [ 0.  0. 10. ... 12.  1.  0.]]\n",
      "357\n",
      "214\n"
     ]
    },
    {
     "data": {
      "text/plain": [
       "AdaBoostClassifier(algorithm='SAMME.R',\n",
       "                   base_estimator=DecisionTreeClassifier(class_weight=None,\n",
       "                                                         criterion='gini',\n",
       "                                                         max_depth=3,\n",
       "                                                         max_features=None,\n",
       "                                                         max_leaf_nodes=None,\n",
       "                                                         min_impurity_decrease=0.0,\n",
       "                                                         min_impurity_split=None,\n",
       "                                                         min_samples_leaf=1,\n",
       "                                                         min_samples_split=2,\n",
       "                                                         min_weight_fraction_leaf=0.0,\n",
       "                                                         presort=False,\n",
       "                                                         random_state=None,\n",
       "                                                         splitter='best'),\n",
       "                   learning_rate=1.0, n_estimators=50, random_state=None)"
      ]
     },
     "execution_count": 22,
     "metadata": {},
     "output_type": "execute_result"
    }
   ],
   "source": [
    "# 3과 8의 이미지 데이터를 1차원화\n",
    "images=images.reshape(images.shape[0],-1) # 열을 행에 따라 변하도록 가변행화.\n",
    "print(images)\n",
    "# 분류기 생성\n",
    "n_samples=len(flag_3_8[flag_3_8])\n",
    "print(n_samples) # = 357개\n",
    "train_size=int(n_samples*3/5)\n",
    "print(train_size) # = 전체 357개 중 학습할 214개(3/5)라는 개수를 저장 (int)\n",
    "classifier=ensemble.AdaBoostClassifier(base_estimator=tree.DecisionTreeClassifier(max_depth=3),\n",
    "                                                                                n_estimators=50)\n",
    "classifier.fit(images[:train_size], labels[:train_size])"
   ]
  },
  {
   "cell_type": "code",
   "execution_count": 24,
   "metadata": {},
   "outputs": [
    {
     "name": "stdout",
     "output_type": "stream",
     "text": [
      "[3 8 3 3 3 3 8 3 3 3 8 3 3 8 8 8 8 8 3 8 3 8 3 8 8 8 3 8 3 3 3 3 8 3 3 3 8\n",
      " 3 3 8 8 8 8 8 3 8 3 8 3 8 8 8 3 8 3 3 3 3 8 3 3 3 8 3 3 8 8 8 8 3 8 3 8 3\n",
      " 8 8 8 3 8 3 3 3 3 8 3 3 3 8 3 3 8 8 8 8 8 3 8 3 3 8 8 8 3 8 3 3 3 3 8 3 3\n",
      " 3 8 3 3 8 8 3 8 3 8 3 8 8 8 3 8 3 3 3 3 8 3 3 3 8 3 3 8 8 8 8 8]\n",
      "[3 8 3 3 3 3 8 3 3 3 8 3 3 8 8 8 8 8 3 8 3 8 3 8 8 8 8 8 3 3 3 3 8 3 3 3 8\n",
      " 3 3 8 8 8 8 8 3 8 3 8 3 8 8 8 3 8 3 3 3 3 8 3 3 3 8 3 3 8 8 8 8 3 8 3 8 3\n",
      " 8 8 8 3 8 3 3 3 3 8 3 3 3 8 3 3 8 8 8 8 8 3 8 3 3 8 8 8 3 8 8 3 3 3 8 3 3\n",
      " 3 8 3 3 8 8 3 8 8 8 8 8 8 8 8 8 8 8 3 8 8 3 3 3 8 8 3 8 8 8 8 8]\n",
      "Accuracy:\n",
      " 0.9370629370629371\n",
      "Confusion matrix:\n",
      " [[66  9]\n",
      " [ 0 68]]\n",
      "Precision:\n",
      " 1.0\n",
      "Recall:\n",
      " 0.88\n",
      "F-measure:\n",
      " 0.9361702127659575\n"
     ]
    }
   ],
   "source": [
    "# 분류기 성능을 확인\n",
    "expected=labels[train_size:] # 실제 레이블 값\n",
    "print(expected)\n",
    "predicted=classifier.predict(images[train_size:]) # 예측값\n",
    "print(predicted)\n",
    "# 몇개는 3을 8로, 8을 3으로 예측한것을 알 수 있음.\n",
    "\n",
    "print('Accuracy:\\n', accuracy_score(expected, predicted))\n",
    "print('Confusion matrix:\\n', confusion_matrix(expected, predicted))\n",
    "    # TN = 66, TP = 68. positive가 3이므로 8을 8로 예측할 경우가 66, 3을 3으로 예측할 경우가 68.\n",
    "print('Precision:\\n', precision_score(expected, predicted, pos_label=3))\n",
    "    # pos_label=positive로 설정할 레이블 값\n",
    "print('Recall:\\n', recall_score(expected, predicted, pos_label=3))\n",
    "print('F-measure:\\n', f1_score(expected, predicted, pos_label=3))"
   ]
  },
  {
   "cell_type": "code",
   "execution_count": null,
   "metadata": {},
   "outputs": [],
   "source": []
  }
 ],
 "metadata": {
  "kernelspec": {
   "display_name": "Python 3",
   "language": "python",
   "name": "python3"
  },
  "language_info": {
   "codemirror_mode": {
    "name": "ipython",
    "version": 3
   },
   "file_extension": ".py",
   "mimetype": "text/x-python",
   "name": "python",
   "nbconvert_exporter": "python",
   "pygments_lexer": "ipython3",
   "version": "3.7.4"
  }
 },
 "nbformat": 4,
 "nbformat_minor": 2
}
