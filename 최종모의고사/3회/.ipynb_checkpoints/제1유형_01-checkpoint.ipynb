{
 "cells": [
  {
   "cell_type": "code",
   "execution_count": 1,
   "id": "32cce752-8488-442b-91da-0edfd7c9e30e",
   "metadata": {
    "tags": []
   },
   "outputs": [
    {
     "name": "stdout",
     "output_type": "stream",
     "text": [
      "43.672111275723864\n"
     ]
    }
   ],
   "source": [
    "import pandas as pd\n",
    "import scipy.stats as ssp\n",
    "\n",
    "df = pd.read_csv('./data/esoph.csv')\n",
    "df['nsums'] = df['ncases'] + df['ncontrols']\n",
    "df1 = df.groupby(['alcgp','tobgp'])['nsums'].sum().to_frame().reset_index().pivot(index='alcgp', columns='tobgp',values='nsums')\n",
    "print(ssp.chi2_contingency(df1)[0])"
   ]
  }
 ],
 "metadata": {
  "kernelspec": {
   "display_name": "Enjoy Data Science",
   "language": "python",
   "name": "enjoy-data-science"
  },
  "language_info": {
   "file_extension": ".py",
   "mimetype": "text/x-python",
   "name": "python",
   "version": "3.8.12"
  }
 },
 "nbformat": 4,
 "nbformat_minor": 5
}
