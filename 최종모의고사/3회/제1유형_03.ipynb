{
 "cells": [
  {
   "cell_type": "code",
   "execution_count": 1,
   "id": "73c13759-e889-4eb2-9227-0456e5afe4df",
   "metadata": {},
   "outputs": [
    {
     "name": "stdout",
     "output_type": "stream",
     "text": [
      "0.5705128205128205\n"
     ]
    }
   ],
   "source": [
    "import pandas as pd\n",
    "\n",
    "pd.set_option('display.max.rows', 1000)\n",
    "\n",
    "def bins(x):\n",
    "    if(20 <= x & x <= 40):\n",
    "        return 1\n",
    "    elif(40 < x & x < 60):\n",
    "        return 2\n",
    "    elif(60 <= x):\n",
    "        return 3\n",
    "\n",
    "df = pd.read_csv('./data/PimaIndiansDiabetes2.csv')\n",
    "df1 = df.dropna(subset=['glucose','pressure','mass']).copy()\n",
    "df1['age_step'] = df1.loc[:,'age'].map(lambda x: bins(x))\n",
    "df2 = df1.groupby(['age_step','diabetes']).size().reset_index(name='values').pivot(index='age_step', values='values', columns='diabetes')\n",
    "df2['incidence_rate'] = df2['pos'] / (df2['neg'] + df2['pos'])\n",
    "df3 = df2.sort_values('incidence_rate', ascending=False)\n",
    "print(df3['incidence_rate'].iloc[0])"
   ]
  },
  {
   "cell_type": "code",
   "execution_count": 2,
   "id": "8cd560dc-3178-44a4-917d-d6ed183a9fe7",
   "metadata": {},
   "outputs": [
    {
     "name": "stdout",
     "output_type": "stream",
     "text": [
      "0.5705128205128205\n"
     ]
    }
   ],
   "source": [
    "df1 = df.dropna(subset=['glucose','pressure','mass']).copy()\n",
    "df1['age_bin'] = pd.cut(df1['age'], bins=[19,40,59,999], labels=[1,2,3])\n",
    "df2 = df1.groupby(['age_bin','diabetes']).size().groupby('age_bin').transform(lambda x: x/sum(x)).reset_index(name='incidence_rate')\n",
    "df3 = df2[df2['diabetes'] == 'pos'].sort_values('incidence_rate', ascending=False)\n",
    "print(df3['incidence_rate'].values[0])"
   ]
  }
 ],
 "metadata": {
  "kernelspec": {
   "display_name": "Enjoy Data Science",
   "language": "python",
   "name": "enjoy-data-science"
  },
  "language_info": {
   "file_extension": ".py",
   "mimetype": "text/x-python",
   "name": "python",
   "version": "3.8.12"
  }
 },
 "nbformat": 4,
 "nbformat_minor": 5
}
