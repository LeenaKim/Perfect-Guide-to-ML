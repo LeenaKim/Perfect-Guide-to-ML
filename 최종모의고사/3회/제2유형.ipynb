{
 "cells": [
  {
   "cell_type": "code",
   "execution_count": null,
   "id": "a4f5bd60-1a30-4c16-a332-0c5032d9ea13",
   "metadata": {},
   "outputs": [],
   "source": [
    "import pandas as pd\n",
    "\n",
    "from sklearn.model_selection import train_test_split\n",
    "from sklearn.preprocessing import LabelEncoder\n",
    "from sklearn.ensemble import RandomForestRegressor, AdaBoostRegressor, GradientBoostingRegressor\n",
    "from sklearn.linear_model import LinearRegression, Lasso\n",
    "from sklearn.metrics import r2_score\n",
    "\n",
    "from xgboost import XGBRegressor\n",
    "\n",
    "data = pd.read_csv('./data/insurance.csv')\n",
    "X = data.drop(['charges'], axis=1).copy()\n",
    "y = data[['charges']]\n",
    "\n",
    "#print(data.info())\n",
    "X_train, X_test, y_train, y_test = train_test_split(X.copy(), y, test_size=0.2, random_state=42)\n",
    "\n",
    "# for col in X_train.select_dtypes(include='object').columns:\n",
    "#     print(X_train[col].unique(), X_test[col].unique())\n",
    "#     print(set(X_train[col].unique()) == set(X_test[col].unique()))\n",
    "    \n",
    "for col in X_train.select_dtypes(include='object').columns:\n",
    "    X_train[col] = LabelEncoder().fit_transform(X_train[col])\n",
    "    X_test[col] = LabelEncoder().fit_transform(X_test[col])\n",
    "\n",
    "param = {'random_state':42}\n",
    "models = {\n",
    "    'xgb': XGBRegressor(n_estimators=1000, max_depth=100),\n",
    "    'lasso' : Lasso(),\n",
    "    'lr' : LinearRegression(),\n",
    "    'rf' : RandomForestRegressor(**param),\n",
    "    'ada': AdaBoostRegressor(**param),\n",
    "    'bgr': GradientBoostingRegressor(**param)}\n",
    "\n",
    "results = []\n",
    "for name, model in models.items():\n",
    "    model = model.fit(X_train, y_train['charges'])\n",
    "    y_pred = model.predict(X_test)\n",
    "    score = r2_score(y_test, y_pred)\n",
    "    results.append((name, model, y_pred, score))\n",
    "    print('{} : {}'.format(name, score))\n",
    "\n",
    "results.sort(key=lambda tup: tup[3], reverse=True)\n",
    "result = pd.DataFrame({'charges':results[0][2]})\n",
    "result.to_csv('00000.csv', index=False)"
   ]
  },
  {
   "cell_type": "code",
   "execution_count": null,
   "id": "9f1dbe68-7f77-4faa-a02b-527ce4a66951",
   "metadata": {},
   "outputs": [],
   "source": []
  }
 ],
 "metadata": {
  "kernelspec": {
   "display_name": "Enjoy Data Science",
   "language": "python",
   "name": "enjoy-data-science"
  },
  "language_info": {
   "file_extension": ".py",
   "mimetype": "text/x-python",
   "name": "python",
   "version": "3.8.12"
  }
 },
 "nbformat": 4,
 "nbformat_minor": 5
}
