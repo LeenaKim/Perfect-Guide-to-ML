{
 "cells": [
  {
   "cell_type": "markdown",
   "metadata": {
    "tags": []
   },
   "source": [
    "### 상위 50개의 MDEV 값을 상위 50개의 MDEV 값의 최소값으로 변환 후 CRIM 1을 초과하는 값에 대한 CRIM의 평균을 구하시오"
   ]
  },
  {
   "cell_type": "code",
   "execution_count": 1,
   "metadata": {
    "tags": []
   },
   "outputs": [
    {
     "data": {
      "text/plain": [
       "10.138975114942527"
      ]
     },
     "execution_count": 1,
     "metadata": {},
     "output_type": "execute_result"
    }
   ],
   "source": [
    "import pandas as pd\n",
    "\n",
    "data = pd.read_csv('./data/boston.csv')\n",
    "top50 = data.sort_values(['medv'], ascending=False).iloc[:50,:]['medv'].values[49]\n",
    "data.loc[data['medv'] > top50, 'medv'] = top50\n",
    "data = data[data['crim'] > 1]\n",
    "data['crim'].mean()"
   ]
  }
 ],
 "metadata": {
  "kernelspec": {
   "display_name": "Python 3",
   "language": "python",
   "name": "python3"
  },
  "language_info": {
   "codemirror_mode": {
    "name": "ipython",
    "version": 3
   },
   "file_extension": ".py",
   "mimetype": "text/x-python",
   "name": "python",
   "nbconvert_exporter": "python",
   "pygments_lexer": "ipython3",
   "version": "3.8.5"
  }
 },
 "nbformat": 4,
 "nbformat_minor": 5
}
