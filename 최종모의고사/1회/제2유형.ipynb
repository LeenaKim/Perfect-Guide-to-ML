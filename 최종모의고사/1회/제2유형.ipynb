{
 "cells": [
  {
   "cell_type": "code",
   "execution_count": 87,
   "id": "a4f5bd60-1a30-4c16-a332-0c5032d9ea13",
   "metadata": {},
   "outputs": [
    {
     "name": "stdout",
     "output_type": "stream",
     "text": [
      "0.9333333333333333\n",
      "              precision    recall  f1-score   support\n",
      "\n",
      "      setosa       1.00      1.00      1.00        11\n",
      "  versicolor       0.93      0.88      0.90        16\n",
      "   virginica       0.89      0.94      0.92        18\n",
      "\n",
      "    accuracy                           0.93        45\n",
      "   macro avg       0.94      0.94      0.94        45\n",
      "weighted avg       0.93      0.93      0.93        45\n",
      "\n",
      "[[11  0  0]\n",
      " [ 0 14  2]\n",
      " [ 0  1 17]]\n",
      "\n",
      "0.9555555555555556\n",
      "              precision    recall  f1-score   support\n",
      "\n",
      "      setosa       1.00      1.00      1.00        11\n",
      "  versicolor       0.94      0.94      0.94        16\n",
      "   virginica       0.94      0.94      0.94        18\n",
      "\n",
      "    accuracy                           0.96        45\n",
      "   macro avg       0.96      0.96      0.96        45\n",
      "weighted avg       0.96      0.96      0.96        45\n",
      "\n",
      "[[11  0  0]\n",
      " [ 0 15  1]\n",
      " [ 0  1 17]]\n"
     ]
    }
   ],
   "source": [
    "import pandas as pd\n",
    "\n",
    "from sklearn.preprocessing import LabelEncoder, StandardScaler, RobustScaler\n",
    "from sklearn.model_selection import train_test_split\n",
    "from sklearn.tree import DecisionTreeClassifier\n",
    "from sklearn.svm import SVC\n",
    "from sklearn.metrics import r2_score, mean_squared_error, accuracy_score, classification_report, confusion_matrix\n",
    "# print(help(classification_report))\n",
    "\n",
    "df = pd.read_csv('./data/iris.csv')\n",
    "\n",
    "X_train, X_test = train_test_split(df, test_size=.3, random_state=1000)\n",
    "\n",
    "y_train = X_train.iloc[:, -1]\n",
    "X_train = X_train.iloc[:, 0:-1]\n",
    "\n",
    "y_test = X_test.iloc[:, -1]\n",
    "X_test = X_test.iloc[:, 0:-1]\n",
    "\n",
    "X_train = RobustScaler().fit(df.iloc[:, 0:-1]).transform(X_train)\n",
    "X_test = RobustScaler().fit(df.iloc[:, 0:-1]).transform(X_test)\n",
    "\n",
    "dt = DecisionTreeClassifier(random_state=42, max_depth=100).fit(X_train, y_train)\n",
    "y_pred = dt.predict(X_test)\n",
    "print(accuracy_score(y_test, y_pred))\n",
    "print(classification_report(y_test, y_pred))\n",
    "print(confusion_matrix(y_test, y_pred))\n",
    "print()\n",
    "\n",
    "svc = SVC(random_state=42, C=2).fit(X_train, y_train)\n",
    "y_pred = svc.predict(X_test)\n",
    "print(accuracy_score(y_test, y_pred))\n",
    "print(classification_report(y_test, y_pred))\n",
    "print(confusion_matrix(y_test, y_pred))"
   ]
  },
  {
   "cell_type": "code",
   "execution_count": null,
   "id": "f8a73102-c63c-49d2-88d7-6fe02a5b1f32",
   "metadata": {},
   "outputs": [],
   "source": []
  }
 ],
 "metadata": {
  "kernelspec": {
   "display_name": "Enjoy Data Science",
   "language": "python",
   "name": "enjoy-data-science"
  },
  "language_info": {
   "file_extension": ".py",
   "mimetype": "text/x-python",
   "name": "python",
   "version": "3.8.12"
  }
 },
 "nbformat": 4,
 "nbformat_minor": 5
}
