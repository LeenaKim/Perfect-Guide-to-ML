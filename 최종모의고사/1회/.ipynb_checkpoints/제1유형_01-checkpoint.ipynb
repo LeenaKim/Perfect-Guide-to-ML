{
 "cells": [
  {
   "cell_type": "markdown",
   "id": "0c345d92-e17d-4d32-bc5f-f4c28b490f5a",
   "metadata": {
    "tags": []
   },
   "source": [
    "### 상위 50개의 MDEV 값을 상위 50개의 MDEV 값의 최소값으로 변환 후 CRIM 1을 초과하는 값에 대한 CRIM의 평균을 구하시오"
   ]
  },
  {
   "cell_type": "code",
   "execution_count": 1,
   "id": "81c1f9d8-11f8-4bc9-b7c7-f4863e3b346c",
   "metadata": {
    "tags": []
   },
   "outputs": [
    {
     "data": {
      "text/plain": [
       "10.138975114942527"
      ]
     },
     "execution_count": 1,
     "metadata": {},
     "output_type": "execute_result"
    }
   ],
   "source": [
    "import pandas as pd\n",
    "\n",
    "data = pd.read_csv('./data/boston.csv')\n",
    "top50 = data.sort_values(['medv'], ascending=False).iloc[:50,:]['medv'].values[49]\n",
    "data.loc[data['medv'] > top50, 'medv'] = top50\n",
    "data = data[data['crim'] > 1]\n",
    "data['crim'].mean()"
   ]
  }
 ],
 "metadata": {
  "kernelspec": {
   "display_name": "Enjoy Data Science",
   "language": "python",
   "name": "enjoy-data-science"
  },
  "language_info": {
   "file_extension": ".py",
   "mimetype": "text/x-python",
   "name": "python",
   "version": "3.8.12"
  }
 },
 "nbformat": 4,
 "nbformat_minor": 5
}
