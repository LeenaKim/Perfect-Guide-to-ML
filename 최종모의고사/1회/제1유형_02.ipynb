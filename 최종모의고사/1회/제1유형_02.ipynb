{
 "cells": [
  {
   "cell_type": "code",
   "execution_count": 39,
   "id": "52bcc38e-841e-49ae-bec7-37bbadb3c2d0",
   "metadata": {},
   "outputs": [
    {
     "name": "stdout",
     "output_type": "stream",
     "text": [
      "0.6632932047427257\n",
      "0.6601271093157096\n",
      "0.6601271093157096\n"
     ]
    }
   ],
   "source": [
    "import numpy as np\n",
    "import pandas as pd\n",
    "\n",
    "df = pd.read_csv('./data/iris.csv')\n",
    "df = df.iloc[:int(len(df)*.7), :]\n",
    "print(df['Sepal.Length'].std(ddof=1))\n",
    "print(df['Sepal.Length'].std(ddof=0))\n",
    "print(np.std(df['Sepal.Length']))"
   ]
  }
 ],
 "metadata": {
  "kernelspec": {
   "display_name": "Enjoy Data Science",
   "language": "python",
   "name": "enjoy-data-science"
  },
  "language_info": {
   "file_extension": ".py",
   "mimetype": "text/x-python",
   "name": "python",
   "version": "3.8.12"
  }
 },
 "nbformat": 4,
 "nbformat_minor": 5
}
