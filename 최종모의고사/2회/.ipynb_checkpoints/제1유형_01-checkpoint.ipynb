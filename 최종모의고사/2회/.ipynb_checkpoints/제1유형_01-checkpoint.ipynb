{
 "cells": [
  {
   "cell_type": "code",
   "execution_count": 5,
   "id": "81c1f9d8-11f8-4bc9-b7c7-f4863e3b346c",
   "metadata": {
    "tags": []
   },
   "outputs": [
    {
     "name": "stdout",
     "output_type": "stream",
     "text": [
      "16.05212849189551\n"
     ]
    }
   ],
   "source": [
    "import pandas as pd\n",
    "\n",
    "df = pd.read_csv('./data/Carseats.csv')\n",
    "upper = df['Sales'].mean() + df['Sales'].std() * 1.5\n",
    "lower = df['Sales'].mean() - df['Sales'].std() * 1.5\n",
    "df1 = df[(df['Sales'] <= upper) & (df['Sales'] >= lower)]\n",
    "print(df1['Age'].std())"
   ]
  },
  {
   "cell_type": "code",
   "execution_count": null,
   "id": "fc3802f0-8bb4-4adf-bbad-6f73bf1d754b",
   "metadata": {},
   "outputs": [],
   "source": []
  }
 ],
 "metadata": {
  "kernelspec": {
   "display_name": "Enjoy Data Science",
   "language": "python",
   "name": "enjoy-data-science"
  },
  "language_info": {
   "file_extension": ".py",
   "mimetype": "text/x-python",
   "name": "python",
   "version": "3.8.12"
  }
 },
 "nbformat": 4,
 "nbformat_minor": 5
}
