{
 "cells": [
  {
   "cell_type": "code",
   "execution_count": 1,
   "id": "52bcc38e-841e-49ae-bec7-37bbadb3c2d0",
   "metadata": {},
   "outputs": [
    {
     "name": "stdout",
     "output_type": "stream",
     "text": [
      "0.012981904012587364\n"
     ]
    }
   ],
   "source": [
    "import pandas as pd\n",
    "\n",
    "df = pd.read_csv('./data/Cars93.csv')\n",
    "median = df['Luggage.room'].median()\n",
    "mean1 = df['Luggage.room'].mean()\n",
    "df['Luggage.room'].fillna(median, inplace=True)\n",
    "mean2 = df['Luggage.room'].mean()\n",
    "print(abs(mean1-mean2))"
   ]
  }
 ],
 "metadata": {
  "kernelspec": {
   "display_name": "Enjoy Data Science",
   "language": "python",
   "name": "enjoy-data-science"
  },
  "language_info": {
   "file_extension": ".py",
   "mimetype": "text/x-python",
   "name": "python",
   "version": "3.8.12"
  }
 },
 "nbformat": 4,
 "nbformat_minor": 5
}
