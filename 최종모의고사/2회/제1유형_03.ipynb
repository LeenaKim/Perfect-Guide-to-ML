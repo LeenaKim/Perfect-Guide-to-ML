{
 "cells": [
  {
   "cell_type": "code",
   "execution_count": 3,
   "id": "73c13759-e889-4eb2-9227-0456e5afe4df",
   "metadata": {},
   "outputs": [
    {
     "name": "stdout",
     "output_type": "stream",
     "text": [
      "957.0\n"
     ]
    }
   ],
   "source": [
    "import pandas as pd\n",
    "\n",
    "df = pd.read_csv('./data/TimeAge.csv')\n",
    "df20 = df[df['age']=='20s']\n",
    "df50 = df[df['age']=='50s']\n",
    "print(abs(df20['confirmed'].mean() - df50['confirmed'].mean()))"
   ]
  },
  {
   "cell_type": "code",
   "execution_count": null,
   "id": "29f741f9-399e-4d4b-b1ad-f4fc7926ba35",
   "metadata": {},
   "outputs": [],
   "source": []
  }
 ],
 "metadata": {
  "kernelspec": {
   "display_name": "Enjoy Data Science",
   "language": "python",
   "name": "enjoy-data-science"
  },
  "language_info": {
   "file_extension": ".py",
   "mimetype": "text/x-python",
   "name": "python",
   "version": "3.8.12"
  }
 },
 "nbformat": 4,
 "nbformat_minor": 5
}
