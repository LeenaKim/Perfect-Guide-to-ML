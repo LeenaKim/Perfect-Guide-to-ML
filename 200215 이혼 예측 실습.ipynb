{
 "cells": [
  {
   "cell_type": "markdown",
   "metadata": {},
   "source": [
    "# 배우자와의 관계에 대한 설문조사로 이혼 여부 예측하기\n",
    "## 1. 결정트리"
   ]
  },
  {
   "cell_type": "code",
   "execution_count": 5,
   "metadata": {},
   "outputs": [],
   "source": [
    "import pandas as pd"
   ]
  },
  {
   "cell_type": "code",
   "execution_count": 8,
   "metadata": {},
   "outputs": [],
   "source": [
    "divorce=pd.read_csv('/Users/air/Leena Python/MachineLearning/Data/divorce.csv',\n",
    "                   sep=';')"
   ]
  },
  {
   "cell_type": "code",
   "execution_count": 9,
   "metadata": {},
   "outputs": [
    {
     "name": "stdout",
     "output_type": "stream",
     "text": [
      "<class 'pandas.core.frame.DataFrame'>\n",
      "RangeIndex: 170 entries, 0 to 169\n",
      "Data columns (total 55 columns):\n",
      "Atr1     170 non-null int64\n",
      "Atr2     170 non-null int64\n",
      "Atr3     170 non-null int64\n",
      "Atr4     170 non-null int64\n",
      "Atr5     170 non-null int64\n",
      "Atr6     170 non-null int64\n",
      "Atr7     170 non-null int64\n",
      "Atr8     170 non-null int64\n",
      "Atr9     170 non-null int64\n",
      "Atr10    170 non-null int64\n",
      "Atr11    170 non-null int64\n",
      "Atr12    170 non-null int64\n",
      "Atr13    170 non-null int64\n",
      "Atr14    170 non-null int64\n",
      "Atr15    170 non-null int64\n",
      "Atr16    170 non-null int64\n",
      "Atr17    170 non-null int64\n",
      "Atr18    170 non-null int64\n",
      "Atr19    170 non-null int64\n",
      "Atr20    170 non-null int64\n",
      "Atr21    170 non-null int64\n",
      "Atr22    170 non-null int64\n",
      "Atr23    170 non-null int64\n",
      "Atr24    170 non-null int64\n",
      "Atr25    170 non-null int64\n",
      "Atr26    170 non-null int64\n",
      "Atr27    170 non-null int64\n",
      "Atr28    170 non-null int64\n",
      "Atr29    170 non-null int64\n",
      "Atr30    170 non-null int64\n",
      "Atr31    170 non-null int64\n",
      "Atr32    170 non-null int64\n",
      "Atr33    170 non-null int64\n",
      "Atr34    170 non-null int64\n",
      "Atr35    170 non-null int64\n",
      "Atr36    170 non-null int64\n",
      "Atr37    170 non-null int64\n",
      "Atr38    170 non-null int64\n",
      "Atr39    170 non-null int64\n",
      "Atr40    170 non-null int64\n",
      "Atr41    170 non-null int64\n",
      "Atr42    170 non-null int64\n",
      "Atr43    170 non-null int64\n",
      "Atr44    170 non-null int64\n",
      "Atr45    170 non-null int64\n",
      "Atr46    170 non-null int64\n",
      "Atr47    170 non-null int64\n",
      "Atr48    170 non-null int64\n",
      "Atr49    170 non-null int64\n",
      "Atr50    170 non-null int64\n",
      "Atr51    170 non-null int64\n",
      "Atr52    170 non-null int64\n",
      "Atr53    170 non-null int64\n",
      "Atr54    170 non-null int64\n",
      "Class    170 non-null int64\n",
      "dtypes: int64(55)\n",
      "memory usage: 73.2 KB\n"
     ]
    }
   ],
   "source": [
    "divorce.info()"
   ]
  },
  {
   "cell_type": "code",
   "execution_count": 29,
   "metadata": {},
   "outputs": [
    {
     "name": "stdout",
     "output_type": "stream",
     "text": [
      "0    1\n",
      "Name: Class, dtype: int64\n"
     ]
    }
   ],
   "source": [
    "divorce.head(3)\n",
    "print(divorce.iloc[:,-1])"
   ]
  },
  {
   "cell_type": "code",
   "execution_count": 32,
   "metadata": {},
   "outputs": [],
   "source": [
    "# 데이터의 라벨과 피처 분리\n",
    "divorce_label=divorce.iloc[:,-1]\n",
    "divorce_feature=divorce.drop('Class', axis=1, inplace=False)"
   ]
  },
  {
   "cell_type": "code",
   "execution_count": 33,
   "metadata": {
    "scrolled": true
   },
   "outputs": [
    {
     "name": "stdout",
     "output_type": "stream",
     "text": [
      "0      1\n",
      "1      1\n",
      "2      1\n",
      "3      1\n",
      "4      1\n",
      "      ..\n",
      "165    0\n",
      "166    0\n",
      "167    0\n",
      "168    0\n",
      "169    0\n",
      "Name: Class, Length: 170, dtype: int64\n",
      "     Atr1  Atr2  Atr3  Atr4  Atr5  Atr6  Atr7  Atr8  Atr9  Atr10  ...  Atr45  \\\n",
      "0       2     2     4     1     0     0     0     0     0      0  ...      3   \n",
      "1       4     4     4     4     4     0     0     4     4      4  ...      2   \n",
      "2       2     2     2     2     1     3     2     1     1      2  ...      2   \n",
      "3       3     2     3     2     3     3     3     3     3      3  ...      3   \n",
      "4       2     2     1     1     1     1     0     0     0      0  ...      2   \n",
      "..    ...   ...   ...   ...   ...   ...   ...   ...   ...    ...  ...    ...   \n",
      "165     0     0     0     0     0     0     0     0     0      0  ...      0   \n",
      "166     0     0     0     0     0     0     0     0     0      0  ...      3   \n",
      "167     1     1     0     0     0     0     0     0     0      1  ...      2   \n",
      "168     0     0     0     0     0     0     0     0     0      0  ...      4   \n",
      "169     0     0     0     0     0     0     0     1     0      0  ...      1   \n",
      "\n",
      "     Atr46  Atr47  Atr48  Atr49  Atr50  Atr51  Atr52  Atr53  Atr54  \n",
      "0        2      1      3      3      3      2      3      2      1  \n",
      "1        2      2      3      4      4      4      4      2      2  \n",
      "2        3      2      3      1      1      1      2      2      2  \n",
      "3        2      2      3      3      3      3      2      2      2  \n",
      "4        2      1      2      3      2      2      2      1      0  \n",
      "..     ...    ...    ...    ...    ...    ...    ...    ...    ...  \n",
      "165      1      0      4      1      1      4      2      2      2  \n",
      "166      4      1      2      2      2      2      3      2      2  \n",
      "167      3      0      2      0      1      1      3      0      0  \n",
      "168      3      3      2      2      3      2      4      3      1  \n",
      "169      3      4      4      0      1      3      3      3      1  \n",
      "\n",
      "[170 rows x 54 columns]\n"
     ]
    }
   ],
   "source": [
    "print(divorce_label)\n",
    "print(divorce_feature)"
   ]
  },
  {
   "cell_type": "code",
   "execution_count": 35,
   "metadata": {
    "scrolled": true
   },
   "outputs": [
    {
     "name": "stdout",
     "output_type": "stream",
     "text": [
      "<class 'pandas.core.frame.DataFrame'>\n",
      "Int64Index: 136 entries, 51 to 153\n",
      "Data columns (total 54 columns):\n",
      "Atr1     136 non-null int64\n",
      "Atr2     136 non-null int64\n",
      "Atr3     136 non-null int64\n",
      "Atr4     136 non-null int64\n",
      "Atr5     136 non-null int64\n",
      "Atr6     136 non-null int64\n",
      "Atr7     136 non-null int64\n",
      "Atr8     136 non-null int64\n",
      "Atr9     136 non-null int64\n",
      "Atr10    136 non-null int64\n",
      "Atr11    136 non-null int64\n",
      "Atr12    136 non-null int64\n",
      "Atr13    136 non-null int64\n",
      "Atr14    136 non-null int64\n",
      "Atr15    136 non-null int64\n",
      "Atr16    136 non-null int64\n",
      "Atr17    136 non-null int64\n",
      "Atr18    136 non-null int64\n",
      "Atr19    136 non-null int64\n",
      "Atr20    136 non-null int64\n",
      "Atr21    136 non-null int64\n",
      "Atr22    136 non-null int64\n",
      "Atr23    136 non-null int64\n",
      "Atr24    136 non-null int64\n",
      "Atr25    136 non-null int64\n",
      "Atr26    136 non-null int64\n",
      "Atr27    136 non-null int64\n",
      "Atr28    136 non-null int64\n",
      "Atr29    136 non-null int64\n",
      "Atr30    136 non-null int64\n",
      "Atr31    136 non-null int64\n",
      "Atr32    136 non-null int64\n",
      "Atr33    136 non-null int64\n",
      "Atr34    136 non-null int64\n",
      "Atr35    136 non-null int64\n",
      "Atr36    136 non-null int64\n",
      "Atr37    136 non-null int64\n",
      "Atr38    136 non-null int64\n",
      "Atr39    136 non-null int64\n",
      "Atr40    136 non-null int64\n",
      "Atr41    136 non-null int64\n",
      "Atr42    136 non-null int64\n",
      "Atr43    136 non-null int64\n",
      "Atr44    136 non-null int64\n",
      "Atr45    136 non-null int64\n",
      "Atr46    136 non-null int64\n",
      "Atr47    136 non-null int64\n",
      "Atr48    136 non-null int64\n",
      "Atr49    136 non-null int64\n",
      "Atr50    136 non-null int64\n",
      "Atr51    136 non-null int64\n",
      "Atr52    136 non-null int64\n",
      "Atr53    136 non-null int64\n",
      "Atr54    136 non-null int64\n",
      "dtypes: int64(54)\n",
      "memory usage: 58.4 KB\n",
      "None\n"
     ]
    }
   ],
   "source": [
    "print(X_train.info())"
   ]
  },
  {
   "cell_type": "code",
   "execution_count": 36,
   "metadata": {},
   "outputs": [
    {
     "name": "stdout",
     "output_type": "stream",
     "text": [
      "1    68\n",
      "0    68\n",
      "Name: Class, dtype: int64\n"
     ]
    }
   ],
   "source": [
    "print(y_train.value_counts())"
   ]
  },
  {
   "cell_type": "code",
   "execution_count": 38,
   "metadata": {},
   "outputs": [],
   "source": [
    "# 본격적으로 결정트리 돌려보기\n",
    "from sklearn.model_selection import train_test_split\n",
    "from sklearn.tree import DecisionTreeClassifier\n",
    "from sklearn.metrics import accuracy_score"
   ]
  },
  {
   "cell_type": "code",
   "execution_count": 34,
   "metadata": {},
   "outputs": [],
   "source": [
    "X_train, X_test, y_train, y_test=train_test_split(divorce_feature, divorce_label,\n",
    "                                                 test_size=0.2, random_state=11)"
   ]
  },
  {
   "cell_type": "code",
   "execution_count": 39,
   "metadata": {},
   "outputs": [
    {
     "name": "stdout",
     "output_type": "stream",
     "text": [
      "결정 트리 예측 정확도: 0.9706\n",
      "DecisionTreeClassifier 기본 하이퍼 파라미터:\n",
      " {'class_weight': None, 'criterion': 'gini', 'max_depth': None, 'max_features': None, 'max_leaf_nodes': None, 'min_impurity_decrease': 0.0, 'min_impurity_split': None, 'min_samples_leaf': 1, 'min_samples_split': 2, 'min_weight_fraction_leaf': 0.0, 'presort': False, 'random_state': 156, 'splitter': 'best'}\n"
     ]
    }
   ],
   "source": [
    "# 예제 반복 시마다 동일한 에측 결과 도출을 위해 random_state 설정\n",
    "dt_clf=DecisionTreeClassifier(random_state=156)\n",
    "dt_clf.fit(X_train, y_train) # 학습\n",
    "pred=dt_clf.predict(X_test) # 예측\n",
    "accuracy=accuracy_score(y_test, pred) # 정확도 평가\n",
    "print('결정 트리 예측 정확도: {0:.4f}'.format(accuracy))\n",
    "\n",
    "# DecisionTreeClassifier의 하이퍼 파라미터 추출\n",
    "print('DecisionTreeClassifier 기본 하이퍼 파라미터:\\n', dt_clf.get_params()) # 디폴트 하이퍼 파라미터"
   ]
  },
  {
   "cell_type": "markdown",
   "metadata": {},
   "source": [
    "#### => min_samples_leaf가 1로, min_samples_split이 2로, 샘플이 한개일때까지 말단 노드로 분류하고 샘플이 두개일때까지 계속 가지를 내리니까 과적합이 일어나 정확도가 97%로 매우 높음.\n",
    "#### 하이퍼 파라미터를 튜닝해보자."
   ]
  },
  {
   "cell_type": "code",
   "execution_count": 40,
   "metadata": {},
   "outputs": [],
   "source": [
    "from sklearn.model_selection import GridSearchCV"
   ]
  },
  {
   "cell_type": "code",
   "execution_count": 41,
   "metadata": {},
   "outputs": [
    {
     "name": "stdout",
     "output_type": "stream",
     "text": [
      "Fitting 3 folds for each of 16 candidates, totalling 48 fits\n"
     ]
    },
    {
     "name": "stderr",
     "output_type": "stream",
     "text": [
      "[Parallel(n_jobs=1)]: Using backend SequentialBackend with 1 concurrent workers.\n"
     ]
    },
    {
     "name": "stdout",
     "output_type": "stream",
     "text": [
      "GridSearchCV 최고 평균 정확도 수치: 0.9706\n",
      "GridSearchCV 최적 하이퍼 파라미터: {'max_depth': 6, 'min_samples_leaf': 4, 'min_samples_split': 10}\n"
     ]
    },
    {
     "name": "stderr",
     "output_type": "stream",
     "text": [
      "[Parallel(n_jobs=1)]: Done  48 out of  48 | elapsed:    0.2s finished\n"
     ]
    }
   ],
   "source": [
    "#### max_depth와 min_samples_split을 같이 변경하면서 정확도 성능 튜닝하기\n",
    "params={\n",
    "    'max_depth' : [6,8,12,16],\n",
    "    'min_samples_split' : [10,24],\n",
    "    'min_samples_leaf' : [4, 6]\n",
    "}\n",
    "\n",
    "grid_cv=GridSearchCV(dt_clf, param_grid=params, scoring='accuracy', cv=3, verbose=1)\n",
    "grid_cv.fit(X_train, y_train)\n",
    "print('GridSearchCV 최고 평균 정확도 수치: {0:.4f}'.format(grid_cv.best_score_))\n",
    "print('GridSearchCV 최적 하이퍼 파라미터:', grid_cv.best_params_)"
   ]
  },
  {
   "cell_type": "markdown",
   "metadata": {},
   "source": [
    "#### => 데이터가 너무 작고 이진분류에 최적화되어있어서 재미가 없음. 다른 데이터로 해보자!"
   ]
  },
  {
   "cell_type": "code",
   "execution_count": null,
   "metadata": {},
   "outputs": [],
   "source": []
  }
 ],
 "metadata": {
  "kernelspec": {
   "display_name": "Python 3",
   "language": "python",
   "name": "python3"
  },
  "language_info": {
   "codemirror_mode": {
    "name": "ipython",
    "version": 3
   },
   "file_extension": ".py",
   "mimetype": "text/x-python",
   "name": "python",
   "nbconvert_exporter": "python",
   "pygments_lexer": "ipython3",
   "version": "3.7.4"
  }
 },
 "nbformat": 4,
 "nbformat_minor": 2
}
